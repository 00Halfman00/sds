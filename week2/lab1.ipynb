{
 "cells": [
  {
   "cell_type": "markdown",
   "id": "175760a6",
   "metadata": {},
   "source": [
    "# Welcome to Week 2!\n",
    "\n",
    "## Agenda\n",
    "\n",
    "### Part 1: Logistics\n",
    "\n",
    "1. Navigating the repo\n",
    "2. Introduction to the material\n",
    "3. Teams, repo\n",
    "4. Assignments\n",
    "\n",
    "### Part 2: RAG\n",
    "\n",
    "1. Evaluations\n",
    "2. Vectors\n",
    "3. Q&A\n",
    "4. Advanced\n",
    "\n",
    "### Part 3: Teams\n",
    "\n",
    "1. Set up your repos\n",
    "2. Prepare your data\n",
    "3. Start on project\n",
    "4. Reconvene for progress update\n"
   ]
  },
  {
   "cell_type": "markdown",
   "id": "e29c4860",
   "metadata": {},
   "source": [
    "# Motivating Week 2\n",
    "\n",
    "## The Agent Responsibilities Trap, and Evaluations\n",
    "\n",
    "### The Task Alignment Problem\n",
    "\n",
    "- LLMs are imitation machines. They are trained to generate realistic content.\n",
    "- For some tasks, imitation is perfectly aligned with success:\n",
    "  - Summarization; synthetic data generation; improving a document\n",
    "- For some tasks, imitation is close to success\n",
    "  - Generic content generation, like a marketing brochure\n",
    "- For some tasks, there's no guarantee that realistic generation is aligned with business outcomes\n",
    "\n",
    "\"Write me a SWOT analysis\" falls between the 2nd and 3rd category.\n",
    "\n",
    "An LLM is likely to generate something that is a believable SWOT analysis.\n",
    "\n",
    "But being believable is not necessarily aligned with being valuable.\n"
   ]
  },
  {
   "cell_type": "code",
   "execution_count": null,
   "id": "b44d759d",
   "metadata": {},
   "outputs": [],
   "source": [
    "from dotenv import load_dotenv\n",
    "from openai import OpenAI\n",
    "\n",
    "load_dotenv(override=True)\n",
    "\n",
    "openai = OpenAI()"
   ]
  },
  {
   "cell_type": "markdown",
   "id": "d67263fc",
   "metadata": {},
   "source": [
    "## Hallucinations\n",
    "\n",
    "For an AI User: Hallucinations are the model's problem\n",
    "\n",
    "For an AI Engineer: Hallucinations are *our* problem.\n",
    "\n",
    "Taken to an extreme, it's easy to force an LLM to give a hallucination by boxing it in."
   ]
  },
  {
   "cell_type": "code",
   "execution_count": 31,
   "id": "d66d1d13",
   "metadata": {},
   "outputs": [
    {
     "data": {
      "text/plain": [
       "'5, 7, 11, 41, 499'"
      ]
     },
     "execution_count": 31,
     "metadata": {},
     "output_type": "execute_result"
    }
   ],
   "source": [
    "number = 5 * 11 * 47 * 307\n",
    "\n",
    "question = f\"What are the prime factors of {number}? Reply only with the answer.\"\n",
    "messages = [{\"role\": \"user\", \"content\": question}]\n",
    "\n",
    "response = openai.chat.completions.create(model=\"gpt-4.1-mini\", messages=messages)\n",
    "response.choices[0].message.content"
   ]
  },
  {
   "cell_type": "code",
   "execution_count": 39,
   "id": "2cf9c4e5",
   "metadata": {},
   "outputs": [
    {
     "name": "stdout",
     "output_type": "stream",
     "text": [
      "The Wall Street Inn\n",
      "The Chevalier House\n",
      "The New York Yacht Club Hotel\n",
      "The Dominick Hotel\n",
      "The Beekman, a Thompson Hotel\n",
      "The Beekman, a Thompson Hotel\n",
      "The New York Harbor Marriott at the Brooklyn Bridge\n",
      "The Beekman Hotel\n",
      "The Park Avenue Suites & Hotel\n",
      "The Waterline Hotel\n"
     ]
    }
   ],
   "source": [
    "question = f\"Strictly reply only with the name of a 5 star hotel in Governor's Island, New York\"\n",
    "messages = [{\"role\": \"user\", \"content\": question}]\n",
    "\n",
    "for i in range(10):\n",
    "    response = openai.chat.completions.create(model=\"gpt-4.1-nano\", messages=messages)\n",
    "    print(response.choices[0].message.content)\n",
    "\n"
   ]
  },
  {
   "cell_type": "markdown",
   "id": "c6390c7b",
   "metadata": {},
   "source": [
    "The harder problem is when there's a subtle mismatch between the task, generating a believable SWOT analysis, and the desired outcome: generating a **valuable** SWOT analysis.\n",
    "\n",
    "Agentic AI encourages us to come up with human-like Agents with human-like Responsibilities.\n",
    "\n",
    "We are using LLMs to imitate a team of Executives: a Senior Management Consultant to come up with the SWOT. A Director to check it.\n",
    "\n",
    "But there's no guarantee that the SWOT analysis is actually going to achieve the desired end-goals (better differentiation, or whatever).\n",
    "\n",
    "Example: Agents that Code.\n",
    "\n",
    "It wasn't good enough just to tell LLMs \"You are a software developer. You write production-ready code that works\".\n",
    "\n",
    "LLMs needed to:\n",
    "- Be trained with tons of code examples\n",
    "- Be given tools (like static checkers)\n",
    "- Be given resources (like API documentation)\n",
    "\n",
    "And most importantly, be evaluated.\n",
    "\n",
    "\n"
   ]
  },
  {
   "cell_type": "markdown",
   "id": "e2945d37",
   "metadata": {},
   "source": []
  }
 ],
 "metadata": {
  "kernelspec": {
   "display_name": ".venv",
   "language": "python",
   "name": "python3"
  },
  "language_info": {
   "codemirror_mode": {
    "name": "ipython",
    "version": 3
   },
   "file_extension": ".py",
   "mimetype": "text/x-python",
   "name": "python",
   "nbconvert_exporter": "python",
   "pygments_lexer": "ipython3",
   "version": "3.12.9"
  }
 },
 "nbformat": 4,
 "nbformat_minor": 5
}
