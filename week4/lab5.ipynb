{
 "cells": [
  {
   "cell_type": "markdown",
   "metadata": {},
   "source": [
    "# Lab 5\n",
    "\n",
    "## Context Engineering\n",
    "\n",
    "We want to develop several types of Memory:\n",
    "\n",
    "1. Long Term Memory - graph\n",
    "\n",
    "A knowledge graph as a persistent store of entities\n",
    "\n",
    "2. Long Term Memory - knowledge\n",
    "\n",
    "A RAG database of Q&A and any other useful information\n",
    "\n",
    "3. Permanent context\n",
    "\n",
    "Summary and linkedin profile included in everything\n",
    "\n",
    "4. FAQ\n",
    "\n",
    "A fixed list of "
   ]
  },
  {
   "cell_type": "markdown",
   "metadata": {},
   "source": []
  },
  {
   "cell_type": "code",
   "execution_count": 28,
   "metadata": {},
   "outputs": [
    {
     "data": {
      "text/plain": [
       "True"
      ]
     },
     "execution_count": 28,
     "metadata": {},
     "output_type": "execute_result"
    }
   ],
   "source": [
    "from dotenv import load_dotenv\n",
    "from agents.mcp import MCPServerStdio\n",
    "import sqlite3\n",
    "load_dotenv(override=True)"
   ]
  },
  {
   "cell_type": "code",
   "execution_count": 29,
   "metadata": {},
   "outputs": [],
   "source": [
    "memory_graph_params = {\"command\": \"npx\",\"args\": [\"-y\", \"mcp-memory-libsql\"],\"env\": {\"LIBSQL_URL\": \"file:./twin/memory/graph.db\"}}"
   ]
  },
  {
   "cell_type": "code",
   "execution_count": 30,
   "metadata": {},
   "outputs": [
    {
     "data": {
      "text/plain": [
       "[Tool(name='create_entities', title=None, description='Create new entities with observations and optional embeddings', inputSchema={'type': 'object', 'properties': {'entities': {'type': 'array', 'items': {'type': 'object', 'properties': {'name': {'type': 'string'}, 'entityType': {'type': 'string'}, 'observations': {'type': 'array', 'items': {'type': 'string'}}, 'embedding': {'type': 'array', 'items': {'type': 'number'}, 'description': 'Optional vector embedding for similarity search'}}, 'required': ['name', 'entityType', 'observations']}}}, 'required': ['entities']}, outputSchema=None, annotations=None, meta=None),\n",
       " Tool(name='search_nodes', title=None, description='Search for entities and their relations using text or vector similarity', inputSchema={'type': 'object', 'properties': {'query': {'oneOf': [{'type': 'string', 'description': 'Text search query'}, {'type': 'array', 'items': {'type': 'number'}, 'description': 'Vector for similarity search'}]}}, 'required': ['query']}, outputSchema=None, annotations=None, meta=None),\n",
       " Tool(name='read_graph', title=None, description='Get recent entities and their relations', inputSchema={'type': 'object', 'properties': {}, 'required': []}, outputSchema=None, annotations=None, meta=None),\n",
       " Tool(name='create_relations', title=None, description='Create relations between entities', inputSchema={'type': 'object', 'properties': {'relations': {'type': 'array', 'items': {'type': 'object', 'properties': {'source': {'type': 'string'}, 'target': {'type': 'string'}, 'type': {'type': 'string'}}, 'required': ['source', 'target', 'type']}}}, 'required': ['relations']}, outputSchema=None, annotations=None, meta=None),\n",
       " Tool(name='delete_entity', title=None, description='Delete an entity and all its associated data (observations and relations)', inputSchema={'type': 'object', 'properties': {'name': {'type': 'string', 'description': 'Name of the entity to delete'}}, 'required': ['name']}, outputSchema=None, annotations=None, meta=None),\n",
       " Tool(name='delete_relation', title=None, description='Delete a specific relation between entities', inputSchema={'type': 'object', 'properties': {'source': {'type': 'string', 'description': 'Source entity name'}, 'target': {'type': 'string', 'description': 'Target entity name'}, 'type': {'type': 'string', 'description': 'Type of relation'}}, 'required': ['source', 'target', 'type']}, outputSchema=None, annotations=None, meta=None)]"
      ]
     },
     "execution_count": 30,
     "metadata": {},
     "output_type": "execute_result"
    }
   ],
   "source": [
    "async with MCPServerStdio(params=memory_graph_params, client_session_timeout_seconds=30) as memory_graph:\n",
    "    memory_graph_tools = await memory_graph.session.list_tools()\n",
    "\n",
    "memory_graph_tools.tools"
   ]
  },
  {
   "cell_type": "code",
   "execution_count": 31,
   "metadata": {},
   "outputs": [],
   "source": [
    "memory_rag_params = {\n",
    "    \"command\": \"uvx\",\n",
    "    \"args\": [\"mcp-server-qdrant\"],\n",
    "    \"env\": {\n",
    "        \"QDRANT_LOCAL_PATH\": \"./twin/memory/knowledge/\",\n",
    "        \"COLLECTION_NAME\": \"knowledge\",\n",
    "        \"EMBEDDING_MODEL\": \"sentence-transformers/all-MiniLM-L6-v2\"\n",
    "    }\n",
    "}"
   ]
  },
  {
   "cell_type": "code",
   "execution_count": 32,
   "metadata": {},
   "outputs": [
    {
     "data": {
      "text/plain": [
       "[Tool(name='qdrant-find', title=None, description='Look up memories in Qdrant. Use this tool when you need to: \\n - Find memories by their content \\n - Access memories for further analysis \\n - Get some personal information about the user', inputSchema={'properties': {'query': {'description': 'What to search for', 'title': 'Query', 'type': 'string'}}, 'required': ['query'], 'type': 'object'}, outputSchema={'properties': {'result': {'items': {'type': 'string'}, 'title': 'Result', 'type': 'array'}}, 'required': ['result'], 'title': '_WrappedResult', 'type': 'object', 'x-fastmcp-wrap-result': True}, annotations=None, meta=None),\n",
       " Tool(name='qdrant-store', title=None, description='Keep the memory for later use, when you are asked to remember something.', inputSchema={'properties': {'information': {'description': 'Text to store', 'title': 'Information', 'type': 'string'}, 'metadata': {'anyOf': [{'additionalProperties': True, 'type': 'object'}, {'type': 'null'}], 'default': None, 'description': 'Extra metadata stored along with memorised information. Any json is accepted.', 'title': 'Metadata'}}, 'required': ['information'], 'type': 'object'}, outputSchema={'properties': {'result': {'title': 'Result', 'type': 'string'}}, 'required': ['result'], 'title': '_WrappedResult', 'type': 'object', 'x-fastmcp-wrap-result': True}, annotations=None, meta=None)]"
      ]
     },
     "execution_count": 32,
     "metadata": {},
     "output_type": "execute_result"
    }
   ],
   "source": [
    "async with MCPServerStdio(params=memory_rag_params, client_session_timeout_seconds=30) as memory_rag:\n",
    "    memory_rag_tools = await memory_rag.session.list_tools()\n",
    "\n",
    "memory_rag_tools.tools"
   ]
  },
  {
   "cell_type": "code",
   "execution_count": 2,
   "metadata": {},
   "outputs": [],
   "source": [
    "DB = \"./twin/memory/questions.db\"\n",
    "\n",
    "with sqlite3.connect(DB) as conn:\n",
    "    cursor = conn.cursor()\n",
    "    cursor.execute('''\n",
    "        CREATE TABLE IF NOT EXISTS questions (\n",
    "            id INTEGER PRIMARY KEY AUTOINCREMENT,\n",
    "            question TEXT,\n",
    "            answer TEXT\n",
    "        )\n",
    "    ''')\n",
    "    conn.commit()"
   ]
  },
  {
   "cell_type": "code",
   "execution_count": 25,
   "metadata": {},
   "outputs": [],
   "source": [
    "def record_question_with_no_answer(question: str) -> str:\n",
    "    with sqlite3.connect(DB) as conn:\n",
    "        cursor = conn.cursor()\n",
    "        cursor.execute(\"INSERT INTO questions (question, answer) VALUES (?, NULL)\", (question,))\n",
    "        conn.commit()\n",
    "        return \"Recorded question with no answer\"\n",
    "\n",
    "def get_questions_with_no_answer() -> str:\n",
    "    with sqlite3.connect(DB) as conn:\n",
    "        cursor = conn.cursor()\n",
    "        cursor.execute(\"SELECT id, question FROM questions WHERE answer IS NULL\")\n",
    "        rows = cursor.fetchall()\n",
    "        if rows:\n",
    "            return \"\\n\".join(f\"Question id {row[0]}: {row[1]}\" for row in rows)\n",
    "        else:\n",
    "            return \"No questions with no answer found\"\n",
    "\n",
    "def get_questions_with_answer() -> str:\n",
    "    with sqlite3.connect(DB) as conn:\n",
    "        cursor = conn.cursor()\n",
    "        cursor.execute(\"SELECT question, answer FROM questions WHERE answer IS NOT NULL\")\n",
    "        rows = cursor.fetchall()\n",
    "        return \"\\n\".join(f\"Question: {row[0]}\\nAnswer: {row[1]}\\n\" for row in rows)\n",
    "\n",
    "def record_answer_to_question(id: int, answer: str) -> str:\n",
    "    with sqlite3.connect(DB) as conn:\n",
    "        cursor = conn.cursor()\n",
    "        cursor.execute(\"UPDATE questions SET answer = ? WHERE id = ?\", (answer, id))\n",
    "        conn.commit()\n",
    "        return \"Recorded answer to question\""
   ]
  },
  {
   "cell_type": "code",
   "execution_count": 26,
   "metadata": {},
   "outputs": [
    {
     "data": {
      "text/plain": [
       "'No questions with no answer found'"
      ]
     },
     "execution_count": 26,
     "metadata": {},
     "output_type": "execute_result"
    }
   ],
   "source": [
    "get_questions_with_no_answer()"
   ]
  },
  {
   "cell_type": "code",
   "execution_count": 27,
   "metadata": {},
   "outputs": [
    {
     "name": "stdout",
     "output_type": "stream",
     "text": [
      "Question: What is your favorite color?\n",
      "Answer: Orange\n",
      "\n",
      "Question: What is your favorite fruit?\n",
      "Answer: Banana\n",
      "\n"
     ]
    }
   ],
   "source": [
    "print(get_questions_with_answer())"
   ]
  },
  {
   "cell_type": "code",
   "execution_count": 17,
   "metadata": {},
   "outputs": [],
   "source": [
    "record_question_with_no_answer(\"What is your favorite fruit?\")"
   ]
  },
  {
   "cell_type": "code",
   "execution_count": 19,
   "metadata": {},
   "outputs": [],
   "source": [
    "record_answer_to_question(2, \"Banana\")"
   ]
  },
  {
   "cell_type": "code",
   "execution_count": null,
   "metadata": {},
   "outputs": [],
   "source": []
  }
 ],
 "metadata": {
  "kernelspec": {
   "display_name": ".venv",
   "language": "python",
   "name": "python3"
  },
  "language_info": {
   "codemirror_mode": {
    "name": "ipython",
    "version": 3
   },
   "file_extension": ".py",
   "mimetype": "text/x-python",
   "name": "python",
   "nbconvert_exporter": "python",
   "pygments_lexer": "ipython3",
   "version": "3.12.9"
  }
 },
 "nbformat": 4,
 "nbformat_minor": 2
}
