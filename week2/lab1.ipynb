{
 "cells": [
  {
   "cell_type": "markdown",
   "id": "175760a6",
   "metadata": {},
   "source": [
    "# Welcome to Week 2!\n",
    "\n",
    "## Agenda\n",
    "\n",
    "### Part 1: Logistics\n",
    "\n",
    "1. Navigating the repo\n",
    "2. Introduction to the material\n",
    "3. Teams, repo\n",
    "4. Assignments\n",
    "\n",
    "### Part 2: RAG\n",
    "\n",
    "1. Evaluations\n",
    "2. Vectors\n",
    "3. Q&A\n",
    "4. Advanced\n",
    "\n",
    "### Part 3: Teams\n",
    "\n",
    "1. Set up your repos\n",
    "2. Prepare your data\n",
    "3. Start on project\n",
    "4. Reconvene for progress update\n"
   ]
  }
 ],
 "metadata": {
  "kernelspec": {
   "display_name": ".venv",
   "language": "python",
   "name": "python3"
  },
  "language_info": {
   "name": "python",
   "version": "3.12.9"
  }
 },
 "nbformat": 4,
 "nbformat_minor": 5
}
