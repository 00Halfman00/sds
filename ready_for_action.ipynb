{
 "cells": [
  {
   "cell_type": "markdown",
   "id": "f3cfb7e7",
   "metadata": {},
   "source": [
    "# To check you're ready for action!\n",
    "\n",
    "Have you followed the steps in the setup guide (linked in the README)?\n",
    "\n",
    "You've done a `uv sync` (you should see a directory called .venv in the top left)\n",
    "\n",
    "You've set up a key with OpenAI and you've created a `.env` file\n",
    "\n",
    "And you've looked through the guides in the guides directory.\n",
    "\n",
    "### OK - let's give this a try\n",
    "\n",
    "1. Click where it says \"Select Kernel\" in the top right\n",
    "\n",
    "2. Choose 'Python Environments' and then `.venv (Python 3.12.x)`\n",
    "\n",
    "3. Click in each \"cell\" with code below and press Shift + Return to run it..\n"
   ]
  },
  {
   "cell_type": "code",
   "execution_count": 1,
   "id": "4700a4b9",
   "metadata": {},
   "outputs": [],
   "source": [
    "# Some imports\n",
    "# If any errors, please check the Kernel, and head to the troubleshooting guide\n",
    "\n",
    "import os\n",
    "from dotenv import load_dotenv\n",
    "from openai import OpenAI\n",
    "from IPython.display import display, Markdown"
   ]
  },
  {
   "cell_type": "code",
   "execution_count": 2,
   "id": "d7e1a842",
   "metadata": {},
   "outputs": [
    {
     "name": "stdout",
     "output_type": "stream",
     "text": [
      "OpenAI API Key found and starts with sk-proj-\n"
     ]
    }
   ],
   "source": [
    "# Check the API key\n",
    "\n",
    "load_dotenv(override=True)\n",
    "api_key = os.getenv(\"OPENAI_API_KEY\")\n",
    "\n",
    "if api_key:\n",
    "    print(f\"OpenAI API Key found and starts with {api_key[:8]}\")\n",
    "else:\n",
    "    print(\"No OpenAI API Key found\")"
   ]
  },
  {
   "cell_type": "code",
   "execution_count": 3,
   "id": "e8ed67b4",
   "metadata": {},
   "outputs": [
    {
     "data": {
      "text/markdown": [
       "# Please post this message on Slack to prove you got here!!\n",
       "\n",
       "Congratulations — you’re about to start an incredible 8‑week journey into AI engineering and agentic AI! This is the moment to lean in with curiosity, energy, and confidence. You’ll stretch your skills, solve new kinds of problems, and learn to build systems that think and act — not just compute. That’s powerful.\n",
       "\n",
       "A few things to keep in mind as you begin:\n",
       "- Pace yourself: progress comes from steady practice. Small, daily wins compound into real mastery.\n",
       "- Embrace the uncomfortable: confusion and mistakes are signs you’re pushing boundaries. Each bug, failed experiment, and late-night aha! moves you forward.\n",
       "- Be hands‑on: code, test, iterate. Theory matters, but real learning happens when you build and break things.\n",
       "- Collaborate and ask questions: peers and mentors speed your growth. Explain ideas aloud — teaching is a supercharger for understanding.\n",
       "- Focus on foundations: strong fundamentals in ML, systems design, safety, and prompt/agent design will let you innovate confidently.\n",
       "- Keep the ethics front and center: agentic systems are powerful. Use that power responsibly — prioritize safety, transparency, and human values.\n",
       "- Celebrate progress: log wins, however small. Reflection will keep you motivated and show how far you’ve come.\n",
       "\n",
       "You’ve chosen a field that’s shaping the future. Over the next 8 weeks you’ll gain tools to create intelligent, useful, and responsible systems. Stay curious, stay disciplined, and remember: you don’t need to be perfect — you just need to keep moving. You’ve got this. Now go build something amazing."
      ],
      "text/plain": [
       "<IPython.core.display.Markdown object>"
      ]
     },
     "metadata": {},
     "output_type": "display_data"
    }
   ],
   "source": [
    "# Let's do this\n",
    "\n",
    "message = \"Please give me a motivational, inspiring, upbeat message to prepare me to start on an 8 week bootcamp on AI engineering and Agentic AI engineering.\"\n",
    "messages = [{'role': 'user', 'content': message}]\n",
    "\n",
    "openai = OpenAI()\n",
    "response = openai.chat.completions.create(model=\"gpt-5-mini\", messages=messages, reasoning_effort=\"minimal\", temperature=1.0)\n",
    "reply = response.choices[0].message.content\n",
    "\n",
    "display(Markdown(f\"# Please post this message on Slack to prove you got here!!\\n\\n{reply}\"))"
   ]
  },
  {
   "cell_type": "code",
   "execution_count": null,
   "id": "40b63929",
   "metadata": {},
   "outputs": [],
   "source": []
  }
 ],
 "metadata": {
  "kernelspec": {
   "display_name": ".venv",
   "language": "python",
   "name": "python3"
  },
  "language_info": {
   "codemirror_mode": {
    "name": "ipython",
    "version": 3
   },
   "file_extension": ".py",
   "mimetype": "text/x-python",
   "name": "python",
   "nbconvert_exporter": "python",
   "pygments_lexer": "ipython3",
   "version": "3.12.11"
  }
 },
 "nbformat": 4,
 "nbformat_minor": 5
}
