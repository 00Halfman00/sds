{
 "cells": [
  {
   "cell_type": "markdown",
   "metadata": {},
   "source": [
    "# Lab 2: RAG - Reading Knowledge Base and Token Counting\n",
    "\n",
    "In this lab, we'll read the entire Insurellm knowledge base and count the tokens."
   ]
  },
  {
   "cell_type": "code",
   "execution_count": null,
   "metadata": {},
   "outputs": [],
   "source": [
    "import os\n",
    "import glob\n",
    "import tiktoken\n",
    "import numpy as np\n",
    "from IPython.display import Markdown, display\n",
    "\n",
    "from langchain.document_loaders import DirectoryLoader, TextLoader\n",
    "from langchain.text_splitter import CharacterTextSplitter\n",
    "from langchain_openai import OpenAIEmbeddings, ChatOpenAI\n",
    "from langchain_chroma import Chroma\n",
    "from sklearn.manifold import TSNE\n",
    "import plotly.graph_objects as go\n",
    "\n",
    "from langchain.chains import create_retrieval_chain\n",
    "from langchain.chains.combine_documents import create_stuff_documents_chain\n",
    "from langchain_core.prompts import ChatPromptTemplate"
   ]
  },
  {
   "cell_type": "code",
   "execution_count": 2,
   "metadata": {},
   "outputs": [],
   "source": [
    "MODEL = \"gpt-4.1-mini\"\n",
    "db_name = \"vector_db\""
   ]
  },
  {
   "cell_type": "code",
   "execution_count": 3,
   "metadata": {},
   "outputs": [
    {
     "name": "stdout",
     "output_type": "stream",
     "text": [
      "Found 76 files in the knowledge base\n",
      "Total characters in knowledge base: 304,434\n"
     ]
    }
   ],
   "source": [
    "knowledge_base_path = \"knowledge-base/**/*.md\"\n",
    "files = glob.glob(knowledge_base_path, recursive=True)\n",
    "print(f\"Found {len(files)} files in the knowledge base\")\n",
    "\n",
    "entire_knowledge_base = \"\"\n",
    "\n",
    "for file_path in files:\n",
    "    with open(file_path, 'r', encoding='utf-8') as f:\n",
    "        entire_knowledge_base += f.read()\n",
    "        entire_knowledge_base += \"\\n\\n\"  # Add separator between files\n",
    "\n",
    "print(f\"Total characters in knowledge base: {len(entire_knowledge_base):,}\")"
   ]
  },
  {
   "cell_type": "code",
   "execution_count": 4,
   "metadata": {},
   "outputs": [
    {
     "name": "stdout",
     "output_type": "stream",
     "text": [
      "Total tokens for gpt-4.1-mini: 63,555\n"
     ]
    }
   ],
   "source": [
    "encoding = tiktoken.encoding_for_model(\"gpt-4.1-mini\")\n",
    "tokens = encoding.encode(entire_knowledge_base)\n",
    "token_count = len(tokens)\n",
    "print(f\"Total tokens for gpt-4.1-mini: {token_count:,}\")"
   ]
  },
  {
   "cell_type": "code",
   "execution_count": 5,
   "metadata": {},
   "outputs": [
    {
     "name": "stdout",
     "output_type": "stream",
     "text": [
      "Loaded 76 documents\n"
     ]
    }
   ],
   "source": [
    "folders = glob.glob(\"knowledge-base/*\")\n",
    "\n",
    "documents = []\n",
    "for folder in folders:\n",
    "    doc_type = os.path.basename(folder)\n",
    "    loader = DirectoryLoader(folder, glob=\"**/*.md\", loader_cls=TextLoader, loader_kwargs={'encoding': 'utf-8'})\n",
    "    folder_docs = loader.load()\n",
    "    for doc in folder_docs:\n",
    "        doc.metadata[\"doc_type\"] = doc_type\n",
    "        documents.append(doc)\n",
    "\n",
    "print(f\"Loaded {len(documents)} documents\")"
   ]
  },
  {
   "cell_type": "code",
   "execution_count": 6,
   "metadata": {},
   "outputs": [
    {
     "name": "stderr",
     "output_type": "stream",
     "text": [
      "Created a chunk of size 1088, which is longer than the specified 1000\n"
     ]
    },
    {
     "name": "stdout",
     "output_type": "stream",
     "text": [
      "Divided into 413 chunks\n"
     ]
    }
   ],
   "source": [
    "text_splitter = CharacterTextSplitter(chunk_size=1000, chunk_overlap=200)\n",
    "chunks = text_splitter.split_documents(documents)\n",
    "\n",
    "print(f\"Divided into {len(chunks)} chunks\")"
   ]
  },
  {
   "cell_type": "code",
   "execution_count": 7,
   "metadata": {},
   "outputs": [
    {
     "name": "stdout",
     "output_type": "stream",
     "text": [
      "Vectorstore created with 413 documents\n"
     ]
    }
   ],
   "source": [
    "embeddings = OpenAIEmbeddings()\n",
    "\n",
    "if os.path.exists(db_name):\n",
    "    Chroma(persist_directory=db_name, embedding_function=embeddings).delete_collection()\n",
    "\n",
    "vectorstore = Chroma.from_documents(documents=chunks, embedding=embeddings, persist_directory=db_name)\n",
    "print(f\"Vectorstore created with {vectorstore._collection.count()} documents\")"
   ]
  },
  {
   "cell_type": "code",
   "execution_count": 8,
   "metadata": {},
   "outputs": [
    {
     "data": {
      "text/markdown": [
       "### Seamless Integrations\n",
       "Rellm's architecture is designed for effortless integration with existing systems. Whether it's policy management, claims processing, or financial reporting, Rellm connects seamlessly with diverse data sources to create a unified ecosystem.\n",
       "\n",
       "### Risk Assessment Module\n",
       "The comprehensive risk assessment module within Rellm allows insurers to evaluate risk profiles accurately. By leveraging historical data and advanced modeling techniques, Rellm provides a clear picture of potential liabilities and expected outcomes.\n",
       "\n",
       "### Customizable Dashboard\n",
       "Rellm features a customizable dashboard that presents key metrics and performance indicators in an intuitive interface. Users can tailor their view to focus on what matters most to their business, enhancing user experience and productivity."
      ],
      "text/plain": [
       "<IPython.core.display.Markdown object>"
      ]
     },
     "metadata": {},
     "output_type": "display_data"
    }
   ],
   "source": [
    "display(Markdown(chunks[1].page_content))"
   ]
  },
  {
   "cell_type": "code",
   "execution_count": 9,
   "metadata": {},
   "outputs": [
    {
     "name": "stdout",
     "output_type": "stream",
     "text": [
      "There are 413 vectors with 1,536 dimensions in the vector store\n"
     ]
    }
   ],
   "source": [
    "collection = vectorstore._collection\n",
    "count = collection.count()\n",
    "\n",
    "sample_embedding = collection.get(limit=1, include=[\"embeddings\"])[\"embeddings\"][0]\n",
    "dimensions = len(sample_embedding)\n",
    "print(f\"There are {count:,} vectors with {dimensions:,} dimensions in the vector store\")"
   ]
  },
  {
   "cell_type": "code",
   "execution_count": 10,
   "metadata": {},
   "outputs": [],
   "source": [
    "result = collection.get(include=['embeddings', 'documents', 'metadatas'])\n",
    "vectors = np.array(result['embeddings'])\n",
    "documents = result['documents']\n",
    "metadatas = result['metadatas']\n",
    "doc_types = [metadata['source'].split('/')[1] for metadata in metadatas]\n",
    "colors = [['blue', 'green', 'red', 'orange'][['products', 'employees', 'contracts', 'company'].index(t)] for t in doc_types]"
   ]
  },
  {
   "cell_type": "code",
   "execution_count": 11,
   "metadata": {},
   "outputs": [
    {
     "data": {
      "application/vnd.plotly.v1+json": {
       "config": {
        "plotlyServerURL": "https://plot.ly"
       },
       "data": [
        {
         "hoverinfo": "text",
         "marker": {
          "color": [
           "blue",
           "blue",
           "blue",
           "blue",
           "blue",
           "blue",
           "blue",
           "blue",
           "blue",
           "blue",
           "blue",
           "blue",
           "blue",
           "blue",
           "blue",
           "blue",
           "blue",
           "blue",
           "blue",
           "blue",
           "blue",
           "blue",
           "blue",
           "blue",
           "blue",
           "blue",
           "blue",
           "blue",
           "blue",
           "blue",
           "blue",
           "blue",
           "blue",
           "blue",
           "blue",
           "blue",
           "blue",
           "blue",
           "blue",
           "blue",
           "blue",
           "blue",
           "blue",
           "blue",
           "blue",
           "blue",
           "blue",
           "red",
           "red",
           "red",
           "red",
           "red",
           "red",
           "red",
           "red",
           "red",
           "red",
           "red",
           "red",
           "red",
           "red",
           "red",
           "red",
           "red",
           "red",
           "red",
           "red",
           "red",
           "red",
           "red",
           "red",
           "red",
           "red",
           "red",
           "red",
           "red",
           "red",
           "red",
           "red",
           "red",
           "red",
           "red",
           "red",
           "red",
           "red",
           "red",
           "red",
           "red",
           "red",
           "red",
           "red",
           "red",
           "red",
           "red",
           "red",
           "red",
           "red",
           "red",
           "red",
           "red",
           "red",
           "red",
           "red",
           "red",
           "red",
           "red",
           "red",
           "red",
           "red",
           "red",
           "red",
           "red",
           "red",
           "red",
           "red",
           "red",
           "red",
           "red",
           "red",
           "red",
           "red",
           "red",
           "red",
           "red",
           "red",
           "red",
           "red",
           "red",
           "red",
           "red",
           "red",
           "red",
           "red",
           "red",
           "red",
           "red",
           "red",
           "red",
           "red",
           "red",
           "red",
           "red",
           "red",
           "red",
           "red",
           "red",
           "red",
           "red",
           "red",
           "red",
           "red",
           "red",
           "red",
           "red",
           "red",
           "red",
           "red",
           "red",
           "red",
           "red",
           "red",
           "red",
           "red",
           "red",
           "red",
           "red",
           "red",
           "red",
           "red",
           "red",
           "red",
           "red",
           "red",
           "red",
           "red",
           "red",
           "red",
           "red",
           "red",
           "red",
           "red",
           "red",
           "red",
           "red",
           "red",
           "red",
           "red",
           "red",
           "red",
           "red",
           "red",
           "red",
           "red",
           "red",
           "red",
           "red",
           "red",
           "red",
           "red",
           "red",
           "red",
           "red",
           "red",
           "red",
           "red",
           "red",
           "red",
           "red",
           "red",
           "red",
           "red",
           "red",
           "red",
           "red",
           "red",
           "red",
           "red",
           "red",
           "red",
           "red",
           "red",
           "red",
           "red",
           "red",
           "red",
           "red",
           "red",
           "red",
           "red",
           "red",
           "red",
           "red",
           "red",
           "red",
           "red",
           "red",
           "red",
           "red",
           "red",
           "red",
           "red",
           "red",
           "red",
           "red",
           "red",
           "red",
           "red",
           "red",
           "red",
           "red",
           "red",
           "red",
           "red",
           "red",
           "red",
           "red",
           "red",
           "red",
           "red",
           "red",
           "red",
           "red",
           "red",
           "red",
           "red",
           "red",
           "red",
           "red",
           "red",
           "red",
           "red",
           "red",
           "red",
           "red",
           "red",
           "red",
           "red",
           "red",
           "orange",
           "orange",
           "orange",
           "orange",
           "orange",
           "orange",
           "orange",
           "orange",
           "orange",
           "orange",
           "orange",
           "orange",
           "orange",
           "orange",
           "orange",
           "orange",
           "orange",
           "orange",
           "green",
           "green",
           "green",
           "green",
           "green",
           "green",
           "green",
           "green",
           "green",
           "green",
           "green",
           "green",
           "green",
           "green",
           "green",
           "green",
           "green",
           "green",
           "green",
           "green",
           "green",
           "green",
           "green",
           "green",
           "green",
           "green",
           "green",
           "green",
           "green",
           "green",
           "green",
           "green",
           "green",
           "green",
           "green",
           "green",
           "green",
           "green",
           "green",
           "green",
           "green",
           "green",
           "green",
           "green",
           "green",
           "green",
           "green",
           "green",
           "green",
           "green",
           "green",
           "green",
           "green",
           "green",
           "green",
           "green",
           "green",
           "green",
           "green",
           "green",
           "green",
           "green",
           "green",
           "green",
           "green",
           "green",
           "green",
           "green",
           "green",
           "green",
           "green",
           "green",
           "green",
           "green",
           "green",
           "green",
           "green",
           "green",
           "green",
           "green",
           "green",
           "green",
           "green",
           "green",
           "green",
           "green",
           "green",
           "green",
           "green",
           "green",
           "green",
           "green",
           "green",
           "green",
           "green",
           "green",
           "green",
           "green",
           "green",
           "green",
           "green",
           "green",
           "green",
           "green",
           "green",
           "green",
           "green",
           "green",
           "green",
           "green",
           "green",
           "green",
           "green",
           "green",
           "green",
           "green",
           "green"
          ],
          "opacity": 0.8,
          "size": 5
         },
         "mode": "markers",
         "text": [
          "Type: products<br>Text: # Product Summary\n\n# Rellm: AI-Powered Enterprise Reinsurance Solution\n\n## Summary\n\nRellm is an inno...",
          "Type: products<br>Text: ### Seamless Integrations\nRellm's architecture is designed for effortless integration with existing ...",
          "Type: products<br>Text: ### Regulatory Compliance Tools\nRellm includes built-in compliance tracking features to help organiz...",
          "Type: products<br>Text: Join the growing number of organizations leveraging Rellm to enhance their reinsurance processes whi...",
          "Type: products<br>Text: Experience the future of reinsurance with Rellm, where innovation meets reliability. Let Insurellm h...",
          "Type: products<br>Text: # Product Summary\n\n# Claimllm\n\n## Summary\n\nClaimllm is Insurellm's revolutionary claims processing p...",
          "Type: products<br>Text: ## Features\n\n### 1. Intelligent FNOL Processing\nClaimllm's AI-powered first notice of loss intake ca...",
          "Type: products<br>Text: ### 4. Predictive Fraud Detection\nSophisticated fraud analytics evaluate claims against historical p...",
          "Type: products<br>Text: ### 7. Vendor Management Platform\nIntegrated tools coordinate with repair shops, medical providers, ...",
          "Type: products<br>Text: ### 10. Analytics and Reporting\nComprehensive dashboards track key metrics including cycle time, los...",
          "Type: products<br>Text: All tiers include comprehensive implementation, claims staff training, and continuous platform enhan...",
          "Type: products<br>Text: Claimllm represents the future of insurance claims—faster, smarter, and more customer-centric. Trans...",
          "Type: products<br>Text: # Product Summary\n\n# Bizllm\n\n## Summary\n\nBizllm is Insurellm's enterprise-grade commercial insurance...",
          "Type: products<br>Text: ## Features\n\n### 1. Multi-Line Underwriting Engine\nBizllm's sophisticated underwriting platform hand...",
          "Type: products<br>Text: ### 4. Workers' Compensation Optimization\nIntegrated workers' comp tools analyze payroll data, indus...",
          "Type: products<br>Text: ### 7. Portfolio Management Dashboard\nComprehensive analytics provide insurers with portfolio-level ...",
          "Type: products<br>Text: ## Pricing\n\nBizllm's pricing structure reflects the complexity and value of commercial insurance ope...",
          "Type: products<br>Text: All tiers include implementation services, staff training, and continuous platform updates.\n\n## Road...",
          "Type: products<br>Text: Bizllm empowers commercial insurers to compete effectively in complex markets while delivering the d...",
          "Type: products<br>Text: # Product Summary\n\n# Lifellm\n\n## Summary\n\nLifellm is an advanced life insurance platform developed b...",
          "Type: products<br>Text: ### 2. Predictive Risk Modeling\nAdvanced machine learning algorithms assess mortality risk by analyz...",
          "Type: products<br>Text: ### 5. Smart Document Processing\nLifellm utilizes natural language processing and optical character ...",
          "Type: products<br>Text: ## Pricing\n\nLifellm's flexible pricing structure accommodates insurance providers of all sizes:\n\n- *...",
          "Type: products<br>Text: All tiers include comprehensive onboarding, training programs, and regular platform updates.\n\n## Roa...",
          "Type: products<br>Text: With Lifellm, Insurellm is transforming life insurance into a modern, customer-centric experience th...",
          "Type: products<br>Text: # Product Summary\n\n# Healthllm\n\n## Summary\n\nHealthllm is Insurellm's comprehensive health insurance ...",
          "Type: products<br>Text: ### 2. Real-Time Eligibility Verification\nIntegrated eligibility checking ensures instant verificati...",
          "Type: products<br>Text: ### 5. Provider Network Management\nComprehensive tools for managing provider relationships, contract...",
          "Type: products<br>Text: ### 8. Regulatory Compliance Engine\nBuilt-in compliance monitoring ensures adherence to ACA requirem...",
          "Type: products<br>Text: All plans include implementation support, staff training, and ongoing platform enhancements.\n\n## Roa...",
          "Type: products<br>Text: Healthllm represents Insurellm's commitment to transforming health insurance through technology that...",
          "Type: products<br>Text: # Product Summary\n\n# Markellm\n\n## Summary\n\nMarkellm is an innovative two-sided marketplace designed ...",
          "Type: products<br>Text: - **User-Friendly Interface**: Designed with user experience in mind, Markellm features an intuitive...",
          "Type: products<br>Text: - **Customer Support**: Our dedicated support team is always available to assist both consumers and ...",
          "Type: products<br>Text: ### For Insurance Companies:\n- **Basic Listing Fee**: $199/month for a featured listing on the platf...",
          "Type: products<br>Text: ### Q3 2025\n- Initiate a comprehensive marketing campaign targeting both consumers and insurers to i...",
          "Type: products<br>Text: # Product Summary\n\n# Homellm\n\n## Summary\nHomellm is an innovative home insurance product developed b...",
          "Type: products<br>Text: ### 2. Dynamic Pricing Model\nWith Homellm's innovative dynamic pricing model, insurance providers ca...",
          "Type: products<br>Text: ### 5. Multi-Channel Integration\nHomellm seamlessly integrates into existing insurance platforms, pr...",
          "Type: products<br>Text: - **Basic Tier:** Starting at $5,000/month for small insurers with basic integration features.\n- **S...",
          "Type: products<br>Text: All tiers include a comprehensive training program and ongoing updates to ensure optimal performance...",
          "Type: products<br>Text: With Homellm, Insurellm is committed to transforming the landscape of home insurance, ensuring both ...",
          "Type: products<br>Text: # Product Summary\n\n# Carllm\n\n## Summary\n\nCarllm is an innovative auto insurance product developed by...",
          "Type: products<br>Text: - **Instant Quoting**: With Carllm, insurance companies can offer near-instant quotes to customers, ...",
          "Type: products<br>Text: - **Mobile Integration**: Carllm is designed to work seamlessly with mobile applications, providing ...",
          "Type: products<br>Text: - **Professional Tier**: $2,500/month\n  - For medium-sized companies.\n  - All Basic Tier features pl...",
          "Type: products<br>Text: ### Q2 2025: Customer Experience Improvements\n- Launch of a new **mobile app** for end-users.\n- Intr...",
          "Type: contracts<br>Text: # Contract with GreenField Holdings for Markellm\n\n**Effective Date:** November 15, 2023  \n**Contract...",
          "Type: contracts<br>Text: ## Renewal\n1. **Automatic Renewal**: This contract will automatically renew for sequential one-year ...",
          "Type: contracts<br>Text: ## Features\n1. **AI-Powered Matching**: Access to advanced algorithms that connect GreenField Holdin...",
          "Type: contracts<br>Text: ## Support\n1. **Customer Support Access**: The Client will have access to dedicated support through ...",
          "Type: contracts<br>Text: **Signatures:**  \n_________________________                           _________________________  \n**...",
          "Type: contracts<br>Text: # Contract with EverGuard Insurance for Rellm: AI-Powered Enterprise Reinsurance Solution\n\n**Contrac...",
          "Type: contracts<br>Text: 4. **Usage Rights**: EverGuard Insurance is granted a non-exclusive, non-transferable license to acc...",
          "Type: contracts<br>Text: 1. **Core Functionality**: Rellm provides EverGuard Insurance with advanced AI-driven analytics, sea...",
          "Type: contracts<br>Text: 1. **Customer Support**: Insurellm will provide EverGuard Insurance with 24/7 customer support, incl...",
          "Type: contracts<br>Text: ---\n\n**Signatures**  \n**For Insurellm**: __________________________  \n**Name**: John Smith  \n**Title...",
          "Type: contracts<br>Text: # Contract with United Healthcare Alliance for Healthllm\n\n**Contract Date:** May 15, 2025\n**Contract...",
          "Type: contracts<br>Text: 4. **Service Level Agreement:** Insurellm guarantees 99.95% uptime measured monthly, with financial ...",
          "Type: contracts<br>Text: 7. **Business Continuity:** Guaranteed 2-hour recovery time objective (RTO) and 15-minute recovery p...",
          "Type: contracts<br>Text: 1. **Unlimited Member Administration:** No capacity restrictions, supporting United's 250,000+ membe...",
          "Type: contracts<br>Text: 4. **Advanced AI Claims Adjudication:** Enterprise-grade claims processing:\n   - Auto-adjudication r...",
          "Type: contracts<br>Text: 6. **Complete API Access:** Unlimited API calls supporting:\n   - Real-time integration with United's...",
          "Type: contracts<br>Text: 8. **Comprehensive Medication Management:**\n   - Multi-tier formulary management (national and state...",
          "Type: contracts<br>Text: 10. **Quality and Performance Management:**\n    - HEDIS measure calculation and reporting\n    - STAR...",
          "Type: contracts<br>Text: 12. **Regulatory Compliance and Reporting:**\n    - ACA compliance monitoring (MLR, essential health ...",
          "Type: contracts<br>Text: ---\n\n## Support\n\nInsurellm commits to comprehensive Enterprise-level support for United Healthcare A...",
          "Type: contracts<br>Text: 3. **Comprehensive Implementation:**\n   - 18-month phased implementation program with 4 major go-liv...",
          "Type: contracts<br>Text: 4. **Training and Enablement:**\n   - Comprehensive role-based training programs for all staff\n   - E...",
          "Type: contracts<br>Text: 5. **Custom Development:**\n   - 3,000 hours annually of custom development included\n   - Dedicated d...",
          "Type: contracts<br>Text: 6. **Integration Services:**\n   - Enterprise integration with United's complex system landscape:\n   ...",
          "Type: contracts<br>Text: 7. **Analytics and Reporting:**\n   - Custom dashboard development (unlimited)\n   - Real-time operati...",
          "Type: contracts<br>Text: 8. **Compliance and Regulatory Support:**\n   - Monthly compliance reviews with detailed documentatio...",
          "Type: contracts<br>Text: 9. **Continuous Improvement:**\n   - Bi-weekly process optimization workshops\n   - Quarterly efficien...",
          "Type: contracts<br>Text: _________________________________\n**James Patterson**\n**Title**: Chairman & Chief Executive Officer\n...",
          "Type: contracts<br>Text: # Contract with Guardian Life Partners for Lifellm\n\n---\n\n## Terms...",
          "Type: contracts<br>Text: ---\n\n## Terms\n\n1. **Agreement Effective Date**: This contract is effective as of March 1, 2025.\n2. *...",
          "Type: contracts<br>Text: ---\n\n## Renewal\n\n1. **Automatic Renewal**: This agreement will automatically renew for an additional...",
          "Type: contracts<br>Text: ---\n\n## Features\n\n1. **Access to Growth Tier Features**: Guardian Life Partners will have comprehens...",
          "Type: contracts<br>Text: 3. **Advanced Underwriting:**\n   - Automated underwriting for face amounts up to $500,000\n   - Accel...",
          "Type: contracts<br>Text: 2. **Training**: Comprehensive training program:\n   - Initial onboarding (4 weeks) for up to 20 staf...",
          "Type: contracts<br>Text: 5. **Integration Support**: Technical assistance for integrating Lifellm with:\n   - Guardian's polic...",
          "Type: contracts<br>Text: _________________________________\n**Jonathan Park**\n**Title**: President & CEO\n**Guardian Life Partn...",
          "Type: contracts<br>Text: # Contract with Greenstone Insurance for Homellm\n\n---\n\n## Terms\n\n1. **Parties**: This Contract (\"Agr...",
          "Type: contracts<br>Text: 4. **Payment Terms**: \n   - The Customer shall pay an amount of $10,000 per month for the Standard T...",
          "Type: contracts<br>Text: ---\n\n## Features\n\n- **AI-Powered Risk Assessment**: Customer will have access to enhanced risk evalu...",
          "Type: contracts<br>Text: - **Customer Portal**: A dedicated portal will be provided, allowing the Customer's clients to manag...",
          "Type: contracts<br>Text: ______________________________  \n[Name], [Title]  \nDate: ______________________\n\n**For Greenstone In...",
          "Type: contracts<br>Text: # Contract with Roadway Insurance Inc. for Carllm\n\n---\n\n## Terms\n\n1. **Agreement Effective Date**: T...",
          "Type: contracts<br>Text: ---\n\n## Renewal\n\n1. **Automatic Renewal**: This agreement will automatically renew for an additional...",
          "Type: contracts<br>Text: ---\n\n## Features\n\n1. **Access to Core Features**: Roadway Insurance Inc. will have access to all Pro...",
          "Type: contracts<br>Text: ---\n\n## Support\n\n1. **Technical Support**: Roadway Insurance Inc. will receive priority technical su...",
          "Type: contracts<br>Text: # Contract with Rapid Claims Associates for Claimllm\n\n**Contract Date:** March 1, 2025\n**Contract Nu...",
          "Type: contracts<br>Text: 4. **Overage Fees:** If claims volume exceeds 5,000 annually, overage fees of $0.90 per claim apply,...",
          "Type: contracts<br>Text: ---\n\n## Features\n\nRapid Claims Associates will receive the following Core Tier features:\n\n1. **Intel...",
          "Type: contracts<br>Text: 3. **Basic Document Processing:** OCR and NLP extraction from:\n   - Police reports\n   - Repair estim...",
          "Type: contracts<br>Text: 7. **Payment Processing:** Integration with payment systems for:\n   - Direct deposit (ACH)\n   - Chec...",
          "Type: contracts<br>Text: 3. **Platform Updates:**\n   - Quarterly feature releases with new capabilities\n   - Monthly security...",
          "Type: contracts<br>Text: _________________________________\n**Marcus Johnson**\n**Title**: Chief Claims Officer\n**Rapid Claims ...",
          "Type: contracts<br>Text: # Contract with National Claims Network for Claimllm\n\n**Contract Date:** April 20, 2025\n**Contract N...",
          "Type: contracts<br>Text: 4. **Service Level Agreement:** Insurellm guarantees 99.95% uptime with financial credits for downti...",
          "Type: contracts<br>Text: 7. **Business Continuity:** Insurellm provides disaster recovery with 4-hour RTO (Recovery Time Obje...",
          "Type: contracts<br>Text: 3. **Advanced Computer Vision:** State-of-the-art damage assessment:\n   - Auto damage analysis with ...",
          "Type: contracts<br>Text: 5. **Complete API Access:** Unlimited API calls supporting:\n   - Real-time integrations with 50+ car...",
          "Type: contracts<br>Text: 8. **Advanced Vendor Management:**\n   - Network of 5,000+ preferred vendors nationwide\n   - AI-power...",
          "Type: contracts<br>Text: 2. **24/7/365 Premium Support:**\n   - Guaranteed 10-minute response time for P1 critical issues\n   -...",
          "Type: contracts<br>Text: 4. **Training and Enablement:**\n   - Role-based training programs (adjusters, supervisors, fraud inv...",
          "Type: contracts<br>Text: 6. **Integration Services:**\n   - Enterprise integration with National's systems:\n     - Policy admi...",
          "Type: contracts<br>Text: 8. **Continuous Improvement:**\n   - Quarterly process optimization workshops\n   - Annual efficiency ...",
          "Type: contracts<br>Text: # Contract with Continental Commercial Group for Bizllm\n\n**Contract Date:** April 12, 2025\n**Contrac...",
          "Type: contracts<br>Text: 4. **Confidentiality:** Both parties agree to maintain the highest level of confidentiality regardin...",
          "Type: contracts<br>Text: 7. **Exclusivity:** Continental Commercial Group receives exclusive use of Bizllm in the specialty c...",
          "Type: contracts<br>Text: 2. **Dedicated Cloud Infrastructure:** Private cloud deployment with dedicated servers, ensuring dat...",
          "Type: contracts<br>Text: 5. **Custom Product Configuration:** Ability to configure and deploy unlimited custom commercial ins...",
          "Type: contracts<br>Text: 8. **Regulatory Compliance Suite:** Automated compliance monitoring for all 50 states including form...",
          "Type: contracts<br>Text: 3. **Implementation and Onboarding:**\n   - 6-month implementation program with dedicated project man...",
          "Type: contracts<br>Text: 6. **Performance Optimization:**\n   - Monthly platform performance reviews\n   - Proactive capacity p...",
          "Type: contracts<br>Text: # Contract with Stellar Insurance Co. for Rellm\n\n## Terms\nThis contract is made between **Insurellm*...",
          "Type: contracts<br>Text: ### Termination\nEither party may terminate this agreement with a **30-day written notice**. In the e...",
          "Type: contracts<br>Text: ## Features\nStellar Insurance Co. will receive access to the following features of the Rellm product...",
          "Type: contracts<br>Text: ## Support\nInsurellm provides Stellar Insurance Co. with the following support services:\n\n- **24/7 T...",
          "Type: contracts<br>Text: # Contract with Harmony Health Plans for Healthllm\n\n---\n\n## Terms...",
          "Type: contracts<br>Text: ---\n\n## Terms\n\n1. **Agreement Effective Date**: This contract is effective as of January 25, 2025.\n2...",
          "Type: contracts<br>Text: ---\n\n## Renewal\n\n1. **Automatic Renewal**: This agreement will automatically renew for an additional...",
          "Type: contracts<br>Text: ---\n\n## Features\n\n1. **Access to Professional Tier Features**: Harmony Health Plans will have compre...",
          "Type: contracts<br>Text: 2. **Predictive Healthcare Analytics:**\n   - High-risk member identification for care management\n   ...",
          "Type: contracts<br>Text: 4. **Value-Based Care Tools:**\n   - ACO (Accountable Care Organization) performance tracking\n   - Sh...",
          "Type: contracts<br>Text: 2. **Training**: Comprehensive training program:\n   - 6-week implementation with dedicated project m...",
          "Type: contracts<br>Text: 4. **Account Management**:\n   - Named Senior Customer Success Manager with bi-weekly check-ins\n   - ...",
          "Type: contracts<br>Text: 6. **Analytics and Reporting:**\n   - Custom dashboard development (up to 10 dashboards)\n   - Automat...",
          "Type: contracts<br>Text: ---\n\n**Signatures:**\n\n_________________________________\n**Sarah Chen**\n**Title**: Vice President of ...",
          "Type: contracts<br>Text: # Contract with TechDrive Insurance for Carllm\n\n**Contract Date:** October 1, 2024  \n**Contract Dura...",
          "Type: contracts<br>Text: ## Renewal\n\n1. **Automatic Renewal**: This contract shall automatically renew for additional one-yea...",
          "Type: contracts<br>Text: ## Support\n\n1. **Customer Support**: Insurellm will provide 24/7 customer support to TechDrive Insur...",
          "Type: contracts<br>Text: **TechDrive Insurance Representative:**  \nName: Sarah Johnson  \nTitle: Operations Director  \nDate: _...",
          "Type: contracts<br>Text: # Contract with Heritage Life Assurance for Lifellm\n\n**Contract Date:** February 12, 2025\n**Contract...",
          "Type: contracts<br>Text: ## Renewal\n\n1. **Automatic Renewal**: This agreement automatically renews for 12-month terms unless ...",
          "Type: contracts<br>Text: 3. **Digital Health Integration**:\n   - Wearable device connections (Fitbit, Apple Watch)\n   - Healt...",
          "Type: contracts<br>Text: 6. **Advanced Reporting**:\n   - Application conversion analytics\n   - Underwriting productivity metr...",
          "Type: contracts<br>Text: ---\n\n**Signatures:**\n\n**Insurellm, Inc.**\nMichael Torres, Chief Revenue Officer\nDate: February 12, 2...",
          "Type: contracts<br>Text: # Contract with Premier Adjusters Inc. for Claimllm\n\n---\n\n## Terms...",
          "Type: contracts<br>Text: ---\n\n## Terms\n\n1. **Agreement Effective Date**: This contract is effective as of February 15, 2025.\n...",
          "Type: contracts<br>Text: ---\n\n## Renewal\n\n1. **Automatic Renewal**: This agreement will automatically renew for an additional...",
          "Type: contracts<br>Text: ---\n\n## Features\n\n1. **Access to Advanced Tier Features**: Premier Adjusters Inc. will have access t...",
          "Type: contracts<br>Text: 2. **Computer Vision Capabilities:**\n   - Automated vehicle damage assessment from photos (dents, sc...",
          "Type: contracts<br>Text: ---\n\n## Support\n\n1. **Technical Support**: Premier Adjusters Inc. will receive priority advanced sup...",
          "Type: contracts<br>Text: 3. **Updates and Maintenance**:\n   - Monthly platform updates with new features\n   - Bi-weekly secur...",
          "Type: contracts<br>Text: 6. **Data and Analytics:**\n   - Custom dashboard development (up to 5 dashboards)\n   - Monthly data ...",
          "Type: contracts<br>Text: # Contract with FastTrack Insurance Services for Claimllm\n\n**Contract Date:** May 10, 2025\n**Contrac...",
          "Type: contracts<br>Text: 5. **Confidentiality**: Both parties shall maintain confidentiality regarding each other's proprieta...",
          "Type: contracts<br>Text: 2. **Pricing Review**: Renewal pricing will be discussed 60 days prior to term end. Price increases ...",
          "Type: contracts<br>Text: 2. **Integration Capabilities**: API integration with FastTrack's existing claims systems (Guidewire...",
          "Type: contracts<br>Text: ---\n\n**Signatures:**\n\n**Insurellm, Inc.**\nSarah Chen, VP of Sales\nDate: May 10, 2025\n\n**FastTrack In...",
          "Type: contracts<br>Text: # Contract with Atlantic Risk Solutions for Bizllm\n\n---\n\n## Terms\n\n1. **Agreement Effective Date**: ...",
          "Type: contracts<br>Text: ---\n\n## Renewal\n\n1. **Automatic Renewal**: This agreement will automatically renew for an additional...",
          "Type: contracts<br>Text: ---\n\n## Features\n\n1. **Access to Professional Tier Features**: Atlantic Risk Solutions will have acc...",
          "Type: contracts<br>Text: 2. **Industry-Specific Templates**: Pre-configured underwriting templates for:\n   - Technology compa...",
          "Type: contracts<br>Text: 2. **Training**: Insurellm will provide comprehensive training program:\n   - Initial onboarding for ...",
          "Type: contracts<br>Text: 5. **Integration Support**: Technical assistance for integrating Bizllm with:\n   - Atlantic's existi...",
          "Type: contracts<br>Text: # Contract with Belvedere Insurance for Markellm\n\n## Terms\nThis Contract (\"Agreement\") is made and e...",
          "Type: contracts<br>Text: ## Renewal\n1. **Renewal Terms**: This Agreement may be renewed for additional one-year terms upon mu...",
          "Type: contracts<br>Text: ## Features\n1. **AI-Powered Matching**: Belvedere Insurance will benefit from Markellm's AI-powered ...",
          "Type: contracts<br>Text: ## Support\n1. **Technical Support**: Technical support will be available from 9 AM to 7 PM EST, Mond...",
          "Type: contracts<br>Text: **Belvedere Insurance**  \nSignature: ______________________  \nName: [Authorized Signatory]  \nTitle: ...",
          "Type: contracts<br>Text: # Contract with ConnectInsure Agency for Markellm\n\n**Contract Date:** February 28, 2025\n**Contract N...",
          "Type: contracts<br>Text: 5. **Lead Volume Expectations**: Based on ConnectInsure's profile, Markellm projects 80-120 qualifie...",
          "Type: contracts<br>Text: 8. **Dispute Resolution**: Lead quality disputes must be submitted within 5 business days with docum...",
          "Type: contracts<br>Text: 2. **Featured Listing**: Premium marketplace placement including:\n   - Enhanced agency profile with ...",
          "Type: contracts<br>Text: 5. **Data Insights**: Analytics dashboard providing:\n   - Lead volume trends and forecasting\n   - Co...",
          "Type: contracts<br>Text: 2. **Onboarding**: Implementation includes:\n   - 2-week onboarding process\n   - Platform training fo...",
          "Type: contracts<br>Text: ---\n\n**Signatures:**\n\n**Insurellm, Inc.**\nMichael Torres, Chief Revenue Officer\nDate: February 28, 2...",
          "Type: contracts<br>Text: # Contract with Metropolitan Life Group for Lifellm\n\n**Contract Date:** April 5, 2025\n**Contract Num...",
          "Type: contracts<br>Text: 4. **Service Level Agreement:** Insurellm guarantees 99.9% uptime measured monthly, with 10% monthly...",
          "Type: contracts<br>Text: ---\n\n## Features\n\nMetropolitan Life Group will receive the complete Lifellm Enterprise suite:\n\n1. **...",
          "Type: contracts<br>Text: 4. **Comprehensive Digital Health Integration:**\n   - Wearable integrations: Apple Watch, Fitbit, Ga...",
          "Type: contracts<br>Text: 6. **Predictive Analytics Suite:**\n   - Lapse and persistency prediction modeling\n   - Cross-sell an...",
          "Type: contracts<br>Text: 9. **Regulatory and Compliance:**\n   - 50-state compliance monitoring and form filing\n   - Automated...",
          "Type: contracts<br>Text: ---\n\n## Support\n\nInsurellm commits to comprehensive Enterprise-level support for Metropolitan Life G...",
          "Type: contracts<br>Text: 3. **Comprehensive Implementation:**\n   - 12-month phased implementation program with 3 major releas...",
          "Type: contracts<br>Text: 5. **Custom Development:**\n   - 2,000 hours annually of custom development included\n   - Dedicated d...",
          "Type: contracts<br>Text: 7. **Analytics and Reporting:**\n   - Custom executive dashboard development (unlimited)\n   - Real-ti...",
          "Type: contracts<br>Text: ---\n\n**Signatures:**\n\n_________________________________\n**Jennifer Rodriguez**\n**Title**: Chief Exec...",
          "Type: contracts<br>Text: # Contract with Velocity Auto Solutions for Carllm\n\n**Contract Date:** October 1, 2023  \n**Contract ...",
          "Type: contracts<br>Text: ## Renewal\n\n1. **Automatic Renewal**: This contract will automatically renew for successive 12-month...",
          "Type: contracts<br>Text: ## Support\n\n1. **Customer Support**: Velocity Auto Solutions will have access to Insurellm’s custome...",
          "Type: contracts<br>Text: # Contract with GlobalRe Partners for Rellm - AI-Powered Enterprise Reinsurance Solution\n\n**Contract...",
          "Type: contracts<br>Text: 4. **Reinsurance Volume**: Enterprise Tier supports unlimited treaties and facultative certificates....",
          "Type: contracts<br>Text: 8. **Business Continuity:** Guaranteed 2-hour recovery time objective (RTO) and 30-minute recovery p...",
          "Type: contracts<br>Text: ---\n\n## Features\n\nGlobalRe Partners will receive the complete Rellm Enterprise suite with advanced r...",
          "Type: contracts<br>Text: 3. **Advanced AI-Driven Analytics:** Enterprise-grade reinsurance analytics:\n   - Predictive risk mo...",
          "Type: contracts<br>Text: 5. **Catastrophe Modeling Integration:** Best-in-class CAT modeling:\n   - Integration with all major...",
          "Type: contracts<br>Text: 7. **Facultative Reinsurance Platform:** Comprehensive fac management:\n   - Digital submission intak...",
          "Type: contracts<br>Text: 9. **Regulatory Compliance Tools:** Global compliance support:\n   - Multi-jurisdiction regulatory re...",
          "Type: contracts<br>Text: 11. **Complete API Access:** Unlimited API integration:\n    - Real-time integration with GlobalRe's ...",
          "Type: contracts<br>Text: 13. **Climate Risk Analytics:** Forward-looking climate modeling:\n    - IPCC climate scenario analys...",
          "Type: contracts<br>Text: 2. **24/7/365 Premium Support:**\n   - Guaranteed 10-minute response for P1 critical issues (during c...",
          "Type: contracts<br>Text: 3. **Comprehensive Implementation:**\n   - 18-month phased implementation program with 5 major releas...",
          "Type: contracts<br>Text: 4. **Training and Enablement:**\n   - Comprehensive role-based training (underwriters, actuaries, acc...",
          "Type: contracts<br>Text: 5. **Custom Development:**\n   - 4,000 hours annually of custom development included\n   - Dedicated d...",
          "Type: contracts<br>Text: 6. **Integration Services:**\n   - Enterprise integration with GlobalRe's complex ecosystem:\n     - S...",
          "Type: contracts<br>Text: 7. **Analytics and Reporting:**\n   - Custom dashboard development (unlimited)\n   - Real-time operati...",
          "Type: contracts<br>Text: 8. **Catastrophe Response:**\n   - Dedicated CAT war room activation during major events\n   - Real-ti...",
          "Type: contracts<br>Text: 10. **Continuous Improvement:**\n    - Monthly process optimization sessions\n    - Quarterly efficien...",
          "Type: contracts<br>Text: ---\n\n**Signatures:**\n\n_________________________________\n**Jennifer Rodriguez**\n**Title**: Chief Exec...",
          "Type: contracts<br>Text: # Contract with WellCare Insurance Co. for Healthllm\n\n**Contract Date:** March 8, 2025\n**Contract Nu...",
          "Type: contracts<br>Text: 4. **Member Coverage**: Essential Tier supports health insurance administration for up to 15,000 cov...",
          "Type: contracts<br>Text: ---\n\n## Features\n\nWellCare Insurance Co. will receive the following Essential Tier features:\n\n1. **I...",
          "Type: contracts<br>Text: 3. **AI-Driven Claims Adjudication:** Automated claims processing:\n   - Machine learning-based claim...",
          "Type: contracts<br>Text: 6. **Basic Medication Management:**\n   - Formulary management tools\n   - Prior authorization workflo...",
          "Type: contracts<br>Text: ---\n\n## Support\n\nInsurellm commits to providing comprehensive support to WellCare Insurance Co.:\n\n1....",
          "Type: contracts<br>Text: 4. **Account Management:**\n   - Named customer success manager\n   - Quarterly business review meetin...",
          "Type: contracts<br>Text: ---\n\n**Signatures:**\n\n_________________________________\n**Sarah Chen**\n**Title**: Vice President of ...",
          "Type: contracts<br>Text: # Contract with Fortress Business Underwriters for Bizllm\n\n---\n\n## Terms\n\n1. **Agreement Effective D...",
          "Type: contracts<br>Text: ---\n\n## Renewal\n\n1. **Automatic Renewal**: This agreement will automatically renew for an additional...",
          "Type: contracts<br>Text: ---\n\n## Features\n\n1. **Access to Professional Tier Features**: Fortress Business Underwriters will h...",
          "Type: contracts<br>Text: 2. **Advanced Analytics**: Access to enhanced reporting capabilities including loss ratio analysis, ...",
          "Type: contracts<br>Text: 2. **Training**: Insurellm will provide:\n   - Initial comprehensive onboarding (40 hours) for up to ...",
          "Type: contracts<br>Text: ---\n\n**Signatures:**\n\n_________________________________\n**Michael Torres**\n**Title**: Chief Revenue ...",
          "Type: contracts<br>Text: # Contract with GreenValley Insurance for Homellm\n\n**Contract Date:** October 6, 2023  \n**Contract N...",
          "Type: contracts<br>Text: 4. **Confidentiality:** Both parties agree to maintain the confidentiality of proprietary informatio...",
          "Type: contracts<br>Text: 1. **AI-Powered Risk Assessment:** Access to advanced AI algorithms for real-time risk evaluations.\n...",
          "Type: contracts<br>Text: 3. **Regular Updates:** Insurellm will offer ongoing updates and enhancements to the Homellm platfor...",
          "Type: contracts<br>Text: # Contract with Evergreen Life Insurance for Lifellm\n\n**Contract Date:** January 20, 2025\n**Contract...",
          "Type: contracts<br>Text: 4. **Policy Volume:** Starter Tier supports underwriting and administration for up to 2,000 active p...",
          "Type: contracts<br>Text: ---\n\n## Features\n\nEvergreen Life Insurance will receive the following Starter Tier features:\n\n1. **A...",
          "Type: contracts<br>Text: 4. **Smart Document Processing:** OCR and NLP extraction from:\n   - Medical records and attending ph...",
          "Type: contracts<br>Text: ---\n\n## Support\n\nInsurellm commits to providing comprehensive support to Evergreen Life Insurance:\n\n...",
          "Type: contracts<br>Text: 3. **Platform Updates:**\n   - Quarterly feature releases\n   - Monthly security patches and improveme...",
          "Type: contracts<br>Text: _________________________________\n**Catherine Wu**\n**Title**: Chief Underwriting Officer\n**Evergreen...",
          "Type: contracts<br>Text: # Contract with BrightWay Solutions for Markellm\n\n**Contract Date:** October 5, 2023  \n**Contract ID...",
          "Type: contracts<br>Text: 3. **Service Level Agreement (SLA):**  \n   Insurellm commits to a 99.9% uptime for the platform with...",
          "Type: contracts<br>Text: 2. **Real-Time Quote Availability:**  \n   Consumers sourced via BrightWay Solutions will receive rea...",
          "Type: contracts<br>Text: 3. **Training and Onboarding:**  \n   Insurellm agrees to provide one free training session on how to...",
          "Type: contracts<br>Text: # Contract with DriveSmart Insurance for Carllm\n\n**Contract Date:** March 20, 2025\n**Contract Number...",
          "Type: contracts<br>Text: 4. **Policy Volume**: Enterprise Tier supports unlimited policies. DriveSmart currently has 85,000 a...",
          "Type: contracts<br>Text: ---\n\n## Features\n\nDriveSmart Insurance will receive the complete Carllm Enterprise suite:\n\n1. **Unli...",
          "Type: contracts<br>Text: 4. **Instant Quoting Engine:** High-performance quoting:\n   - Sub-3-second quote generation\n   - Rea...",
          "Type: contracts<br>Text: 6. **Advanced Fraud Detection:** Comprehensive fraud prevention:\n   - Application fraud detection (i...",
          "Type: contracts<br>Text: 8. **Telematics Integration:** Complete telematics platform:\n   - Device-agnostic integration (OBD-I...",
          "Type: contracts<br>Text: 10. **Multi-State Operations:** Comprehensive state support:\n    - State-specific forms and endorsem...",
          "Type: contracts<br>Text: 3. **Implementation:**\n   - 6-month phased implementation\n   - Dedicated project manager\n   - Migrat...",
          "Type: contracts<br>Text: 6. **Integration Services:**\n   - Integration with DriveSmart's systems:\n     - Duck Creek policy ad...",
          "Type: contracts<br>Text: ---\n\n**Signatures:**\n\n_________________________________\n**Jennifer Rodriguez**\n**Title**: Chief Exec...",
          "Type: contracts<br>Text: # Contract with SafeHaven Property Insurance for Homellm\n\n**Contract Date:** May 3, 2025\n**Contract ...",
          "Type: contracts<br>Text: 4. **Policy Volume**: Enterprise Tier supports unlimited policies. SafeHaven currently has 45,000 ac...",
          "Type: contracts<br>Text: ---\n\n## Features\n\nSafeHaven Property Insurance will receive the complete Homellm Enterprise suite:\n\n...",
          "Type: contracts<br>Text: 3. **Advanced AI Risk Assessment:** Enterprise-grade property risk analysis:\n   - Aerial imagery ana...",
          "Type: contracts<br>Text: 5. **Instant Claims Processing:** Advanced claims automation:\n   - AI-driven FNOL with photo/video u...",
          "Type: contracts<br>Text: 7. **Multi-Channel Integration:** Unified platform:\n   - Agent portal for 1,500+ independent agents\n...",
          "Type: contracts<br>Text: 9. **IoT Device Integration:** Smart home platform:\n   - Water leak detection systems (Flo by Moen, ...",
          "Type: contracts<br>Text: 11. **Multi-State Operations:** Comprehensive support:\n    - State-specific forms and endorsements f...",
          "Type: contracts<br>Text: ---\n\n## Support\n\nInsurellm commits to comprehensive Enterprise-level support for SafeHaven Property ...",
          "Type: contracts<br>Text: 3. **Comprehensive Implementation:**\n   - 8-month phased implementation program\n   - Dedicated proje...",
          "Type: contracts<br>Text: 5. **Custom Development:**\n   - 1,200 hours annually of custom development\n   - Dedicated developmen...",
          "Type: contracts<br>Text: 7. **Analytics and Reporting:**\n   - Custom dashboard development (up to 20 dashboards)\n   - Real-ti...",
          "Type: contracts<br>Text: 9. **Catastrophe Response:**\n   - Dedicated CAT support during disaster events\n   - Pre-CAT system p...",
          "Type: contracts<br>Text: _________________________________\n**Laura Mitchell**\n**Title**: President & Chief Executive Officer\n...",
          "Type: contracts<br>Text: # Contract with Pinnacle Insurance Co. for Homellm\n\n## Terms\nThis contract (\"Contract\") is entered i...",
          "Type: contracts<br>Text: ## Renewal\n1. **Renewal Terms**: At the end of the initial term, this Contract shall automatically r...",
          "Type: contracts<br>Text: ## Features\n1. **AI-Powered Risk Assessment**: Utilized for tailored underwriting decisions specific...",
          "Type: contracts<br>Text: ## Support\n1. **Technical Support**: Insurellm shall provide 24/7 technical support via an email and...",
          "Type: contracts<br>Text: # Contract with Apex Reinsurance for Rellm: AI-Powered Enterprise Reinsurance Solution\n\n## Terms\n\n1....",
          "Type: contracts<br>Text: ## Renewal\n\n1. **Automatic Renewal**: This Agreement will automatically renew for successive one-yea...",
          "Type: contracts<br>Text: 2. **Seamless Integrations**: The architecture of Rellm allows for easy integration with existing sy...",
          "Type: contracts<br>Text: 1. **Technical Support**: Provider shall offer dedicated technical support to the Client via phone, ...",
          "Type: contracts<br>Text: **Insurellm, Inc.**  \n_____________________________  \nAuthorized Signature   \nDate: ________________...",
          "Type: contracts<br>Text: # Contract with Advantage Medical Coverage for Healthllm\n\n**Contract Date:** April 18, 2025\n**Contra...",
          "Type: contracts<br>Text: 4. **Member Coverage**: Professional Tier supports up to 50,000 covered members. Advantage currently...",
          "Type: contracts<br>Text: 2. **Pricing Review**: Renewal pricing will be discussed 75 days prior to term end and mutually agre...",
          "Type: contracts<br>Text: 2. **Value-Based Care Support:**\n   - ACO performance tracking and shared savings calculation\n   - H...",
          "Type: contracts<br>Text: 2. **Training**: Comprehensive training program:\n   - 5-week implementation with project manager\n   ...",
          "Type: contracts<br>Text: ---\n\n**Signatures:**\n\n**Insurellm, Inc.**\nSarah Chen, VP of Sales\nDate: April 18, 2025\n\n**Advantage ...",
          "Type: contracts<br>Text: # Contract with Summit Commercial Insurance for Bizllm\n\n**Contract Date:** March 15, 2025\n**Contract...",
          "Type: contracts<br>Text: 3. **Payment:** Summit Commercial Insurance shall pay a monthly fee of $6,000, due by the 1st of eve...",
          "Type: contracts<br>Text: 6. **Data Security:** Insurellm commits to maintaining industry-standard encryption and security pro...",
          "Type: contracts<br>Text: 2. **Business Intelligence Integration:** Automated data gathering from business registries, financi...",
          "Type: contracts<br>Text: ---\n\n## Support\n\nInsurellm commits to providing comprehensive support to Summit Commercial Insurance...",
          "Type: contracts<br>Text: 5. **Performance Reviews:** Quarterly business reviews to assess platform utilization, identify opti...",
          "Type: company<br>Text: # Overview of Insurellm\n\nInsurellm is an innovative insurance tech firm with 32 employees operating ...",
          "Type: company<br>Text: ### Marketplace & Infrastructure\n- **Markellm** - Marketplace connecting consumers with insurance pr...",
          "Type: company<br>Text: ## Client Portfolio Breakdown\n\nInsurellm's 32 active contracts span the full spectrum of insurance t...",
          "Type: company<br>Text: **Insurance Marketplace (Markellm)**: 2 contracts with agencies and brokers leveraging the consumer-...",
          "Type: company<br>Text: # Careers at Insurellm\n\n## Why Join Insurellm?\n\nAt Insurellm, we're not just building software—we're...",
          "Type: company<br>Text: ### Our Culture\n\nWe live by our core values every day:\n- **Innovation First**: We encourage experime...",
          "Type: company<br>Text: ## Current Opportunities\n\n### Engineering\n\n**Senior Full Stack Engineer** - San Francisco, CA\n- Lead...",
          "Type: company<br>Text: **DevOps Engineer** - New York, NY\n- Manage cloud infrastructure (AWS/GCP)\n- Implement CI/CD pipelin...",
          "Type: company<br>Text: **Data Engineer** - Austin, TX\n- Design and maintain data pipelines\n- Build data warehousing solutio...",
          "Type: company<br>Text: ### Sales & Customer Success\n\n**Account Executive** - New York, NY / Chicago, IL / Austin, TX\n- Mana...",
          "Type: company<br>Text: ### Operations & Support\n\n**Technical Support Specialist** - Remote\n- Provide tier 2/3 technical sup...",
          "Type: company<br>Text: # Insurellm Culture\n\n## Vision Statement\nTo revolutionize the insurance industry through innovative ...",
          "Type: company<br>Text: ### Customer Obsession\nOur clients' success is our success. We deeply understand our customers' need...",
          "Type: company<br>Text: ## Employer Value Proposition\n\n**Build the Future of Insurance Technology with Elite Talent**\n\nAt In...",
          "Type: company<br>Text: - **Meaningful Impact**: Your work directly shapes products powering 32 active insurance operations,...",
          "Type: company<br>Text: # About Insurellm\n\nInsurellm was founded by Avery Lancaster in 2015 as an insurance tech startup des...",
          "Type: company<br>Text: However, the company underwent a strategic restructuring in 2022-2023 to focus on profitability and ...",
          "Type: company<br>Text: - **Bizllm** quickly gained traction with 7 commercial insurance contracts, including regional carri...",
          "Type: employees<br>Text: # HR Record\n\n# David Kim\n\n## Summary\n- **Date of Birth:** September 22, 1992\n- **Job Title:** DevOps...",
          "Type: employees<br>Text: - **June 2017 - February 2019:** Systems Administrator at CloudFirst Solutions\n  - Maintained Linux ...",
          "Type: employees<br>Text: ## Other HR Notes\n- **Certifications:** AWS Certified Solutions Architect (2022), Certified Kubernet...",
          "Type: employees<br>Text: # HR Record\n\n# Nina Patel\n\n## Summary\n- **Date of Birth:** July 25, 1991\n- **Job Title:** Business I...",
          "Type: employees<br>Text: - **May 2017 - July 2019:** Data Analyst at RetailMetrics Inc.\n  - Analyzed retail sales data and cu...",
          "Type: employees<br>Text: - **2019:** Rating: 3.9/5\n  *Good onboarding year. Quick to adapt to Insurellm's data systems.*\n\n## ...",
          "Type: employees<br>Text: # HR Record\n\n# Priya Sharma\n\n## Summary\n- **Date of Birth:** January 8, 1986\n- **Job Title:** Senior...",
          "Type: employees<br>Text: - **August 2012 - May 2015:** Research Scientist at UC Berkeley AI Lab\n  - Conducted research in mac...",
          "Type: employees<br>Text: - **2019:** Rating: 4.6/5\n  *Excellent contributions to fraud detection systems. Recognized for thou...",
          "Type: employees<br>Text: ## Other HR Notes\n- **Education:** PhD in Computer Science (Machine Learning) from Stanford Universi...",
          "Type: employees<br>Text: # HR Record\n\n# Alex Chen\n\n## Summary\n- **Date of Birth:** March 15, 1990\n- **Job Title:** Backend So...",
          "Type: employees<br>Text: ## Annual Performance History\n- **2020:**  \n  - Completed onboarding successfully.  \n  - Met expecta...",
          "Type: employees<br>Text: ## Compensation History\n- **2020:** Base Salary: $80,000  \n- **2021:** Base Salary Increase to $90,0...",
          "Type: employees<br>Text: Alex Chen continues to be a vital asset at Insurellm, contributing significantly to innovative backe...",
          "Type: employees<br>Text: # HR Record\n\n# Robert Chen\n\n## Summary\n- **Date of Birth:** February 28, 1983\n- **Job Title:** Senio...",
          "Type: employees<br>Text: - **August 2008 - May 2012:** Software Engineer at TechStartup\n  - Developed features for SaaS platf...",
          "Type: employees<br>Text: - **2018:** Rating: 4.3/5\n  *Solid performance with consistent high-quality delivery. Growing into t...",
          "Type: employees<br>Text: ## Other HR Notes\n- **Education:** MS in Computer Science from Stanford University, BS in Computer E...",
          "Type: employees<br>Text: # HR Record\n\n# Oliver Spencer\n\n## Summary\n- **Date of Birth**: May 14, 1990\n- **Job Title**: Backend...",
          "Type: employees<br>Text: ## Annual Performance History\n- **2018**: **3/5** - Adaptable team player but still learning to take...",
          "Type: employees<br>Text: ## Compensation History\n- **March 2018**: Initial salary of $80,000.\n- **July 2019**: Salary increas...",
          "Type: employees<br>Text: # HR Record\n\n# Amanda Foster\n\n## Summary\n- **Date of Birth:** August 14, 1982\n- **Job Title:** HR Bu...",
          "Type: employees<br>Text: - **June 2009 - February 2013:** HR Coordinator at Enterprise Corp.\n  - Supported recruiting and onb...",
          "Type: employees<br>Text: - **2019:** Rating: 4.2/5\n  *Strong year. Improved hiring velocity for engineering roles by 35%. Bui...",
          "Type: employees<br>Text: ## Other HR Notes\n- **Education:** MS in Human Resources Management from Cornell University, BA in P...",
          "Type: employees<br>Text: # HR Record\n\n# Emily Tran\n\n## Summary\n- **Date of Birth:** March 18, 1991\n- **Job Title:** Digital M...",
          "Type: employees<br>Text: - **January 2017 - May 2018**: Marketing Intern  \n  - Supported the Marketing team by collaborating ...",
          "Type: employees<br>Text: - **2021**:  \n  - Performance Rating: Meets Expectations  \n  - Key Achievements: Contributed to the ...",
          "Type: employees<br>Text: - **Professional Development Goals**:  \n  - Emily Tran aims to become a Marketing Manager within the...",
          "Type: employees<br>Text: # HR Record\n\n# Jordan Blake\n\n## Summary\n- **Date of Birth:** March 15, 1993\n- **Job Title:** Sales D...",
          "Type: employees<br>Text: ## Annual Performance History\n- **2021:** First year at Insurellm; achieved 90% of monthly targets. ...",
          "Type: employees<br>Text: ## Other HR Notes\n- Jordan has shown an interest in continuing education, actively participating in ...",
          "Type: employees<br>Text: # HR Record\n\n# Kevin Zhang\n\n## Summary\n- **Date of Birth:** March 27, 1990\n- **Job Title:** Mobile D...",
          "Type: employees<br>Text: - **July 2015 - January 2018:** Junior Mobile Developer at StartupTech\n  - Built mobile features for...",
          "Type: employees<br>Text: ## Other HR Notes\n- **Education:** BS in Computer Science from UC Berkeley\n- **Skills:** Expert in S...",
          "Type: employees<br>Text: # HR Record\n\n# Maya Thompson\n\n## Summary\n- **Date of Birth:** June 14, 1993\n- **Job Title:** Data En...",
          "Type: employees<br>Text: ## Annual Performance History\n- **2023:** Rating: 4.3/5\n  *Strong performance. Delivered critical da...",
          "Type: employees<br>Text: ## Compensation History\n- **2023:** Base Salary: $110,000 + Bonus: $12,000\n- **2022:** Base Salary: ...",
          "Type: employees<br>Text: # HR Record\n\n# Jennifer Adams\n\n## Summary\n- **Date of Birth:** July 7, 1997\n- **Job Title:** Sales D...",
          "Type: employees<br>Text: - **August 2019 - May 2022:** Customer Service Representative at RetailCo\n  - Handled customer inqui...",
          "Type: employees<br>Text: ## Compensation History\n- **2023:** Base Salary: $58,000 + Commission: $4,200\n- **2022:** Intern Sti...",
          "Type: employees<br>Text: # HR Record\n\n# Jessica Liu\n\n## Summary\n- **Date of Birth:** April 30, 1996\n- **Job Title:** Frontend...",
          "Type: employees<br>Text: - **June 2018 - December 2019:** Web Developer Intern at StartupLabs\n  - Created landing pages and m...",
          "Type: employees<br>Text: ## Other HR Notes\n- **Education:** BS in Computer Science from University of Washington\n- **Skills:*...",
          "Type: employees<br>Text: # Avery Lancaster\n\n## Summary\n- **Date of Birth**: March 15, 1985\n- **Job Title**: Co-Founder & Chie...",
          "Type: employees<br>Text: - **2010 - 2013**: Business Analyst at Edge Analytics  \n  Prior to joining Innovate, Avery worked as...",
          "Type: employees<br>Text: - **2018**: **Exceeds Expectations**  \n  Under Avery’s pivoted vision, Insurellm launched two new su...",
          "Type: employees<br>Text: - **2022**: **Satisfactory**  \n  Avery focused on rebuilding team dynamics and addressing employee c...",
          "Type: employees<br>Text: ## Compensation History\n- **2015**: $150,000 base salary + Significant equity stake  \n- **2016**: $1...",
          "Type: employees<br>Text: ## Other HR Notes\n- **Professional Development**: Avery has actively participated in leadership trai...",
          "Type: employees<br>Text: # HR Record\n\n# Maxine Thompson\n\n## Summary\n- **Date of Birth:** January 15, 1991\n- **Job Title:** Da...",
          "Type: employees<br>Text: ## Insurellm Career Progression\n- **January 2017 - October 2018**: **Junior Data Engineer**  \n  * Ma...",
          "Type: employees<br>Text: ## Annual Performance History\n- **2017**: *Meets Expectations*  \n  Maxine showed potential in her ro...",
          "Type: employees<br>Text: - **2021**: *Exceeds Expectations*  \n  Maxine spearheaded the transition to a new data warehousing s...",
          "Type: employees<br>Text: ## Compensation History\n- **2017**: $70,000 (Junior Data Engineer)  \n- **2018**: $75,000 (Junior Dat...",
          "Type: employees<br>Text: # HR Record\n\n# Daniel Park\n\n## Summary\n- **Date of Birth:** October 3, 1991\n- **Job Title:** QA Engi...",
          "Type: employees<br>Text: ## Annual Performance History\n- **2023:** Rating: 4.2/5\n  *Strong performance. Expanded test automat...",
          "Type: employees<br>Text: ## Other HR Notes\n- **Education:** BS in Computer Science from Texas State University\n- **Certificat...",
          "Type: employees<br>Text: # Samantha Greene\n\n## Summary\n- **Date of Birth:** October 14, 1990\n- **Job Title:** HR Generalist\n-...",
          "Type: employees<br>Text: ## Annual Performance History\n- **2020:** Exceeds Expectations  \n  Samantha Greene demonstrated exce...",
          "Type: employees<br>Text: ## Compensation History\n- **2020:** Base Salary - $55,000  \n  The entry-level salary matched industr...",
          "Type: employees<br>Text: - **2023:** Base Salary - $70,000  \n  Recognized for substantial improvement in employee relations m...",
          "Type: employees<br>Text: # HR Record\n\n# Marcus Johnson\n\n## Summary\n- **Date of Birth:** February 17, 1988\n- **Job Title:** Cu...",
          "Type: employees<br>Text: - **January 2016 - August 2018:** Account Manager at SaaS Solutions Inc.\n  - Managed B2B client rela...",
          "Type: employees<br>Text: - **2020:** Rating: 4.0/5\n  *Good transition to CSM role. Quickly built rapport with enterprise clie...",
          "Type: employees<br>Text: # HR Record\n\n# Alex Thomson\n\n## Summary\n- **Date of Birth:** March 15, 1995\n- **Job Title:** Sales D...",
          "Type: employees<br>Text: ## Annual Performance History  \n- **2022** - Rated as \"Exceeds Expectations.\" Alex Thomson achieved ...",
          "Type: employees<br>Text: ## Other HR Notes\n- Alex Thomson is an active member of the Diversity and Inclusion committee at Ins...",
          "Type: employees<br>Text: # HR Record\n\n# Michael O'Brien\n\n## Summary\n- **Date of Birth:** May 20, 1984\n- **Job Title:** Accoun...",
          "Type: employees<br>Text: - **August 2010 - May 2014:** Sales Representative at Business Solutions Inc.\n  - B2B software sales...",
          "Type: employees<br>Text: - **2019:** Rating: 4.2/5\n  *Strong performance at 125% quota attainment. Expanded territory success...",
          "Type: employees<br>Text: ## Other HR Notes\n- **Education:** BA in Business from University of Illinois\n- **Awards:** Sales Ex...",
          "Type: employees<br>Text: # HR Record\n\n# Rachel Martinez\n\n## Summary\n- **Date of Birth:** June 8, 1987\n- **Job Title:** Produc...",
          "Type: employees<br>Text: ## Annual Performance History\n- **2023:** Rating: 4.6/5\n  *Exceptional year with successful launch o...",
          "Type: employees<br>Text: - **2019:** Rating: 4.0/5\n  *Strong start as Product Manager. Successfully transitioned from APM rol...",
          "Type: employees<br>Text: ## Other HR Notes\n- **Professional Development:** Completed Product Leadership Certification from Pr...",
          "Type: employees<br>Text: # HR Record\n\n# Sarah Williams\n\n## Summary\n- **Date of Birth:** November 3, 1994\n- **Job Title:** UX ...",
          "Type: employees<br>Text: - **August 2018 - May 2020:** UI/UX Designer at StartupHub Inc.\n  - Designed mobile and web interfac...",
          "Type: employees<br>Text: ## Other HR Notes\n- **Education:** BFA in Graphic Design from Rhode Island School of Design\n- **Skil...",
          "Type: employees<br>Text: # HR Record\n\n# Michelle Rivera\n\n## Summary\n- **Date of Birth:** December 16, 1988\n- **Job Title:** P...",
          "Type: employees<br>Text: - **May 2013 - July 2016:** UX Designer at CreativeAgency\n  - Created user interfaces for consumer a...",
          "Type: employees<br>Text: - **2019:** Rating: 4.0/5\n  *Solid first year at Insurellm. Quick to learn complex insurance domain ...",
          "Type: employees<br>Text: ## Other HR Notes\n- **Education:** MFA in Interaction Design from School of Visual Arts, BFA in Grap...",
          "Type: employees<br>Text: # HR Record\n\n# Samuel Trenton\n\n## Summary\n- **Date of Birth:** April 12, 1989\n- **Job Title:** Senio...",
          "Type: employees<br>Text: - **August 2016 - May 2018:** Junior Data Analyst  \n  *Started at Insurellm as a Junior Data Analyst...",
          "Type: employees<br>Text: - **2021:** Rating: 4.0/5  \n  *There was notable improvement in performance. Worked to enhance model...",
          "Type: employees<br>Text: - **2020:** Base Salary: $100,000 + Bonus: $8,000  \n  *Initial compensation as Senior Data Scientist...",
          "Type: employees<br>Text: # HR Record\n\n# Lisa Anderson\n\n## Summary\n- **Date of Birth:** November 18, 1985\n- **Job Title:** Mar...",
          "Type: employees<br>Text: - **June 2012 - December 2015:** Marketing Coordinator at Enterprise Solutions\n  - Supported marketi...",
          "Type: employees<br>Text: - **2019:** Rating: 4.0/5\n  *Strong start as Marketing Manager. Quick to understand insurance tech m...",
          "Type: employees<br>Text: ## Other HR Notes\n- **Education:** MBA in Marketing from University of Texas at Austin, BA in Commun...",
          "Type: employees<br>Text: # HR Record\n\n# Alex Harper\n\n## Summary\n- **Date of Birth**: March 15, 1993\n- **Job Title**: Sales De...",
          "Type: employees<br>Text: ## Annual Performance History  \n- **2021**:  \n  - **Performance Rating**: 4.5/5  \n  - **Key Achievem...",
          "Type: employees<br>Text: - **2022**:  \n  - **Base Salary**: $65,000 (Promotion to Senior SDR)  \n  - **Bonus**: $13,000 (20% o...",
          "Type: employees<br>Text: # HR Record\n\n# Carlos Rodriguez\n\n## Summary\n- **Date of Birth:** October 12, 1989\n- **Job Title:** S...",
          "Type: employees<br>Text: - **January 2015 - February 2017:** Application Developer at FinTech Systems\n  - Developed financial...",
          "Type: employees<br>Text: - **2019:** Rating: 4.1/5\n  *Strong start as Solutions Engineer. Quick learner with excellent techni...",
          "Type: employees<br>Text: ## Other HR Notes\n- **Education:** MS in Computer Science from University of Florida\n- **Certificati...",
          "Type: employees<br>Text: # HR Record\n\n# James Wilson\n\n## Summary\n- **Date of Birth:** April 5, 1978\n- **Job Title:** Chief Te...",
          "Type: employees<br>Text: - **June 2008 - February 2012:** Senior Engineering Manager at CloudSoft Corp.\n  - Managed multiple ...",
          "Type: employees<br>Text: - **2021:** Rating: 4.6/5\n  *Excellent performance navigating remote transition. Built strong engine...",
          "Type: employees<br>Text: - **2017:** Rating: 4.3/5\n  *Strong start as CTO. Quickly assessed technical landscape and began str...",
          "Type: employees<br>Text: ## Other HR Notes\n- **Education:** MS in Computer Science from MIT, BS in Computer Engineering from ...",
          "Type: employees<br>Text: # HR Record\n\n# Jordan K. Bishop\n\n## Summary\n- **Date of Birth:** March 15, 1990\n- **Job Title:** Fro...",
          "Type: employees<br>Text: ## Annual Performance History\n- **2019:** Exceeds Expectations - Continuously delivered high-quality...",
          "Type: employees<br>Text: ## Compensation History\n- **June 2018:** Starting Salary - $85,000\n- **June 2019:** Salary Increase ...",
          "Type: employees<br>Text: ## Other HR Notes\n- Jordan K. Bishop has been an integral part of club initiatives, including the In...",
          "Type: employees<br>Text: # HR Record\n\n# Emily Carter\n\n## Summary\n- **Date of Birth:** August 12, 1990\n- **Job Title:** Accoun...",
          "Type: employees<br>Text: - **2017-2019:** Marketing Intern  \n  - Assisted with market research and campaign development for s...",
          "Type: employees<br>Text: ## Compensation History\n| Year | Base Salary | Bonus         | Total Compensation |\n|------|--------...",
          "Type: employees<br>Text: Emily Carter exemplifies the kind of talent that drives Insurellm's success and is an invaluable ass...",
          "Type: employees<br>Text: # HR Record\n\n# Tyler Brooks\n\n## Summary\n- **Date of Birth:** September 9, 1998\n- **Job Title:** Juni...",
          "Type: employees<br>Text: - **2022:** Rating: 3.5/5\n  *Adequate performance for a junior developer. Good learning attitude but...",
          "Type: employees<br>Text: ## Compensation History\n- **2023:** Base Salary: $75,000 + Bonus: $2,000\n- **2022:** Base Salary: $7...",
          "Type: employees<br>Text: # HR Record\n\n# Brandon Walker\n\n## Summary\n- **Date of Birth:** December 5, 1993\n- **Job Title:** Tec...",
          "Type: employees<br>Text: - **January 2018 - April 2019:** IT Help Desk Technician at Regional Bank\n  - Provided internal IT s...",
          "Type: employees<br>Text: ## Compensation History\n- **2023:** Base Salary: $62,000 + Bonus: $1,500\n- **2022:** Base Salary: $6..."
         ],
         "type": "scatter",
         "x": {
          "bdata": "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",
          "dtype": "f4"
         },
         "y": {
          "bdata": "82VQQJZZ8j4a89I/5/jZPyve10B5FsRA15hQwV0KMcHAYRbBB7/vP/ZUD7/IPuRARvuiQDsHP8AKqOXAgXfMwHWQOEDKYAE/uHuoQMZuk0AatAnAq2skwK5n7T+aVzE/AeTRQAFsqEB9/xjBloIAwbWA/D45yw6/RGnmQHke7UDtuP9AtygLQeioHkEvW81AtVuYQDU9RT4waN4+7m8GQCrkIz8irvJAaSqZQDxtmUBVXoxAUUF/QPRfU0D8xF5BAK1FQYBqNz8wZStBc2uHQX4DZEHqLeJAd8hiPzcBPz8XXSXAhCyIQVuM40ACf0jBKSvswL3zC8Go8vnAbFTuwFY3wcAuLfjAf6j1wDJ1VcHseYDB1gePwVo9f8Ex+xLB9S4LwakK6MDgLtvAKwiIQXIrhkE0lRdBK1ACwBEHFcB6LGDBnLHTwDIGvcBwAH5B87cvQcHrGr7MZXdBCoaKQbPelUFlEipBPQIlQN+UKkFyBE1Bf2hAQUI8TMFYvGDBNnwLwRi/DsERSeq/5AJcQWtd40A0bQRBRPVPwdJiH8GxIiDBcBVAwTDKg8GQjXzBf6rLwGeAQkGfiyZBhFAsQW7/HcGi1AzB/83BwBQ6g8FqY6DAbQNTQcAzRUGEXOg/FA7oP6yckEEGCI9B27EcQSrDFMCm/9TA1JmCwFH2UMF2hlrBueMpwcT6u8DVMotB3CAQQUbEM0EK3TJB4niBQblN4kCTpaHA/jgwwXIpnMCrI3FB24dwQZb+IUHbU0HBcM5ZwSIqL8EJgmDBtPUlwXXPYEG5DTdBqtWRQMZfCcGRn2XALKCYQYHsCUGWm4nAdDyQwJWjKsEFJ7bAcOVKQeSEU0GVdvlAUJ1nQWJRgEGSmUJBS98vQaaFJEFT4M/Aj2TtwGXfd8FKgGzAaHV3QWTQ5UASwoO/p0efwBb7MMGP0bnAIQbpwNS8Y8Hjio7B3F0GwbRWkcBtWZBBQ/IOQWsAPkGYTGtBJ4m8QFZQScGfLEjBJ1RIwUdncsGeLTHBkpsWwdN3YMF2KU/BWMZIwReTVsHedIXB6W6QwRJhcsFA5hnBxQR5wRfS+sAoroTAhBmMQY9RBUGgkvi/5MkOwR0/6MDIrRLBFokmwd9otMALOplBXr4hQbFCjsDH3ZLADfgkwRlTq8Cu84hByxGJQeeV3z4Q2IhBJ8d5QaRhBUG5EEW/cPaBwF3pEsElQgbBNEb2wLUKSUEGwgtBU0gKQSM+TEGvtIZBO+a2QMq6k0DeU5bA27M8wXqOhcGnU77ApU12wWd9D8FIPGzAHcRawCyxccDnTYDAyFVKwSaLQsHcJsvA6fh/wQ6CpsCKNsvAi+JrwXqsl8GXcxvBXRcOweV0dMAFH4JBy25NQeg1kb+FXW1BuE9vQcI98EADNLs7AD5bQQHqgEH4roxBQer4QKnL1kAjAH/AJThEwV1pkcC68D5BSLQ6Qf96JkGNO+DAYW3QwP9tlMCgO59AUqZcQF2EgkDw4z9AYhGeQMZqVUBkL8vA4CjCwC8PtsAWhqvAWoP0QBKnj0BKV4lA8OqcQK/+N0B4m6ZAB1+QQILWjkBnPg/BSpcIQYEv28DK3NbAH36gQMOcYkA3uLTA0tz6QDdko0AB8wXArRYEwcfNB0GNxDdAaJmjQEOQDMG6iwtBywuKQJkVwMASw+XAyJsRQU8tFEBM+YrA77q9QJKKgECtelbAlRtSwFOs7j+S9rI/NUujPynHdcBxK3pA33v0v42GG8GarrlAWWTGwJZfoMAz1I9AfdMfQNROQcA/OhJBCQ2bP5P1/8CsU+VAvpjUwMRm9D+qu49AITCoQAsCrEBK3cNAj4YDQN9IhcA23QFAJUvdQKTbxUCtC7m9PLcawREHzkB5WPHAPzZdvk7n1UB/8e0+19puPnqurMAIRuFAKyB5QDkNTMAtyZBA538AwPTvpMDkYNtAC6esQB32iMC7BbnAt08aQflkoECuWj7AgODfwHEoyEBDJoXAGaPSwBv+ukBmfY5AqT6SwBAio8A4+JBA0TZXQB7Ikr+whZnAQGG0QH8Om0Di75DAjs04wH9bKUB8UMO/GYL4wF1TC0HYJdZActTLwLOuEcGHtg9Bp6ogQUu+ykAeMQXAlGLuwLW0BUH8IfhASs/ov6Xpg8DFepJAF/DIPyqWuUAEU+3AT7jiQFpz2z/VXN3AEVQUQRzyJEA=",
          "dtype": "f4"
         }
        }
       ],
       "layout": {
        "height": 600,
        "margin": {
         "b": 10,
         "l": 10,
         "r": 20,
         "t": 40
        },
        "scene": {
         "xaxis": {
          "title": {
           "text": "x"
          }
         },
         "yaxis": {
          "title": {
           "text": "y"
          }
         }
        },
        "template": {
         "data": {
          "bar": [
           {
            "error_x": {
             "color": "#2a3f5f"
            },
            "error_y": {
             "color": "#2a3f5f"
            },
            "marker": {
             "line": {
              "color": "#E5ECF6",
              "width": 0.5
             },
             "pattern": {
              "fillmode": "overlay",
              "size": 10,
              "solidity": 0.2
             }
            },
            "type": "bar"
           }
          ],
          "barpolar": [
           {
            "marker": {
             "line": {
              "color": "#E5ECF6",
              "width": 0.5
             },
             "pattern": {
              "fillmode": "overlay",
              "size": 10,
              "solidity": 0.2
             }
            },
            "type": "barpolar"
           }
          ],
          "carpet": [
           {
            "aaxis": {
             "endlinecolor": "#2a3f5f",
             "gridcolor": "white",
             "linecolor": "white",
             "minorgridcolor": "white",
             "startlinecolor": "#2a3f5f"
            },
            "baxis": {
             "endlinecolor": "#2a3f5f",
             "gridcolor": "white",
             "linecolor": "white",
             "minorgridcolor": "white",
             "startlinecolor": "#2a3f5f"
            },
            "type": "carpet"
           }
          ],
          "choropleth": [
           {
            "colorbar": {
             "outlinewidth": 0,
             "ticks": ""
            },
            "type": "choropleth"
           }
          ],
          "contour": [
           {
            "colorbar": {
             "outlinewidth": 0,
             "ticks": ""
            },
            "colorscale": [
             [
              0,
              "#0d0887"
             ],
             [
              0.1111111111111111,
              "#46039f"
             ],
             [
              0.2222222222222222,
              "#7201a8"
             ],
             [
              0.3333333333333333,
              "#9c179e"
             ],
             [
              0.4444444444444444,
              "#bd3786"
             ],
             [
              0.5555555555555556,
              "#d8576b"
             ],
             [
              0.6666666666666666,
              "#ed7953"
             ],
             [
              0.7777777777777778,
              "#fb9f3a"
             ],
             [
              0.8888888888888888,
              "#fdca26"
             ],
             [
              1,
              "#f0f921"
             ]
            ],
            "type": "contour"
           }
          ],
          "contourcarpet": [
           {
            "colorbar": {
             "outlinewidth": 0,
             "ticks": ""
            },
            "type": "contourcarpet"
           }
          ],
          "heatmap": [
           {
            "colorbar": {
             "outlinewidth": 0,
             "ticks": ""
            },
            "colorscale": [
             [
              0,
              "#0d0887"
             ],
             [
              0.1111111111111111,
              "#46039f"
             ],
             [
              0.2222222222222222,
              "#7201a8"
             ],
             [
              0.3333333333333333,
              "#9c179e"
             ],
             [
              0.4444444444444444,
              "#bd3786"
             ],
             [
              0.5555555555555556,
              "#d8576b"
             ],
             [
              0.6666666666666666,
              "#ed7953"
             ],
             [
              0.7777777777777778,
              "#fb9f3a"
             ],
             [
              0.8888888888888888,
              "#fdca26"
             ],
             [
              1,
              "#f0f921"
             ]
            ],
            "type": "heatmap"
           }
          ],
          "histogram": [
           {
            "marker": {
             "pattern": {
              "fillmode": "overlay",
              "size": 10,
              "solidity": 0.2
             }
            },
            "type": "histogram"
           }
          ],
          "histogram2d": [
           {
            "colorbar": {
             "outlinewidth": 0,
             "ticks": ""
            },
            "colorscale": [
             [
              0,
              "#0d0887"
             ],
             [
              0.1111111111111111,
              "#46039f"
             ],
             [
              0.2222222222222222,
              "#7201a8"
             ],
             [
              0.3333333333333333,
              "#9c179e"
             ],
             [
              0.4444444444444444,
              "#bd3786"
             ],
             [
              0.5555555555555556,
              "#d8576b"
             ],
             [
              0.6666666666666666,
              "#ed7953"
             ],
             [
              0.7777777777777778,
              "#fb9f3a"
             ],
             [
              0.8888888888888888,
              "#fdca26"
             ],
             [
              1,
              "#f0f921"
             ]
            ],
            "type": "histogram2d"
           }
          ],
          "histogram2dcontour": [
           {
            "colorbar": {
             "outlinewidth": 0,
             "ticks": ""
            },
            "colorscale": [
             [
              0,
              "#0d0887"
             ],
             [
              0.1111111111111111,
              "#46039f"
             ],
             [
              0.2222222222222222,
              "#7201a8"
             ],
             [
              0.3333333333333333,
              "#9c179e"
             ],
             [
              0.4444444444444444,
              "#bd3786"
             ],
             [
              0.5555555555555556,
              "#d8576b"
             ],
             [
              0.6666666666666666,
              "#ed7953"
             ],
             [
              0.7777777777777778,
              "#fb9f3a"
             ],
             [
              0.8888888888888888,
              "#fdca26"
             ],
             [
              1,
              "#f0f921"
             ]
            ],
            "type": "histogram2dcontour"
           }
          ],
          "mesh3d": [
           {
            "colorbar": {
             "outlinewidth": 0,
             "ticks": ""
            },
            "type": "mesh3d"
           }
          ],
          "parcoords": [
           {
            "line": {
             "colorbar": {
              "outlinewidth": 0,
              "ticks": ""
             }
            },
            "type": "parcoords"
           }
          ],
          "pie": [
           {
            "automargin": true,
            "type": "pie"
           }
          ],
          "scatter": [
           {
            "fillpattern": {
             "fillmode": "overlay",
             "size": 10,
             "solidity": 0.2
            },
            "type": "scatter"
           }
          ],
          "scatter3d": [
           {
            "line": {
             "colorbar": {
              "outlinewidth": 0,
              "ticks": ""
             }
            },
            "marker": {
             "colorbar": {
              "outlinewidth": 0,
              "ticks": ""
             }
            },
            "type": "scatter3d"
           }
          ],
          "scattercarpet": [
           {
            "marker": {
             "colorbar": {
              "outlinewidth": 0,
              "ticks": ""
             }
            },
            "type": "scattercarpet"
           }
          ],
          "scattergeo": [
           {
            "marker": {
             "colorbar": {
              "outlinewidth": 0,
              "ticks": ""
             }
            },
            "type": "scattergeo"
           }
          ],
          "scattergl": [
           {
            "marker": {
             "colorbar": {
              "outlinewidth": 0,
              "ticks": ""
             }
            },
            "type": "scattergl"
           }
          ],
          "scattermap": [
           {
            "marker": {
             "colorbar": {
              "outlinewidth": 0,
              "ticks": ""
             }
            },
            "type": "scattermap"
           }
          ],
          "scattermapbox": [
           {
            "marker": {
             "colorbar": {
              "outlinewidth": 0,
              "ticks": ""
             }
            },
            "type": "scattermapbox"
           }
          ],
          "scatterpolar": [
           {
            "marker": {
             "colorbar": {
              "outlinewidth": 0,
              "ticks": ""
             }
            },
            "type": "scatterpolar"
           }
          ],
          "scatterpolargl": [
           {
            "marker": {
             "colorbar": {
              "outlinewidth": 0,
              "ticks": ""
             }
            },
            "type": "scatterpolargl"
           }
          ],
          "scatterternary": [
           {
            "marker": {
             "colorbar": {
              "outlinewidth": 0,
              "ticks": ""
             }
            },
            "type": "scatterternary"
           }
          ],
          "surface": [
           {
            "colorbar": {
             "outlinewidth": 0,
             "ticks": ""
            },
            "colorscale": [
             [
              0,
              "#0d0887"
             ],
             [
              0.1111111111111111,
              "#46039f"
             ],
             [
              0.2222222222222222,
              "#7201a8"
             ],
             [
              0.3333333333333333,
              "#9c179e"
             ],
             [
              0.4444444444444444,
              "#bd3786"
             ],
             [
              0.5555555555555556,
              "#d8576b"
             ],
             [
              0.6666666666666666,
              "#ed7953"
             ],
             [
              0.7777777777777778,
              "#fb9f3a"
             ],
             [
              0.8888888888888888,
              "#fdca26"
             ],
             [
              1,
              "#f0f921"
             ]
            ],
            "type": "surface"
           }
          ],
          "table": [
           {
            "cells": {
             "fill": {
              "color": "#EBF0F8"
             },
             "line": {
              "color": "white"
             }
            },
            "header": {
             "fill": {
              "color": "#C8D4E3"
             },
             "line": {
              "color": "white"
             }
            },
            "type": "table"
           }
          ]
         },
         "layout": {
          "annotationdefaults": {
           "arrowcolor": "#2a3f5f",
           "arrowhead": 0,
           "arrowwidth": 1
          },
          "autotypenumbers": "strict",
          "coloraxis": {
           "colorbar": {
            "outlinewidth": 0,
            "ticks": ""
           }
          },
          "colorscale": {
           "diverging": [
            [
             0,
             "#8e0152"
            ],
            [
             0.1,
             "#c51b7d"
            ],
            [
             0.2,
             "#de77ae"
            ],
            [
             0.3,
             "#f1b6da"
            ],
            [
             0.4,
             "#fde0ef"
            ],
            [
             0.5,
             "#f7f7f7"
            ],
            [
             0.6,
             "#e6f5d0"
            ],
            [
             0.7,
             "#b8e186"
            ],
            [
             0.8,
             "#7fbc41"
            ],
            [
             0.9,
             "#4d9221"
            ],
            [
             1,
             "#276419"
            ]
           ],
           "sequential": [
            [
             0,
             "#0d0887"
            ],
            [
             0.1111111111111111,
             "#46039f"
            ],
            [
             0.2222222222222222,
             "#7201a8"
            ],
            [
             0.3333333333333333,
             "#9c179e"
            ],
            [
             0.4444444444444444,
             "#bd3786"
            ],
            [
             0.5555555555555556,
             "#d8576b"
            ],
            [
             0.6666666666666666,
             "#ed7953"
            ],
            [
             0.7777777777777778,
             "#fb9f3a"
            ],
            [
             0.8888888888888888,
             "#fdca26"
            ],
            [
             1,
             "#f0f921"
            ]
           ],
           "sequentialminus": [
            [
             0,
             "#0d0887"
            ],
            [
             0.1111111111111111,
             "#46039f"
            ],
            [
             0.2222222222222222,
             "#7201a8"
            ],
            [
             0.3333333333333333,
             "#9c179e"
            ],
            [
             0.4444444444444444,
             "#bd3786"
            ],
            [
             0.5555555555555556,
             "#d8576b"
            ],
            [
             0.6666666666666666,
             "#ed7953"
            ],
            [
             0.7777777777777778,
             "#fb9f3a"
            ],
            [
             0.8888888888888888,
             "#fdca26"
            ],
            [
             1,
             "#f0f921"
            ]
           ]
          },
          "colorway": [
           "#636efa",
           "#EF553B",
           "#00cc96",
           "#ab63fa",
           "#FFA15A",
           "#19d3f3",
           "#FF6692",
           "#B6E880",
           "#FF97FF",
           "#FECB52"
          ],
          "font": {
           "color": "#2a3f5f"
          },
          "geo": {
           "bgcolor": "white",
           "lakecolor": "white",
           "landcolor": "#E5ECF6",
           "showlakes": true,
           "showland": true,
           "subunitcolor": "white"
          },
          "hoverlabel": {
           "align": "left"
          },
          "hovermode": "closest",
          "mapbox": {
           "style": "light"
          },
          "paper_bgcolor": "white",
          "plot_bgcolor": "#E5ECF6",
          "polar": {
           "angularaxis": {
            "gridcolor": "white",
            "linecolor": "white",
            "ticks": ""
           },
           "bgcolor": "#E5ECF6",
           "radialaxis": {
            "gridcolor": "white",
            "linecolor": "white",
            "ticks": ""
           }
          },
          "scene": {
           "xaxis": {
            "backgroundcolor": "#E5ECF6",
            "gridcolor": "white",
            "gridwidth": 2,
            "linecolor": "white",
            "showbackground": true,
            "ticks": "",
            "zerolinecolor": "white"
           },
           "yaxis": {
            "backgroundcolor": "#E5ECF6",
            "gridcolor": "white",
            "gridwidth": 2,
            "linecolor": "white",
            "showbackground": true,
            "ticks": "",
            "zerolinecolor": "white"
           },
           "zaxis": {
            "backgroundcolor": "#E5ECF6",
            "gridcolor": "white",
            "gridwidth": 2,
            "linecolor": "white",
            "showbackground": true,
            "ticks": "",
            "zerolinecolor": "white"
           }
          },
          "shapedefaults": {
           "line": {
            "color": "#2a3f5f"
           }
          },
          "ternary": {
           "aaxis": {
            "gridcolor": "white",
            "linecolor": "white",
            "ticks": ""
           },
           "baxis": {
            "gridcolor": "white",
            "linecolor": "white",
            "ticks": ""
           },
           "bgcolor": "#E5ECF6",
           "caxis": {
            "gridcolor": "white",
            "linecolor": "white",
            "ticks": ""
           }
          },
          "title": {
           "x": 0.05
          },
          "xaxis": {
           "automargin": true,
           "gridcolor": "white",
           "linecolor": "white",
           "ticks": "",
           "title": {
            "standoff": 15
           },
           "zerolinecolor": "white",
           "zerolinewidth": 2
          },
          "yaxis": {
           "automargin": true,
           "gridcolor": "white",
           "linecolor": "white",
           "ticks": "",
           "title": {
            "standoff": 15
           },
           "zerolinecolor": "white",
           "zerolinewidth": 2
          }
         }
        },
        "title": {
         "text": "2D Chroma Vector Store Visualization"
        },
        "width": 800
       }
      }
     },
     "metadata": {},
     "output_type": "display_data"
    }
   ],
   "source": [
    "# We humans find it easier to visalize things in 2D!\n",
    "# Reduce the dimensionality of the vectors to 2D using t-SNE\n",
    "# (t-distributed stochastic neighbor embedding)\n",
    "\n",
    "tsne = TSNE(n_components=2, random_state=42)\n",
    "reduced_vectors = tsne.fit_transform(vectors)\n",
    "\n",
    "# Create the 2D scatter plot\n",
    "fig = go.Figure(data=[go.Scatter(\n",
    "    x=reduced_vectors[:, 0],\n",
    "    y=reduced_vectors[:, 1],\n",
    "    mode='markers',\n",
    "    marker=dict(size=5, color=colors, opacity=0.8),\n",
    "    text=[f\"Type: {t}<br>Text: {d[:100]}...\" for t, d in zip(doc_types, documents)],\n",
    "    hoverinfo='text'\n",
    ")])\n",
    "\n",
    "fig.update_layout(\n",
    "    title='2D Chroma Vector Store Visualization',\n",
    "    scene=dict(xaxis_title='x',yaxis_title='y'),\n",
    "    width=800,\n",
    "    height=600,\n",
    "    margin=dict(r=20, b=10, l=10, t=40)\n",
    ")\n",
    "\n",
    "fig.show()"
   ]
  },
  {
   "cell_type": "code",
   "execution_count": 12,
   "metadata": {},
   "outputs": [
    {
     "data": {
      "application/vnd.plotly.v1+json": {
       "config": {
        "plotlyServerURL": "https://plot.ly"
       },
       "data": [
        {
         "hoverinfo": "text",
         "marker": {
          "color": [
           "blue",
           "blue",
           "blue",
           "blue",
           "blue",
           "blue",
           "blue",
           "blue",
           "blue",
           "blue",
           "blue",
           "blue",
           "blue",
           "blue",
           "blue",
           "blue",
           "blue",
           "blue",
           "blue",
           "blue",
           "blue",
           "blue",
           "blue",
           "blue",
           "blue",
           "blue",
           "blue",
           "blue",
           "blue",
           "blue",
           "blue",
           "blue",
           "blue",
           "blue",
           "blue",
           "blue",
           "blue",
           "blue",
           "blue",
           "blue",
           "blue",
           "blue",
           "blue",
           "blue",
           "blue",
           "blue",
           "blue",
           "red",
           "red",
           "red",
           "red",
           "red",
           "red",
           "red",
           "red",
           "red",
           "red",
           "red",
           "red",
           "red",
           "red",
           "red",
           "red",
           "red",
           "red",
           "red",
           "red",
           "red",
           "red",
           "red",
           "red",
           "red",
           "red",
           "red",
           "red",
           "red",
           "red",
           "red",
           "red",
           "red",
           "red",
           "red",
           "red",
           "red",
           "red",
           "red",
           "red",
           "red",
           "red",
           "red",
           "red",
           "red",
           "red",
           "red",
           "red",
           "red",
           "red",
           "red",
           "red",
           "red",
           "red",
           "red",
           "red",
           "red",
           "red",
           "red",
           "red",
           "red",
           "red",
           "red",
           "red",
           "red",
           "red",
           "red",
           "red",
           "red",
           "red",
           "red",
           "red",
           "red",
           "red",
           "red",
           "red",
           "red",
           "red",
           "red",
           "red",
           "red",
           "red",
           "red",
           "red",
           "red",
           "red",
           "red",
           "red",
           "red",
           "red",
           "red",
           "red",
           "red",
           "red",
           "red",
           "red",
           "red",
           "red",
           "red",
           "red",
           "red",
           "red",
           "red",
           "red",
           "red",
           "red",
           "red",
           "red",
           "red",
           "red",
           "red",
           "red",
           "red",
           "red",
           "red",
           "red",
           "red",
           "red",
           "red",
           "red",
           "red",
           "red",
           "red",
           "red",
           "red",
           "red",
           "red",
           "red",
           "red",
           "red",
           "red",
           "red",
           "red",
           "red",
           "red",
           "red",
           "red",
           "red",
           "red",
           "red",
           "red",
           "red",
           "red",
           "red",
           "red",
           "red",
           "red",
           "red",
           "red",
           "red",
           "red",
           "red",
           "red",
           "red",
           "red",
           "red",
           "red",
           "red",
           "red",
           "red",
           "red",
           "red",
           "red",
           "red",
           "red",
           "red",
           "red",
           "red",
           "red",
           "red",
           "red",
           "red",
           "red",
           "red",
           "red",
           "red",
           "red",
           "red",
           "red",
           "red",
           "red",
           "red",
           "red",
           "red",
           "red",
           "red",
           "red",
           "red",
           "red",
           "red",
           "red",
           "red",
           "red",
           "red",
           "red",
           "red",
           "red",
           "red",
           "red",
           "red",
           "red",
           "red",
           "red",
           "red",
           "red",
           "red",
           "red",
           "red",
           "red",
           "red",
           "red",
           "red",
           "red",
           "red",
           "red",
           "red",
           "red",
           "red",
           "red",
           "red",
           "red",
           "red",
           "red",
           "red",
           "red",
           "red",
           "red",
           "red",
           "red",
           "red",
           "red",
           "orange",
           "orange",
           "orange",
           "orange",
           "orange",
           "orange",
           "orange",
           "orange",
           "orange",
           "orange",
           "orange",
           "orange",
           "orange",
           "orange",
           "orange",
           "orange",
           "orange",
           "orange",
           "green",
           "green",
           "green",
           "green",
           "green",
           "green",
           "green",
           "green",
           "green",
           "green",
           "green",
           "green",
           "green",
           "green",
           "green",
           "green",
           "green",
           "green",
           "green",
           "green",
           "green",
           "green",
           "green",
           "green",
           "green",
           "green",
           "green",
           "green",
           "green",
           "green",
           "green",
           "green",
           "green",
           "green",
           "green",
           "green",
           "green",
           "green",
           "green",
           "green",
           "green",
           "green",
           "green",
           "green",
           "green",
           "green",
           "green",
           "green",
           "green",
           "green",
           "green",
           "green",
           "green",
           "green",
           "green",
           "green",
           "green",
           "green",
           "green",
           "green",
           "green",
           "green",
           "green",
           "green",
           "green",
           "green",
           "green",
           "green",
           "green",
           "green",
           "green",
           "green",
           "green",
           "green",
           "green",
           "green",
           "green",
           "green",
           "green",
           "green",
           "green",
           "green",
           "green",
           "green",
           "green",
           "green",
           "green",
           "green",
           "green",
           "green",
           "green",
           "green",
           "green",
           "green",
           "green",
           "green",
           "green",
           "green",
           "green",
           "green",
           "green",
           "green",
           "green",
           "green",
           "green",
           "green",
           "green",
           "green",
           "green",
           "green",
           "green",
           "green",
           "green",
           "green",
           "green",
           "green",
           "green"
          ],
          "opacity": 0.8,
          "size": 5
         },
         "mode": "markers",
         "text": [
          "Type: products<br>Text: # Product Summary\n\n# Rellm: AI-Powered Enterprise Reinsurance Solution\n\n## Summary\n\nRellm is an inno...",
          "Type: products<br>Text: ### Seamless Integrations\nRellm's architecture is designed for effortless integration with existing ...",
          "Type: products<br>Text: ### Regulatory Compliance Tools\nRellm includes built-in compliance tracking features to help organiz...",
          "Type: products<br>Text: Join the growing number of organizations leveraging Rellm to enhance their reinsurance processes whi...",
          "Type: products<br>Text: Experience the future of reinsurance with Rellm, where innovation meets reliability. Let Insurellm h...",
          "Type: products<br>Text: # Product Summary\n\n# Claimllm\n\n## Summary\n\nClaimllm is Insurellm's revolutionary claims processing p...",
          "Type: products<br>Text: ## Features\n\n### 1. Intelligent FNOL Processing\nClaimllm's AI-powered first notice of loss intake ca...",
          "Type: products<br>Text: ### 4. Predictive Fraud Detection\nSophisticated fraud analytics evaluate claims against historical p...",
          "Type: products<br>Text: ### 7. Vendor Management Platform\nIntegrated tools coordinate with repair shops, medical providers, ...",
          "Type: products<br>Text: ### 10. Analytics and Reporting\nComprehensive dashboards track key metrics including cycle time, los...",
          "Type: products<br>Text: All tiers include comprehensive implementation, claims staff training, and continuous platform enhan...",
          "Type: products<br>Text: Claimllm represents the future of insurance claims—faster, smarter, and more customer-centric. Trans...",
          "Type: products<br>Text: # Product Summary\n\n# Bizllm\n\n## Summary\n\nBizllm is Insurellm's enterprise-grade commercial insurance...",
          "Type: products<br>Text: ## Features\n\n### 1. Multi-Line Underwriting Engine\nBizllm's sophisticated underwriting platform hand...",
          "Type: products<br>Text: ### 4. Workers' Compensation Optimization\nIntegrated workers' comp tools analyze payroll data, indus...",
          "Type: products<br>Text: ### 7. Portfolio Management Dashboard\nComprehensive analytics provide insurers with portfolio-level ...",
          "Type: products<br>Text: ## Pricing\n\nBizllm's pricing structure reflects the complexity and value of commercial insurance ope...",
          "Type: products<br>Text: All tiers include implementation services, staff training, and continuous platform updates.\n\n## Road...",
          "Type: products<br>Text: Bizllm empowers commercial insurers to compete effectively in complex markets while delivering the d...",
          "Type: products<br>Text: # Product Summary\n\n# Lifellm\n\n## Summary\n\nLifellm is an advanced life insurance platform developed b...",
          "Type: products<br>Text: ### 2. Predictive Risk Modeling\nAdvanced machine learning algorithms assess mortality risk by analyz...",
          "Type: products<br>Text: ### 5. Smart Document Processing\nLifellm utilizes natural language processing and optical character ...",
          "Type: products<br>Text: ## Pricing\n\nLifellm's flexible pricing structure accommodates insurance providers of all sizes:\n\n- *...",
          "Type: products<br>Text: All tiers include comprehensive onboarding, training programs, and regular platform updates.\n\n## Roa...",
          "Type: products<br>Text: With Lifellm, Insurellm is transforming life insurance into a modern, customer-centric experience th...",
          "Type: products<br>Text: # Product Summary\n\n# Healthllm\n\n## Summary\n\nHealthllm is Insurellm's comprehensive health insurance ...",
          "Type: products<br>Text: ### 2. Real-Time Eligibility Verification\nIntegrated eligibility checking ensures instant verificati...",
          "Type: products<br>Text: ### 5. Provider Network Management\nComprehensive tools for managing provider relationships, contract...",
          "Type: products<br>Text: ### 8. Regulatory Compliance Engine\nBuilt-in compliance monitoring ensures adherence to ACA requirem...",
          "Type: products<br>Text: All plans include implementation support, staff training, and ongoing platform enhancements.\n\n## Roa...",
          "Type: products<br>Text: Healthllm represents Insurellm's commitment to transforming health insurance through technology that...",
          "Type: products<br>Text: # Product Summary\n\n# Markellm\n\n## Summary\n\nMarkellm is an innovative two-sided marketplace designed ...",
          "Type: products<br>Text: - **User-Friendly Interface**: Designed with user experience in mind, Markellm features an intuitive...",
          "Type: products<br>Text: - **Customer Support**: Our dedicated support team is always available to assist both consumers and ...",
          "Type: products<br>Text: ### For Insurance Companies:\n- **Basic Listing Fee**: $199/month for a featured listing on the platf...",
          "Type: products<br>Text: ### Q3 2025\n- Initiate a comprehensive marketing campaign targeting both consumers and insurers to i...",
          "Type: products<br>Text: # Product Summary\n\n# Homellm\n\n## Summary\nHomellm is an innovative home insurance product developed b...",
          "Type: products<br>Text: ### 2. Dynamic Pricing Model\nWith Homellm's innovative dynamic pricing model, insurance providers ca...",
          "Type: products<br>Text: ### 5. Multi-Channel Integration\nHomellm seamlessly integrates into existing insurance platforms, pr...",
          "Type: products<br>Text: - **Basic Tier:** Starting at $5,000/month for small insurers with basic integration features.\n- **S...",
          "Type: products<br>Text: All tiers include a comprehensive training program and ongoing updates to ensure optimal performance...",
          "Type: products<br>Text: With Homellm, Insurellm is committed to transforming the landscape of home insurance, ensuring both ...",
          "Type: products<br>Text: # Product Summary\n\n# Carllm\n\n## Summary\n\nCarllm is an innovative auto insurance product developed by...",
          "Type: products<br>Text: - **Instant Quoting**: With Carllm, insurance companies can offer near-instant quotes to customers, ...",
          "Type: products<br>Text: - **Mobile Integration**: Carllm is designed to work seamlessly with mobile applications, providing ...",
          "Type: products<br>Text: - **Professional Tier**: $2,500/month\n  - For medium-sized companies.\n  - All Basic Tier features pl...",
          "Type: products<br>Text: ### Q2 2025: Customer Experience Improvements\n- Launch of a new **mobile app** for end-users.\n- Intr...",
          "Type: contracts<br>Text: # Contract with GreenField Holdings for Markellm\n\n**Effective Date:** November 15, 2023  \n**Contract...",
          "Type: contracts<br>Text: ## Renewal\n1. **Automatic Renewal**: This contract will automatically renew for sequential one-year ...",
          "Type: contracts<br>Text: ## Features\n1. **AI-Powered Matching**: Access to advanced algorithms that connect GreenField Holdin...",
          "Type: contracts<br>Text: ## Support\n1. **Customer Support Access**: The Client will have access to dedicated support through ...",
          "Type: contracts<br>Text: **Signatures:**  \n_________________________                           _________________________  \n**...",
          "Type: contracts<br>Text: # Contract with EverGuard Insurance for Rellm: AI-Powered Enterprise Reinsurance Solution\n\n**Contrac...",
          "Type: contracts<br>Text: 4. **Usage Rights**: EverGuard Insurance is granted a non-exclusive, non-transferable license to acc...",
          "Type: contracts<br>Text: 1. **Core Functionality**: Rellm provides EverGuard Insurance with advanced AI-driven analytics, sea...",
          "Type: contracts<br>Text: 1. **Customer Support**: Insurellm will provide EverGuard Insurance with 24/7 customer support, incl...",
          "Type: contracts<br>Text: ---\n\n**Signatures**  \n**For Insurellm**: __________________________  \n**Name**: John Smith  \n**Title...",
          "Type: contracts<br>Text: # Contract with United Healthcare Alliance for Healthllm\n\n**Contract Date:** May 15, 2025\n**Contract...",
          "Type: contracts<br>Text: 4. **Service Level Agreement:** Insurellm guarantees 99.95% uptime measured monthly, with financial ...",
          "Type: contracts<br>Text: 7. **Business Continuity:** Guaranteed 2-hour recovery time objective (RTO) and 15-minute recovery p...",
          "Type: contracts<br>Text: 1. **Unlimited Member Administration:** No capacity restrictions, supporting United's 250,000+ membe...",
          "Type: contracts<br>Text: 4. **Advanced AI Claims Adjudication:** Enterprise-grade claims processing:\n   - Auto-adjudication r...",
          "Type: contracts<br>Text: 6. **Complete API Access:** Unlimited API calls supporting:\n   - Real-time integration with United's...",
          "Type: contracts<br>Text: 8. **Comprehensive Medication Management:**\n   - Multi-tier formulary management (national and state...",
          "Type: contracts<br>Text: 10. **Quality and Performance Management:**\n    - HEDIS measure calculation and reporting\n    - STAR...",
          "Type: contracts<br>Text: 12. **Regulatory Compliance and Reporting:**\n    - ACA compliance monitoring (MLR, essential health ...",
          "Type: contracts<br>Text: ---\n\n## Support\n\nInsurellm commits to comprehensive Enterprise-level support for United Healthcare A...",
          "Type: contracts<br>Text: 3. **Comprehensive Implementation:**\n   - 18-month phased implementation program with 4 major go-liv...",
          "Type: contracts<br>Text: 4. **Training and Enablement:**\n   - Comprehensive role-based training programs for all staff\n   - E...",
          "Type: contracts<br>Text: 5. **Custom Development:**\n   - 3,000 hours annually of custom development included\n   - Dedicated d...",
          "Type: contracts<br>Text: 6. **Integration Services:**\n   - Enterprise integration with United's complex system landscape:\n   ...",
          "Type: contracts<br>Text: 7. **Analytics and Reporting:**\n   - Custom dashboard development (unlimited)\n   - Real-time operati...",
          "Type: contracts<br>Text: 8. **Compliance and Regulatory Support:**\n   - Monthly compliance reviews with detailed documentatio...",
          "Type: contracts<br>Text: 9. **Continuous Improvement:**\n   - Bi-weekly process optimization workshops\n   - Quarterly efficien...",
          "Type: contracts<br>Text: _________________________________\n**James Patterson**\n**Title**: Chairman & Chief Executive Officer\n...",
          "Type: contracts<br>Text: # Contract with Guardian Life Partners for Lifellm\n\n---\n\n## Terms...",
          "Type: contracts<br>Text: ---\n\n## Terms\n\n1. **Agreement Effective Date**: This contract is effective as of March 1, 2025.\n2. *...",
          "Type: contracts<br>Text: ---\n\n## Renewal\n\n1. **Automatic Renewal**: This agreement will automatically renew for an additional...",
          "Type: contracts<br>Text: ---\n\n## Features\n\n1. **Access to Growth Tier Features**: Guardian Life Partners will have comprehens...",
          "Type: contracts<br>Text: 3. **Advanced Underwriting:**\n   - Automated underwriting for face amounts up to $500,000\n   - Accel...",
          "Type: contracts<br>Text: 2. **Training**: Comprehensive training program:\n   - Initial onboarding (4 weeks) for up to 20 staf...",
          "Type: contracts<br>Text: 5. **Integration Support**: Technical assistance for integrating Lifellm with:\n   - Guardian's polic...",
          "Type: contracts<br>Text: _________________________________\n**Jonathan Park**\n**Title**: President & CEO\n**Guardian Life Partn...",
          "Type: contracts<br>Text: # Contract with Greenstone Insurance for Homellm\n\n---\n\n## Terms\n\n1. **Parties**: This Contract (\"Agr...",
          "Type: contracts<br>Text: 4. **Payment Terms**: \n   - The Customer shall pay an amount of $10,000 per month for the Standard T...",
          "Type: contracts<br>Text: ---\n\n## Features\n\n- **AI-Powered Risk Assessment**: Customer will have access to enhanced risk evalu...",
          "Type: contracts<br>Text: - **Customer Portal**: A dedicated portal will be provided, allowing the Customer's clients to manag...",
          "Type: contracts<br>Text: ______________________________  \n[Name], [Title]  \nDate: ______________________\n\n**For Greenstone In...",
          "Type: contracts<br>Text: # Contract with Roadway Insurance Inc. for Carllm\n\n---\n\n## Terms\n\n1. **Agreement Effective Date**: T...",
          "Type: contracts<br>Text: ---\n\n## Renewal\n\n1. **Automatic Renewal**: This agreement will automatically renew for an additional...",
          "Type: contracts<br>Text: ---\n\n## Features\n\n1. **Access to Core Features**: Roadway Insurance Inc. will have access to all Pro...",
          "Type: contracts<br>Text: ---\n\n## Support\n\n1. **Technical Support**: Roadway Insurance Inc. will receive priority technical su...",
          "Type: contracts<br>Text: # Contract with Rapid Claims Associates for Claimllm\n\n**Contract Date:** March 1, 2025\n**Contract Nu...",
          "Type: contracts<br>Text: 4. **Overage Fees:** If claims volume exceeds 5,000 annually, overage fees of $0.90 per claim apply,...",
          "Type: contracts<br>Text: ---\n\n## Features\n\nRapid Claims Associates will receive the following Core Tier features:\n\n1. **Intel...",
          "Type: contracts<br>Text: 3. **Basic Document Processing:** OCR and NLP extraction from:\n   - Police reports\n   - Repair estim...",
          "Type: contracts<br>Text: 7. **Payment Processing:** Integration with payment systems for:\n   - Direct deposit (ACH)\n   - Chec...",
          "Type: contracts<br>Text: 3. **Platform Updates:**\n   - Quarterly feature releases with new capabilities\n   - Monthly security...",
          "Type: contracts<br>Text: _________________________________\n**Marcus Johnson**\n**Title**: Chief Claims Officer\n**Rapid Claims ...",
          "Type: contracts<br>Text: # Contract with National Claims Network for Claimllm\n\n**Contract Date:** April 20, 2025\n**Contract N...",
          "Type: contracts<br>Text: 4. **Service Level Agreement:** Insurellm guarantees 99.95% uptime with financial credits for downti...",
          "Type: contracts<br>Text: 7. **Business Continuity:** Insurellm provides disaster recovery with 4-hour RTO (Recovery Time Obje...",
          "Type: contracts<br>Text: 3. **Advanced Computer Vision:** State-of-the-art damage assessment:\n   - Auto damage analysis with ...",
          "Type: contracts<br>Text: 5. **Complete API Access:** Unlimited API calls supporting:\n   - Real-time integrations with 50+ car...",
          "Type: contracts<br>Text: 8. **Advanced Vendor Management:**\n   - Network of 5,000+ preferred vendors nationwide\n   - AI-power...",
          "Type: contracts<br>Text: 2. **24/7/365 Premium Support:**\n   - Guaranteed 10-minute response time for P1 critical issues\n   -...",
          "Type: contracts<br>Text: 4. **Training and Enablement:**\n   - Role-based training programs (adjusters, supervisors, fraud inv...",
          "Type: contracts<br>Text: 6. **Integration Services:**\n   - Enterprise integration with National's systems:\n     - Policy admi...",
          "Type: contracts<br>Text: 8. **Continuous Improvement:**\n   - Quarterly process optimization workshops\n   - Annual efficiency ...",
          "Type: contracts<br>Text: # Contract with Continental Commercial Group for Bizllm\n\n**Contract Date:** April 12, 2025\n**Contrac...",
          "Type: contracts<br>Text: 4. **Confidentiality:** Both parties agree to maintain the highest level of confidentiality regardin...",
          "Type: contracts<br>Text: 7. **Exclusivity:** Continental Commercial Group receives exclusive use of Bizllm in the specialty c...",
          "Type: contracts<br>Text: 2. **Dedicated Cloud Infrastructure:** Private cloud deployment with dedicated servers, ensuring dat...",
          "Type: contracts<br>Text: 5. **Custom Product Configuration:** Ability to configure and deploy unlimited custom commercial ins...",
          "Type: contracts<br>Text: 8. **Regulatory Compliance Suite:** Automated compliance monitoring for all 50 states including form...",
          "Type: contracts<br>Text: 3. **Implementation and Onboarding:**\n   - 6-month implementation program with dedicated project man...",
          "Type: contracts<br>Text: 6. **Performance Optimization:**\n   - Monthly platform performance reviews\n   - Proactive capacity p...",
          "Type: contracts<br>Text: # Contract with Stellar Insurance Co. for Rellm\n\n## Terms\nThis contract is made between **Insurellm*...",
          "Type: contracts<br>Text: ### Termination\nEither party may terminate this agreement with a **30-day written notice**. In the e...",
          "Type: contracts<br>Text: ## Features\nStellar Insurance Co. will receive access to the following features of the Rellm product...",
          "Type: contracts<br>Text: ## Support\nInsurellm provides Stellar Insurance Co. with the following support services:\n\n- **24/7 T...",
          "Type: contracts<br>Text: # Contract with Harmony Health Plans for Healthllm\n\n---\n\n## Terms...",
          "Type: contracts<br>Text: ---\n\n## Terms\n\n1. **Agreement Effective Date**: This contract is effective as of January 25, 2025.\n2...",
          "Type: contracts<br>Text: ---\n\n## Renewal\n\n1. **Automatic Renewal**: This agreement will automatically renew for an additional...",
          "Type: contracts<br>Text: ---\n\n## Features\n\n1. **Access to Professional Tier Features**: Harmony Health Plans will have compre...",
          "Type: contracts<br>Text: 2. **Predictive Healthcare Analytics:**\n   - High-risk member identification for care management\n   ...",
          "Type: contracts<br>Text: 4. **Value-Based Care Tools:**\n   - ACO (Accountable Care Organization) performance tracking\n   - Sh...",
          "Type: contracts<br>Text: 2. **Training**: Comprehensive training program:\n   - 6-week implementation with dedicated project m...",
          "Type: contracts<br>Text: 4. **Account Management**:\n   - Named Senior Customer Success Manager with bi-weekly check-ins\n   - ...",
          "Type: contracts<br>Text: 6. **Analytics and Reporting:**\n   - Custom dashboard development (up to 10 dashboards)\n   - Automat...",
          "Type: contracts<br>Text: ---\n\n**Signatures:**\n\n_________________________________\n**Sarah Chen**\n**Title**: Vice President of ...",
          "Type: contracts<br>Text: # Contract with TechDrive Insurance for Carllm\n\n**Contract Date:** October 1, 2024  \n**Contract Dura...",
          "Type: contracts<br>Text: ## Renewal\n\n1. **Automatic Renewal**: This contract shall automatically renew for additional one-yea...",
          "Type: contracts<br>Text: ## Support\n\n1. **Customer Support**: Insurellm will provide 24/7 customer support to TechDrive Insur...",
          "Type: contracts<br>Text: **TechDrive Insurance Representative:**  \nName: Sarah Johnson  \nTitle: Operations Director  \nDate: _...",
          "Type: contracts<br>Text: # Contract with Heritage Life Assurance for Lifellm\n\n**Contract Date:** February 12, 2025\n**Contract...",
          "Type: contracts<br>Text: ## Renewal\n\n1. **Automatic Renewal**: This agreement automatically renews for 12-month terms unless ...",
          "Type: contracts<br>Text: 3. **Digital Health Integration**:\n   - Wearable device connections (Fitbit, Apple Watch)\n   - Healt...",
          "Type: contracts<br>Text: 6. **Advanced Reporting**:\n   - Application conversion analytics\n   - Underwriting productivity metr...",
          "Type: contracts<br>Text: ---\n\n**Signatures:**\n\n**Insurellm, Inc.**\nMichael Torres, Chief Revenue Officer\nDate: February 12, 2...",
          "Type: contracts<br>Text: # Contract with Premier Adjusters Inc. for Claimllm\n\n---\n\n## Terms...",
          "Type: contracts<br>Text: ---\n\n## Terms\n\n1. **Agreement Effective Date**: This contract is effective as of February 15, 2025.\n...",
          "Type: contracts<br>Text: ---\n\n## Renewal\n\n1. **Automatic Renewal**: This agreement will automatically renew for an additional...",
          "Type: contracts<br>Text: ---\n\n## Features\n\n1. **Access to Advanced Tier Features**: Premier Adjusters Inc. will have access t...",
          "Type: contracts<br>Text: 2. **Computer Vision Capabilities:**\n   - Automated vehicle damage assessment from photos (dents, sc...",
          "Type: contracts<br>Text: ---\n\n## Support\n\n1. **Technical Support**: Premier Adjusters Inc. will receive priority advanced sup...",
          "Type: contracts<br>Text: 3. **Updates and Maintenance**:\n   - Monthly platform updates with new features\n   - Bi-weekly secur...",
          "Type: contracts<br>Text: 6. **Data and Analytics:**\n   - Custom dashboard development (up to 5 dashboards)\n   - Monthly data ...",
          "Type: contracts<br>Text: # Contract with FastTrack Insurance Services for Claimllm\n\n**Contract Date:** May 10, 2025\n**Contrac...",
          "Type: contracts<br>Text: 5. **Confidentiality**: Both parties shall maintain confidentiality regarding each other's proprieta...",
          "Type: contracts<br>Text: 2. **Pricing Review**: Renewal pricing will be discussed 60 days prior to term end. Price increases ...",
          "Type: contracts<br>Text: 2. **Integration Capabilities**: API integration with FastTrack's existing claims systems (Guidewire...",
          "Type: contracts<br>Text: ---\n\n**Signatures:**\n\n**Insurellm, Inc.**\nSarah Chen, VP of Sales\nDate: May 10, 2025\n\n**FastTrack In...",
          "Type: contracts<br>Text: # Contract with Atlantic Risk Solutions for Bizllm\n\n---\n\n## Terms\n\n1. **Agreement Effective Date**: ...",
          "Type: contracts<br>Text: ---\n\n## Renewal\n\n1. **Automatic Renewal**: This agreement will automatically renew for an additional...",
          "Type: contracts<br>Text: ---\n\n## Features\n\n1. **Access to Professional Tier Features**: Atlantic Risk Solutions will have acc...",
          "Type: contracts<br>Text: 2. **Industry-Specific Templates**: Pre-configured underwriting templates for:\n   - Technology compa...",
          "Type: contracts<br>Text: 2. **Training**: Insurellm will provide comprehensive training program:\n   - Initial onboarding for ...",
          "Type: contracts<br>Text: 5. **Integration Support**: Technical assistance for integrating Bizllm with:\n   - Atlantic's existi...",
          "Type: contracts<br>Text: # Contract with Belvedere Insurance for Markellm\n\n## Terms\nThis Contract (\"Agreement\") is made and e...",
          "Type: contracts<br>Text: ## Renewal\n1. **Renewal Terms**: This Agreement may be renewed for additional one-year terms upon mu...",
          "Type: contracts<br>Text: ## Features\n1. **AI-Powered Matching**: Belvedere Insurance will benefit from Markellm's AI-powered ...",
          "Type: contracts<br>Text: ## Support\n1. **Technical Support**: Technical support will be available from 9 AM to 7 PM EST, Mond...",
          "Type: contracts<br>Text: **Belvedere Insurance**  \nSignature: ______________________  \nName: [Authorized Signatory]  \nTitle: ...",
          "Type: contracts<br>Text: # Contract with ConnectInsure Agency for Markellm\n\n**Contract Date:** February 28, 2025\n**Contract N...",
          "Type: contracts<br>Text: 5. **Lead Volume Expectations**: Based on ConnectInsure's profile, Markellm projects 80-120 qualifie...",
          "Type: contracts<br>Text: 8. **Dispute Resolution**: Lead quality disputes must be submitted within 5 business days with docum...",
          "Type: contracts<br>Text: 2. **Featured Listing**: Premium marketplace placement including:\n   - Enhanced agency profile with ...",
          "Type: contracts<br>Text: 5. **Data Insights**: Analytics dashboard providing:\n   - Lead volume trends and forecasting\n   - Co...",
          "Type: contracts<br>Text: 2. **Onboarding**: Implementation includes:\n   - 2-week onboarding process\n   - Platform training fo...",
          "Type: contracts<br>Text: ---\n\n**Signatures:**\n\n**Insurellm, Inc.**\nMichael Torres, Chief Revenue Officer\nDate: February 28, 2...",
          "Type: contracts<br>Text: # Contract with Metropolitan Life Group for Lifellm\n\n**Contract Date:** April 5, 2025\n**Contract Num...",
          "Type: contracts<br>Text: 4. **Service Level Agreement:** Insurellm guarantees 99.9% uptime measured monthly, with 10% monthly...",
          "Type: contracts<br>Text: ---\n\n## Features\n\nMetropolitan Life Group will receive the complete Lifellm Enterprise suite:\n\n1. **...",
          "Type: contracts<br>Text: 4. **Comprehensive Digital Health Integration:**\n   - Wearable integrations: Apple Watch, Fitbit, Ga...",
          "Type: contracts<br>Text: 6. **Predictive Analytics Suite:**\n   - Lapse and persistency prediction modeling\n   - Cross-sell an...",
          "Type: contracts<br>Text: 9. **Regulatory and Compliance:**\n   - 50-state compliance monitoring and form filing\n   - Automated...",
          "Type: contracts<br>Text: ---\n\n## Support\n\nInsurellm commits to comprehensive Enterprise-level support for Metropolitan Life G...",
          "Type: contracts<br>Text: 3. **Comprehensive Implementation:**\n   - 12-month phased implementation program with 3 major releas...",
          "Type: contracts<br>Text: 5. **Custom Development:**\n   - 2,000 hours annually of custom development included\n   - Dedicated d...",
          "Type: contracts<br>Text: 7. **Analytics and Reporting:**\n   - Custom executive dashboard development (unlimited)\n   - Real-ti...",
          "Type: contracts<br>Text: ---\n\n**Signatures:**\n\n_________________________________\n**Jennifer Rodriguez**\n**Title**: Chief Exec...",
          "Type: contracts<br>Text: # Contract with Velocity Auto Solutions for Carllm\n\n**Contract Date:** October 1, 2023  \n**Contract ...",
          "Type: contracts<br>Text: ## Renewal\n\n1. **Automatic Renewal**: This contract will automatically renew for successive 12-month...",
          "Type: contracts<br>Text: ## Support\n\n1. **Customer Support**: Velocity Auto Solutions will have access to Insurellm’s custome...",
          "Type: contracts<br>Text: # Contract with GlobalRe Partners for Rellm - AI-Powered Enterprise Reinsurance Solution\n\n**Contract...",
          "Type: contracts<br>Text: 4. **Reinsurance Volume**: Enterprise Tier supports unlimited treaties and facultative certificates....",
          "Type: contracts<br>Text: 8. **Business Continuity:** Guaranteed 2-hour recovery time objective (RTO) and 30-minute recovery p...",
          "Type: contracts<br>Text: ---\n\n## Features\n\nGlobalRe Partners will receive the complete Rellm Enterprise suite with advanced r...",
          "Type: contracts<br>Text: 3. **Advanced AI-Driven Analytics:** Enterprise-grade reinsurance analytics:\n   - Predictive risk mo...",
          "Type: contracts<br>Text: 5. **Catastrophe Modeling Integration:** Best-in-class CAT modeling:\n   - Integration with all major...",
          "Type: contracts<br>Text: 7. **Facultative Reinsurance Platform:** Comprehensive fac management:\n   - Digital submission intak...",
          "Type: contracts<br>Text: 9. **Regulatory Compliance Tools:** Global compliance support:\n   - Multi-jurisdiction regulatory re...",
          "Type: contracts<br>Text: 11. **Complete API Access:** Unlimited API integration:\n    - Real-time integration with GlobalRe's ...",
          "Type: contracts<br>Text: 13. **Climate Risk Analytics:** Forward-looking climate modeling:\n    - IPCC climate scenario analys...",
          "Type: contracts<br>Text: 2. **24/7/365 Premium Support:**\n   - Guaranteed 10-minute response for P1 critical issues (during c...",
          "Type: contracts<br>Text: 3. **Comprehensive Implementation:**\n   - 18-month phased implementation program with 5 major releas...",
          "Type: contracts<br>Text: 4. **Training and Enablement:**\n   - Comprehensive role-based training (underwriters, actuaries, acc...",
          "Type: contracts<br>Text: 5. **Custom Development:**\n   - 4,000 hours annually of custom development included\n   - Dedicated d...",
          "Type: contracts<br>Text: 6. **Integration Services:**\n   - Enterprise integration with GlobalRe's complex ecosystem:\n     - S...",
          "Type: contracts<br>Text: 7. **Analytics and Reporting:**\n   - Custom dashboard development (unlimited)\n   - Real-time operati...",
          "Type: contracts<br>Text: 8. **Catastrophe Response:**\n   - Dedicated CAT war room activation during major events\n   - Real-ti...",
          "Type: contracts<br>Text: 10. **Continuous Improvement:**\n    - Monthly process optimization sessions\n    - Quarterly efficien...",
          "Type: contracts<br>Text: ---\n\n**Signatures:**\n\n_________________________________\n**Jennifer Rodriguez**\n**Title**: Chief Exec...",
          "Type: contracts<br>Text: # Contract with WellCare Insurance Co. for Healthllm\n\n**Contract Date:** March 8, 2025\n**Contract Nu...",
          "Type: contracts<br>Text: 4. **Member Coverage**: Essential Tier supports health insurance administration for up to 15,000 cov...",
          "Type: contracts<br>Text: ---\n\n## Features\n\nWellCare Insurance Co. will receive the following Essential Tier features:\n\n1. **I...",
          "Type: contracts<br>Text: 3. **AI-Driven Claims Adjudication:** Automated claims processing:\n   - Machine learning-based claim...",
          "Type: contracts<br>Text: 6. **Basic Medication Management:**\n   - Formulary management tools\n   - Prior authorization workflo...",
          "Type: contracts<br>Text: ---\n\n## Support\n\nInsurellm commits to providing comprehensive support to WellCare Insurance Co.:\n\n1....",
          "Type: contracts<br>Text: 4. **Account Management:**\n   - Named customer success manager\n   - Quarterly business review meetin...",
          "Type: contracts<br>Text: ---\n\n**Signatures:**\n\n_________________________________\n**Sarah Chen**\n**Title**: Vice President of ...",
          "Type: contracts<br>Text: # Contract with Fortress Business Underwriters for Bizllm\n\n---\n\n## Terms\n\n1. **Agreement Effective D...",
          "Type: contracts<br>Text: ---\n\n## Renewal\n\n1. **Automatic Renewal**: This agreement will automatically renew for an additional...",
          "Type: contracts<br>Text: ---\n\n## Features\n\n1. **Access to Professional Tier Features**: Fortress Business Underwriters will h...",
          "Type: contracts<br>Text: 2. **Advanced Analytics**: Access to enhanced reporting capabilities including loss ratio analysis, ...",
          "Type: contracts<br>Text: 2. **Training**: Insurellm will provide:\n   - Initial comprehensive onboarding (40 hours) for up to ...",
          "Type: contracts<br>Text: ---\n\n**Signatures:**\n\n_________________________________\n**Michael Torres**\n**Title**: Chief Revenue ...",
          "Type: contracts<br>Text: # Contract with GreenValley Insurance for Homellm\n\n**Contract Date:** October 6, 2023  \n**Contract N...",
          "Type: contracts<br>Text: 4. **Confidentiality:** Both parties agree to maintain the confidentiality of proprietary informatio...",
          "Type: contracts<br>Text: 1. **AI-Powered Risk Assessment:** Access to advanced AI algorithms for real-time risk evaluations.\n...",
          "Type: contracts<br>Text: 3. **Regular Updates:** Insurellm will offer ongoing updates and enhancements to the Homellm platfor...",
          "Type: contracts<br>Text: # Contract with Evergreen Life Insurance for Lifellm\n\n**Contract Date:** January 20, 2025\n**Contract...",
          "Type: contracts<br>Text: 4. **Policy Volume:** Starter Tier supports underwriting and administration for up to 2,000 active p...",
          "Type: contracts<br>Text: ---\n\n## Features\n\nEvergreen Life Insurance will receive the following Starter Tier features:\n\n1. **A...",
          "Type: contracts<br>Text: 4. **Smart Document Processing:** OCR and NLP extraction from:\n   - Medical records and attending ph...",
          "Type: contracts<br>Text: ---\n\n## Support\n\nInsurellm commits to providing comprehensive support to Evergreen Life Insurance:\n\n...",
          "Type: contracts<br>Text: 3. **Platform Updates:**\n   - Quarterly feature releases\n   - Monthly security patches and improveme...",
          "Type: contracts<br>Text: _________________________________\n**Catherine Wu**\n**Title**: Chief Underwriting Officer\n**Evergreen...",
          "Type: contracts<br>Text: # Contract with BrightWay Solutions for Markellm\n\n**Contract Date:** October 5, 2023  \n**Contract ID...",
          "Type: contracts<br>Text: 3. **Service Level Agreement (SLA):**  \n   Insurellm commits to a 99.9% uptime for the platform with...",
          "Type: contracts<br>Text: 2. **Real-Time Quote Availability:**  \n   Consumers sourced via BrightWay Solutions will receive rea...",
          "Type: contracts<br>Text: 3. **Training and Onboarding:**  \n   Insurellm agrees to provide one free training session on how to...",
          "Type: contracts<br>Text: # Contract with DriveSmart Insurance for Carllm\n\n**Contract Date:** March 20, 2025\n**Contract Number...",
          "Type: contracts<br>Text: 4. **Policy Volume**: Enterprise Tier supports unlimited policies. DriveSmart currently has 85,000 a...",
          "Type: contracts<br>Text: ---\n\n## Features\n\nDriveSmart Insurance will receive the complete Carllm Enterprise suite:\n\n1. **Unli...",
          "Type: contracts<br>Text: 4. **Instant Quoting Engine:** High-performance quoting:\n   - Sub-3-second quote generation\n   - Rea...",
          "Type: contracts<br>Text: 6. **Advanced Fraud Detection:** Comprehensive fraud prevention:\n   - Application fraud detection (i...",
          "Type: contracts<br>Text: 8. **Telematics Integration:** Complete telematics platform:\n   - Device-agnostic integration (OBD-I...",
          "Type: contracts<br>Text: 10. **Multi-State Operations:** Comprehensive state support:\n    - State-specific forms and endorsem...",
          "Type: contracts<br>Text: 3. **Implementation:**\n   - 6-month phased implementation\n   - Dedicated project manager\n   - Migrat...",
          "Type: contracts<br>Text: 6. **Integration Services:**\n   - Integration with DriveSmart's systems:\n     - Duck Creek policy ad...",
          "Type: contracts<br>Text: ---\n\n**Signatures:**\n\n_________________________________\n**Jennifer Rodriguez**\n**Title**: Chief Exec...",
          "Type: contracts<br>Text: # Contract with SafeHaven Property Insurance for Homellm\n\n**Contract Date:** May 3, 2025\n**Contract ...",
          "Type: contracts<br>Text: 4. **Policy Volume**: Enterprise Tier supports unlimited policies. SafeHaven currently has 45,000 ac...",
          "Type: contracts<br>Text: ---\n\n## Features\n\nSafeHaven Property Insurance will receive the complete Homellm Enterprise suite:\n\n...",
          "Type: contracts<br>Text: 3. **Advanced AI Risk Assessment:** Enterprise-grade property risk analysis:\n   - Aerial imagery ana...",
          "Type: contracts<br>Text: 5. **Instant Claims Processing:** Advanced claims automation:\n   - AI-driven FNOL with photo/video u...",
          "Type: contracts<br>Text: 7. **Multi-Channel Integration:** Unified platform:\n   - Agent portal for 1,500+ independent agents\n...",
          "Type: contracts<br>Text: 9. **IoT Device Integration:** Smart home platform:\n   - Water leak detection systems (Flo by Moen, ...",
          "Type: contracts<br>Text: 11. **Multi-State Operations:** Comprehensive support:\n    - State-specific forms and endorsements f...",
          "Type: contracts<br>Text: ---\n\n## Support\n\nInsurellm commits to comprehensive Enterprise-level support for SafeHaven Property ...",
          "Type: contracts<br>Text: 3. **Comprehensive Implementation:**\n   - 8-month phased implementation program\n   - Dedicated proje...",
          "Type: contracts<br>Text: 5. **Custom Development:**\n   - 1,200 hours annually of custom development\n   - Dedicated developmen...",
          "Type: contracts<br>Text: 7. **Analytics and Reporting:**\n   - Custom dashboard development (up to 20 dashboards)\n   - Real-ti...",
          "Type: contracts<br>Text: 9. **Catastrophe Response:**\n   - Dedicated CAT support during disaster events\n   - Pre-CAT system p...",
          "Type: contracts<br>Text: _________________________________\n**Laura Mitchell**\n**Title**: President & Chief Executive Officer\n...",
          "Type: contracts<br>Text: # Contract with Pinnacle Insurance Co. for Homellm\n\n## Terms\nThis contract (\"Contract\") is entered i...",
          "Type: contracts<br>Text: ## Renewal\n1. **Renewal Terms**: At the end of the initial term, this Contract shall automatically r...",
          "Type: contracts<br>Text: ## Features\n1. **AI-Powered Risk Assessment**: Utilized for tailored underwriting decisions specific...",
          "Type: contracts<br>Text: ## Support\n1. **Technical Support**: Insurellm shall provide 24/7 technical support via an email and...",
          "Type: contracts<br>Text: # Contract with Apex Reinsurance for Rellm: AI-Powered Enterprise Reinsurance Solution\n\n## Terms\n\n1....",
          "Type: contracts<br>Text: ## Renewal\n\n1. **Automatic Renewal**: This Agreement will automatically renew for successive one-yea...",
          "Type: contracts<br>Text: 2. **Seamless Integrations**: The architecture of Rellm allows for easy integration with existing sy...",
          "Type: contracts<br>Text: 1. **Technical Support**: Provider shall offer dedicated technical support to the Client via phone, ...",
          "Type: contracts<br>Text: **Insurellm, Inc.**  \n_____________________________  \nAuthorized Signature   \nDate: ________________...",
          "Type: contracts<br>Text: # Contract with Advantage Medical Coverage for Healthllm\n\n**Contract Date:** April 18, 2025\n**Contra...",
          "Type: contracts<br>Text: 4. **Member Coverage**: Professional Tier supports up to 50,000 covered members. Advantage currently...",
          "Type: contracts<br>Text: 2. **Pricing Review**: Renewal pricing will be discussed 75 days prior to term end and mutually agre...",
          "Type: contracts<br>Text: 2. **Value-Based Care Support:**\n   - ACO performance tracking and shared savings calculation\n   - H...",
          "Type: contracts<br>Text: 2. **Training**: Comprehensive training program:\n   - 5-week implementation with project manager\n   ...",
          "Type: contracts<br>Text: ---\n\n**Signatures:**\n\n**Insurellm, Inc.**\nSarah Chen, VP of Sales\nDate: April 18, 2025\n\n**Advantage ...",
          "Type: contracts<br>Text: # Contract with Summit Commercial Insurance for Bizllm\n\n**Contract Date:** March 15, 2025\n**Contract...",
          "Type: contracts<br>Text: 3. **Payment:** Summit Commercial Insurance shall pay a monthly fee of $6,000, due by the 1st of eve...",
          "Type: contracts<br>Text: 6. **Data Security:** Insurellm commits to maintaining industry-standard encryption and security pro...",
          "Type: contracts<br>Text: 2. **Business Intelligence Integration:** Automated data gathering from business registries, financi...",
          "Type: contracts<br>Text: ---\n\n## Support\n\nInsurellm commits to providing comprehensive support to Summit Commercial Insurance...",
          "Type: contracts<br>Text: 5. **Performance Reviews:** Quarterly business reviews to assess platform utilization, identify opti...",
          "Type: company<br>Text: # Overview of Insurellm\n\nInsurellm is an innovative insurance tech firm with 32 employees operating ...",
          "Type: company<br>Text: ### Marketplace & Infrastructure\n- **Markellm** - Marketplace connecting consumers with insurance pr...",
          "Type: company<br>Text: ## Client Portfolio Breakdown\n\nInsurellm's 32 active contracts span the full spectrum of insurance t...",
          "Type: company<br>Text: **Insurance Marketplace (Markellm)**: 2 contracts with agencies and brokers leveraging the consumer-...",
          "Type: company<br>Text: # Careers at Insurellm\n\n## Why Join Insurellm?\n\nAt Insurellm, we're not just building software—we're...",
          "Type: company<br>Text: ### Our Culture\n\nWe live by our core values every day:\n- **Innovation First**: We encourage experime...",
          "Type: company<br>Text: ## Current Opportunities\n\n### Engineering\n\n**Senior Full Stack Engineer** - San Francisco, CA\n- Lead...",
          "Type: company<br>Text: **DevOps Engineer** - New York, NY\n- Manage cloud infrastructure (AWS/GCP)\n- Implement CI/CD pipelin...",
          "Type: company<br>Text: **Data Engineer** - Austin, TX\n- Design and maintain data pipelines\n- Build data warehousing solutio...",
          "Type: company<br>Text: ### Sales & Customer Success\n\n**Account Executive** - New York, NY / Chicago, IL / Austin, TX\n- Mana...",
          "Type: company<br>Text: ### Operations & Support\n\n**Technical Support Specialist** - Remote\n- Provide tier 2/3 technical sup...",
          "Type: company<br>Text: # Insurellm Culture\n\n## Vision Statement\nTo revolutionize the insurance industry through innovative ...",
          "Type: company<br>Text: ### Customer Obsession\nOur clients' success is our success. We deeply understand our customers' need...",
          "Type: company<br>Text: ## Employer Value Proposition\n\n**Build the Future of Insurance Technology with Elite Talent**\n\nAt In...",
          "Type: company<br>Text: - **Meaningful Impact**: Your work directly shapes products powering 32 active insurance operations,...",
          "Type: company<br>Text: # About Insurellm\n\nInsurellm was founded by Avery Lancaster in 2015 as an insurance tech startup des...",
          "Type: company<br>Text: However, the company underwent a strategic restructuring in 2022-2023 to focus on profitability and ...",
          "Type: company<br>Text: - **Bizllm** quickly gained traction with 7 commercial insurance contracts, including regional carri...",
          "Type: employees<br>Text: # HR Record\n\n# David Kim\n\n## Summary\n- **Date of Birth:** September 22, 1992\n- **Job Title:** DevOps...",
          "Type: employees<br>Text: - **June 2017 - February 2019:** Systems Administrator at CloudFirst Solutions\n  - Maintained Linux ...",
          "Type: employees<br>Text: ## Other HR Notes\n- **Certifications:** AWS Certified Solutions Architect (2022), Certified Kubernet...",
          "Type: employees<br>Text: # HR Record\n\n# Nina Patel\n\n## Summary\n- **Date of Birth:** July 25, 1991\n- **Job Title:** Business I...",
          "Type: employees<br>Text: - **May 2017 - July 2019:** Data Analyst at RetailMetrics Inc.\n  - Analyzed retail sales data and cu...",
          "Type: employees<br>Text: - **2019:** Rating: 3.9/5\n  *Good onboarding year. Quick to adapt to Insurellm's data systems.*\n\n## ...",
          "Type: employees<br>Text: # HR Record\n\n# Priya Sharma\n\n## Summary\n- **Date of Birth:** January 8, 1986\n- **Job Title:** Senior...",
          "Type: employees<br>Text: - **August 2012 - May 2015:** Research Scientist at UC Berkeley AI Lab\n  - Conducted research in mac...",
          "Type: employees<br>Text: - **2019:** Rating: 4.6/5\n  *Excellent contributions to fraud detection systems. Recognized for thou...",
          "Type: employees<br>Text: ## Other HR Notes\n- **Education:** PhD in Computer Science (Machine Learning) from Stanford Universi...",
          "Type: employees<br>Text: # HR Record\n\n# Alex Chen\n\n## Summary\n- **Date of Birth:** March 15, 1990\n- **Job Title:** Backend So...",
          "Type: employees<br>Text: ## Annual Performance History\n- **2020:**  \n  - Completed onboarding successfully.  \n  - Met expecta...",
          "Type: employees<br>Text: ## Compensation History\n- **2020:** Base Salary: $80,000  \n- **2021:** Base Salary Increase to $90,0...",
          "Type: employees<br>Text: Alex Chen continues to be a vital asset at Insurellm, contributing significantly to innovative backe...",
          "Type: employees<br>Text: # HR Record\n\n# Robert Chen\n\n## Summary\n- **Date of Birth:** February 28, 1983\n- **Job Title:** Senio...",
          "Type: employees<br>Text: - **August 2008 - May 2012:** Software Engineer at TechStartup\n  - Developed features for SaaS platf...",
          "Type: employees<br>Text: - **2018:** Rating: 4.3/5\n  *Solid performance with consistent high-quality delivery. Growing into t...",
          "Type: employees<br>Text: ## Other HR Notes\n- **Education:** MS in Computer Science from Stanford University, BS in Computer E...",
          "Type: employees<br>Text: # HR Record\n\n# Oliver Spencer\n\n## Summary\n- **Date of Birth**: May 14, 1990\n- **Job Title**: Backend...",
          "Type: employees<br>Text: ## Annual Performance History\n- **2018**: **3/5** - Adaptable team player but still learning to take...",
          "Type: employees<br>Text: ## Compensation History\n- **March 2018**: Initial salary of $80,000.\n- **July 2019**: Salary increas...",
          "Type: employees<br>Text: # HR Record\n\n# Amanda Foster\n\n## Summary\n- **Date of Birth:** August 14, 1982\n- **Job Title:** HR Bu...",
          "Type: employees<br>Text: - **June 2009 - February 2013:** HR Coordinator at Enterprise Corp.\n  - Supported recruiting and onb...",
          "Type: employees<br>Text: - **2019:** Rating: 4.2/5\n  *Strong year. Improved hiring velocity for engineering roles by 35%. Bui...",
          "Type: employees<br>Text: ## Other HR Notes\n- **Education:** MS in Human Resources Management from Cornell University, BA in P...",
          "Type: employees<br>Text: # HR Record\n\n# Emily Tran\n\n## Summary\n- **Date of Birth:** March 18, 1991\n- **Job Title:** Digital M...",
          "Type: employees<br>Text: - **January 2017 - May 2018**: Marketing Intern  \n  - Supported the Marketing team by collaborating ...",
          "Type: employees<br>Text: - **2021**:  \n  - Performance Rating: Meets Expectations  \n  - Key Achievements: Contributed to the ...",
          "Type: employees<br>Text: - **Professional Development Goals**:  \n  - Emily Tran aims to become a Marketing Manager within the...",
          "Type: employees<br>Text: # HR Record\n\n# Jordan Blake\n\n## Summary\n- **Date of Birth:** March 15, 1993\n- **Job Title:** Sales D...",
          "Type: employees<br>Text: ## Annual Performance History\n- **2021:** First year at Insurellm; achieved 90% of monthly targets. ...",
          "Type: employees<br>Text: ## Other HR Notes\n- Jordan has shown an interest in continuing education, actively participating in ...",
          "Type: employees<br>Text: # HR Record\n\n# Kevin Zhang\n\n## Summary\n- **Date of Birth:** March 27, 1990\n- **Job Title:** Mobile D...",
          "Type: employees<br>Text: - **July 2015 - January 2018:** Junior Mobile Developer at StartupTech\n  - Built mobile features for...",
          "Type: employees<br>Text: ## Other HR Notes\n- **Education:** BS in Computer Science from UC Berkeley\n- **Skills:** Expert in S...",
          "Type: employees<br>Text: # HR Record\n\n# Maya Thompson\n\n## Summary\n- **Date of Birth:** June 14, 1993\n- **Job Title:** Data En...",
          "Type: employees<br>Text: ## Annual Performance History\n- **2023:** Rating: 4.3/5\n  *Strong performance. Delivered critical da...",
          "Type: employees<br>Text: ## Compensation History\n- **2023:** Base Salary: $110,000 + Bonus: $12,000\n- **2022:** Base Salary: ...",
          "Type: employees<br>Text: # HR Record\n\n# Jennifer Adams\n\n## Summary\n- **Date of Birth:** July 7, 1997\n- **Job Title:** Sales D...",
          "Type: employees<br>Text: - **August 2019 - May 2022:** Customer Service Representative at RetailCo\n  - Handled customer inqui...",
          "Type: employees<br>Text: ## Compensation History\n- **2023:** Base Salary: $58,000 + Commission: $4,200\n- **2022:** Intern Sti...",
          "Type: employees<br>Text: # HR Record\n\n# Jessica Liu\n\n## Summary\n- **Date of Birth:** April 30, 1996\n- **Job Title:** Frontend...",
          "Type: employees<br>Text: - **June 2018 - December 2019:** Web Developer Intern at StartupLabs\n  - Created landing pages and m...",
          "Type: employees<br>Text: ## Other HR Notes\n- **Education:** BS in Computer Science from University of Washington\n- **Skills:*...",
          "Type: employees<br>Text: # Avery Lancaster\n\n## Summary\n- **Date of Birth**: March 15, 1985\n- **Job Title**: Co-Founder & Chie...",
          "Type: employees<br>Text: - **2010 - 2013**: Business Analyst at Edge Analytics  \n  Prior to joining Innovate, Avery worked as...",
          "Type: employees<br>Text: - **2018**: **Exceeds Expectations**  \n  Under Avery’s pivoted vision, Insurellm launched two new su...",
          "Type: employees<br>Text: - **2022**: **Satisfactory**  \n  Avery focused on rebuilding team dynamics and addressing employee c...",
          "Type: employees<br>Text: ## Compensation History\n- **2015**: $150,000 base salary + Significant equity stake  \n- **2016**: $1...",
          "Type: employees<br>Text: ## Other HR Notes\n- **Professional Development**: Avery has actively participated in leadership trai...",
          "Type: employees<br>Text: # HR Record\n\n# Maxine Thompson\n\n## Summary\n- **Date of Birth:** January 15, 1991\n- **Job Title:** Da...",
          "Type: employees<br>Text: ## Insurellm Career Progression\n- **January 2017 - October 2018**: **Junior Data Engineer**  \n  * Ma...",
          "Type: employees<br>Text: ## Annual Performance History\n- **2017**: *Meets Expectations*  \n  Maxine showed potential in her ro...",
          "Type: employees<br>Text: - **2021**: *Exceeds Expectations*  \n  Maxine spearheaded the transition to a new data warehousing s...",
          "Type: employees<br>Text: ## Compensation History\n- **2017**: $70,000 (Junior Data Engineer)  \n- **2018**: $75,000 (Junior Dat...",
          "Type: employees<br>Text: # HR Record\n\n# Daniel Park\n\n## Summary\n- **Date of Birth:** October 3, 1991\n- **Job Title:** QA Engi...",
          "Type: employees<br>Text: ## Annual Performance History\n- **2023:** Rating: 4.2/5\n  *Strong performance. Expanded test automat...",
          "Type: employees<br>Text: ## Other HR Notes\n- **Education:** BS in Computer Science from Texas State University\n- **Certificat...",
          "Type: employees<br>Text: # Samantha Greene\n\n## Summary\n- **Date of Birth:** October 14, 1990\n- **Job Title:** HR Generalist\n-...",
          "Type: employees<br>Text: ## Annual Performance History\n- **2020:** Exceeds Expectations  \n  Samantha Greene demonstrated exce...",
          "Type: employees<br>Text: ## Compensation History\n- **2020:** Base Salary - $55,000  \n  The entry-level salary matched industr...",
          "Type: employees<br>Text: - **2023:** Base Salary - $70,000  \n  Recognized for substantial improvement in employee relations m...",
          "Type: employees<br>Text: # HR Record\n\n# Marcus Johnson\n\n## Summary\n- **Date of Birth:** February 17, 1988\n- **Job Title:** Cu...",
          "Type: employees<br>Text: - **January 2016 - August 2018:** Account Manager at SaaS Solutions Inc.\n  - Managed B2B client rela...",
          "Type: employees<br>Text: - **2020:** Rating: 4.0/5\n  *Good transition to CSM role. Quickly built rapport with enterprise clie...",
          "Type: employees<br>Text: # HR Record\n\n# Alex Thomson\n\n## Summary\n- **Date of Birth:** March 15, 1995\n- **Job Title:** Sales D...",
          "Type: employees<br>Text: ## Annual Performance History  \n- **2022** - Rated as \"Exceeds Expectations.\" Alex Thomson achieved ...",
          "Type: employees<br>Text: ## Other HR Notes\n- Alex Thomson is an active member of the Diversity and Inclusion committee at Ins...",
          "Type: employees<br>Text: # HR Record\n\n# Michael O'Brien\n\n## Summary\n- **Date of Birth:** May 20, 1984\n- **Job Title:** Accoun...",
          "Type: employees<br>Text: - **August 2010 - May 2014:** Sales Representative at Business Solutions Inc.\n  - B2B software sales...",
          "Type: employees<br>Text: - **2019:** Rating: 4.2/5\n  *Strong performance at 125% quota attainment. Expanded territory success...",
          "Type: employees<br>Text: ## Other HR Notes\n- **Education:** BA in Business from University of Illinois\n- **Awards:** Sales Ex...",
          "Type: employees<br>Text: # HR Record\n\n# Rachel Martinez\n\n## Summary\n- **Date of Birth:** June 8, 1987\n- **Job Title:** Produc...",
          "Type: employees<br>Text: ## Annual Performance History\n- **2023:** Rating: 4.6/5\n  *Exceptional year with successful launch o...",
          "Type: employees<br>Text: - **2019:** Rating: 4.0/5\n  *Strong start as Product Manager. Successfully transitioned from APM rol...",
          "Type: employees<br>Text: ## Other HR Notes\n- **Professional Development:** Completed Product Leadership Certification from Pr...",
          "Type: employees<br>Text: # HR Record\n\n# Sarah Williams\n\n## Summary\n- **Date of Birth:** November 3, 1994\n- **Job Title:** UX ...",
          "Type: employees<br>Text: - **August 2018 - May 2020:** UI/UX Designer at StartupHub Inc.\n  - Designed mobile and web interfac...",
          "Type: employees<br>Text: ## Other HR Notes\n- **Education:** BFA in Graphic Design from Rhode Island School of Design\n- **Skil...",
          "Type: employees<br>Text: # HR Record\n\n# Michelle Rivera\n\n## Summary\n- **Date of Birth:** December 16, 1988\n- **Job Title:** P...",
          "Type: employees<br>Text: - **May 2013 - July 2016:** UX Designer at CreativeAgency\n  - Created user interfaces for consumer a...",
          "Type: employees<br>Text: - **2019:** Rating: 4.0/5\n  *Solid first year at Insurellm. Quick to learn complex insurance domain ...",
          "Type: employees<br>Text: ## Other HR Notes\n- **Education:** MFA in Interaction Design from School of Visual Arts, BFA in Grap...",
          "Type: employees<br>Text: # HR Record\n\n# Samuel Trenton\n\n## Summary\n- **Date of Birth:** April 12, 1989\n- **Job Title:** Senio...",
          "Type: employees<br>Text: - **August 2016 - May 2018:** Junior Data Analyst  \n  *Started at Insurellm as a Junior Data Analyst...",
          "Type: employees<br>Text: - **2021:** Rating: 4.0/5  \n  *There was notable improvement in performance. Worked to enhance model...",
          "Type: employees<br>Text: - **2020:** Base Salary: $100,000 + Bonus: $8,000  \n  *Initial compensation as Senior Data Scientist...",
          "Type: employees<br>Text: # HR Record\n\n# Lisa Anderson\n\n## Summary\n- **Date of Birth:** November 18, 1985\n- **Job Title:** Mar...",
          "Type: employees<br>Text: - **June 2012 - December 2015:** Marketing Coordinator at Enterprise Solutions\n  - Supported marketi...",
          "Type: employees<br>Text: - **2019:** Rating: 4.0/5\n  *Strong start as Marketing Manager. Quick to understand insurance tech m...",
          "Type: employees<br>Text: ## Other HR Notes\n- **Education:** MBA in Marketing from University of Texas at Austin, BA in Commun...",
          "Type: employees<br>Text: # HR Record\n\n# Alex Harper\n\n## Summary\n- **Date of Birth**: March 15, 1993\n- **Job Title**: Sales De...",
          "Type: employees<br>Text: ## Annual Performance History  \n- **2021**:  \n  - **Performance Rating**: 4.5/5  \n  - **Key Achievem...",
          "Type: employees<br>Text: - **2022**:  \n  - **Base Salary**: $65,000 (Promotion to Senior SDR)  \n  - **Bonus**: $13,000 (20% o...",
          "Type: employees<br>Text: # HR Record\n\n# Carlos Rodriguez\n\n## Summary\n- **Date of Birth:** October 12, 1989\n- **Job Title:** S...",
          "Type: employees<br>Text: - **January 2015 - February 2017:** Application Developer at FinTech Systems\n  - Developed financial...",
          "Type: employees<br>Text: - **2019:** Rating: 4.1/5\n  *Strong start as Solutions Engineer. Quick learner with excellent techni...",
          "Type: employees<br>Text: ## Other HR Notes\n- **Education:** MS in Computer Science from University of Florida\n- **Certificati...",
          "Type: employees<br>Text: # HR Record\n\n# James Wilson\n\n## Summary\n- **Date of Birth:** April 5, 1978\n- **Job Title:** Chief Te...",
          "Type: employees<br>Text: - **June 2008 - February 2012:** Senior Engineering Manager at CloudSoft Corp.\n  - Managed multiple ...",
          "Type: employees<br>Text: - **2021:** Rating: 4.6/5\n  *Excellent performance navigating remote transition. Built strong engine...",
          "Type: employees<br>Text: - **2017:** Rating: 4.3/5\n  *Strong start as CTO. Quickly assessed technical landscape and began str...",
          "Type: employees<br>Text: ## Other HR Notes\n- **Education:** MS in Computer Science from MIT, BS in Computer Engineering from ...",
          "Type: employees<br>Text: # HR Record\n\n# Jordan K. Bishop\n\n## Summary\n- **Date of Birth:** March 15, 1990\n- **Job Title:** Fro...",
          "Type: employees<br>Text: ## Annual Performance History\n- **2019:** Exceeds Expectations - Continuously delivered high-quality...",
          "Type: employees<br>Text: ## Compensation History\n- **June 2018:** Starting Salary - $85,000\n- **June 2019:** Salary Increase ...",
          "Type: employees<br>Text: ## Other HR Notes\n- Jordan K. Bishop has been an integral part of club initiatives, including the In...",
          "Type: employees<br>Text: # HR Record\n\n# Emily Carter\n\n## Summary\n- **Date of Birth:** August 12, 1990\n- **Job Title:** Accoun...",
          "Type: employees<br>Text: - **2017-2019:** Marketing Intern  \n  - Assisted with market research and campaign development for s...",
          "Type: employees<br>Text: ## Compensation History\n| Year | Base Salary | Bonus         | Total Compensation |\n|------|--------...",
          "Type: employees<br>Text: Emily Carter exemplifies the kind of talent that drives Insurellm's success and is an invaluable ass...",
          "Type: employees<br>Text: # HR Record\n\n# Tyler Brooks\n\n## Summary\n- **Date of Birth:** September 9, 1998\n- **Job Title:** Juni...",
          "Type: employees<br>Text: - **2022:** Rating: 3.5/5\n  *Adequate performance for a junior developer. Good learning attitude but...",
          "Type: employees<br>Text: ## Compensation History\n- **2023:** Base Salary: $75,000 + Bonus: $2,000\n- **2022:** Base Salary: $7...",
          "Type: employees<br>Text: # HR Record\n\n# Brandon Walker\n\n## Summary\n- **Date of Birth:** December 5, 1993\n- **Job Title:** Tec...",
          "Type: employees<br>Text: - **January 2018 - April 2019:** IT Help Desk Technician at Regional Bank\n  - Provided internal IT s...",
          "Type: employees<br>Text: ## Compensation History\n- **2023:** Base Salary: $62,000 + Bonus: $1,500\n- **2022:** Base Salary: $6..."
         ],
         "type": "scatter3d",
         "x": {
          "bdata": "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",
          "dtype": "f4"
         },
         "y": {
          "bdata": "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",
          "dtype": "f4"
         },
         "z": {
          "bdata": "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",
          "dtype": "f4"
         }
        }
       ],
       "layout": {
        "height": 700,
        "margin": {
         "b": 10,
         "l": 10,
         "r": 20,
         "t": 40
        },
        "scene": {
         "xaxis": {
          "title": {
           "text": "x"
          }
         },
         "yaxis": {
          "title": {
           "text": "y"
          }
         },
         "zaxis": {
          "title": {
           "text": "z"
          }
         }
        },
        "template": {
         "data": {
          "bar": [
           {
            "error_x": {
             "color": "#2a3f5f"
            },
            "error_y": {
             "color": "#2a3f5f"
            },
            "marker": {
             "line": {
              "color": "#E5ECF6",
              "width": 0.5
             },
             "pattern": {
              "fillmode": "overlay",
              "size": 10,
              "solidity": 0.2
             }
            },
            "type": "bar"
           }
          ],
          "barpolar": [
           {
            "marker": {
             "line": {
              "color": "#E5ECF6",
              "width": 0.5
             },
             "pattern": {
              "fillmode": "overlay",
              "size": 10,
              "solidity": 0.2
             }
            },
            "type": "barpolar"
           }
          ],
          "carpet": [
           {
            "aaxis": {
             "endlinecolor": "#2a3f5f",
             "gridcolor": "white",
             "linecolor": "white",
             "minorgridcolor": "white",
             "startlinecolor": "#2a3f5f"
            },
            "baxis": {
             "endlinecolor": "#2a3f5f",
             "gridcolor": "white",
             "linecolor": "white",
             "minorgridcolor": "white",
             "startlinecolor": "#2a3f5f"
            },
            "type": "carpet"
           }
          ],
          "choropleth": [
           {
            "colorbar": {
             "outlinewidth": 0,
             "ticks": ""
            },
            "type": "choropleth"
           }
          ],
          "contour": [
           {
            "colorbar": {
             "outlinewidth": 0,
             "ticks": ""
            },
            "colorscale": [
             [
              0,
              "#0d0887"
             ],
             [
              0.1111111111111111,
              "#46039f"
             ],
             [
              0.2222222222222222,
              "#7201a8"
             ],
             [
              0.3333333333333333,
              "#9c179e"
             ],
             [
              0.4444444444444444,
              "#bd3786"
             ],
             [
              0.5555555555555556,
              "#d8576b"
             ],
             [
              0.6666666666666666,
              "#ed7953"
             ],
             [
              0.7777777777777778,
              "#fb9f3a"
             ],
             [
              0.8888888888888888,
              "#fdca26"
             ],
             [
              1,
              "#f0f921"
             ]
            ],
            "type": "contour"
           }
          ],
          "contourcarpet": [
           {
            "colorbar": {
             "outlinewidth": 0,
             "ticks": ""
            },
            "type": "contourcarpet"
           }
          ],
          "heatmap": [
           {
            "colorbar": {
             "outlinewidth": 0,
             "ticks": ""
            },
            "colorscale": [
             [
              0,
              "#0d0887"
             ],
             [
              0.1111111111111111,
              "#46039f"
             ],
             [
              0.2222222222222222,
              "#7201a8"
             ],
             [
              0.3333333333333333,
              "#9c179e"
             ],
             [
              0.4444444444444444,
              "#bd3786"
             ],
             [
              0.5555555555555556,
              "#d8576b"
             ],
             [
              0.6666666666666666,
              "#ed7953"
             ],
             [
              0.7777777777777778,
              "#fb9f3a"
             ],
             [
              0.8888888888888888,
              "#fdca26"
             ],
             [
              1,
              "#f0f921"
             ]
            ],
            "type": "heatmap"
           }
          ],
          "histogram": [
           {
            "marker": {
             "pattern": {
              "fillmode": "overlay",
              "size": 10,
              "solidity": 0.2
             }
            },
            "type": "histogram"
           }
          ],
          "histogram2d": [
           {
            "colorbar": {
             "outlinewidth": 0,
             "ticks": ""
            },
            "colorscale": [
             [
              0,
              "#0d0887"
             ],
             [
              0.1111111111111111,
              "#46039f"
             ],
             [
              0.2222222222222222,
              "#7201a8"
             ],
             [
              0.3333333333333333,
              "#9c179e"
             ],
             [
              0.4444444444444444,
              "#bd3786"
             ],
             [
              0.5555555555555556,
              "#d8576b"
             ],
             [
              0.6666666666666666,
              "#ed7953"
             ],
             [
              0.7777777777777778,
              "#fb9f3a"
             ],
             [
              0.8888888888888888,
              "#fdca26"
             ],
             [
              1,
              "#f0f921"
             ]
            ],
            "type": "histogram2d"
           }
          ],
          "histogram2dcontour": [
           {
            "colorbar": {
             "outlinewidth": 0,
             "ticks": ""
            },
            "colorscale": [
             [
              0,
              "#0d0887"
             ],
             [
              0.1111111111111111,
              "#46039f"
             ],
             [
              0.2222222222222222,
              "#7201a8"
             ],
             [
              0.3333333333333333,
              "#9c179e"
             ],
             [
              0.4444444444444444,
              "#bd3786"
             ],
             [
              0.5555555555555556,
              "#d8576b"
             ],
             [
              0.6666666666666666,
              "#ed7953"
             ],
             [
              0.7777777777777778,
              "#fb9f3a"
             ],
             [
              0.8888888888888888,
              "#fdca26"
             ],
             [
              1,
              "#f0f921"
             ]
            ],
            "type": "histogram2dcontour"
           }
          ],
          "mesh3d": [
           {
            "colorbar": {
             "outlinewidth": 0,
             "ticks": ""
            },
            "type": "mesh3d"
           }
          ],
          "parcoords": [
           {
            "line": {
             "colorbar": {
              "outlinewidth": 0,
              "ticks": ""
             }
            },
            "type": "parcoords"
           }
          ],
          "pie": [
           {
            "automargin": true,
            "type": "pie"
           }
          ],
          "scatter": [
           {
            "fillpattern": {
             "fillmode": "overlay",
             "size": 10,
             "solidity": 0.2
            },
            "type": "scatter"
           }
          ],
          "scatter3d": [
           {
            "line": {
             "colorbar": {
              "outlinewidth": 0,
              "ticks": ""
             }
            },
            "marker": {
             "colorbar": {
              "outlinewidth": 0,
              "ticks": ""
             }
            },
            "type": "scatter3d"
           }
          ],
          "scattercarpet": [
           {
            "marker": {
             "colorbar": {
              "outlinewidth": 0,
              "ticks": ""
             }
            },
            "type": "scattercarpet"
           }
          ],
          "scattergeo": [
           {
            "marker": {
             "colorbar": {
              "outlinewidth": 0,
              "ticks": ""
             }
            },
            "type": "scattergeo"
           }
          ],
          "scattergl": [
           {
            "marker": {
             "colorbar": {
              "outlinewidth": 0,
              "ticks": ""
             }
            },
            "type": "scattergl"
           }
          ],
          "scattermap": [
           {
            "marker": {
             "colorbar": {
              "outlinewidth": 0,
              "ticks": ""
             }
            },
            "type": "scattermap"
           }
          ],
          "scattermapbox": [
           {
            "marker": {
             "colorbar": {
              "outlinewidth": 0,
              "ticks": ""
             }
            },
            "type": "scattermapbox"
           }
          ],
          "scatterpolar": [
           {
            "marker": {
             "colorbar": {
              "outlinewidth": 0,
              "ticks": ""
             }
            },
            "type": "scatterpolar"
           }
          ],
          "scatterpolargl": [
           {
            "marker": {
             "colorbar": {
              "outlinewidth": 0,
              "ticks": ""
             }
            },
            "type": "scatterpolargl"
           }
          ],
          "scatterternary": [
           {
            "marker": {
             "colorbar": {
              "outlinewidth": 0,
              "ticks": ""
             }
            },
            "type": "scatterternary"
           }
          ],
          "surface": [
           {
            "colorbar": {
             "outlinewidth": 0,
             "ticks": ""
            },
            "colorscale": [
             [
              0,
              "#0d0887"
             ],
             [
              0.1111111111111111,
              "#46039f"
             ],
             [
              0.2222222222222222,
              "#7201a8"
             ],
             [
              0.3333333333333333,
              "#9c179e"
             ],
             [
              0.4444444444444444,
              "#bd3786"
             ],
             [
              0.5555555555555556,
              "#d8576b"
             ],
             [
              0.6666666666666666,
              "#ed7953"
             ],
             [
              0.7777777777777778,
              "#fb9f3a"
             ],
             [
              0.8888888888888888,
              "#fdca26"
             ],
             [
              1,
              "#f0f921"
             ]
            ],
            "type": "surface"
           }
          ],
          "table": [
           {
            "cells": {
             "fill": {
              "color": "#EBF0F8"
             },
             "line": {
              "color": "white"
             }
            },
            "header": {
             "fill": {
              "color": "#C8D4E3"
             },
             "line": {
              "color": "white"
             }
            },
            "type": "table"
           }
          ]
         },
         "layout": {
          "annotationdefaults": {
           "arrowcolor": "#2a3f5f",
           "arrowhead": 0,
           "arrowwidth": 1
          },
          "autotypenumbers": "strict",
          "coloraxis": {
           "colorbar": {
            "outlinewidth": 0,
            "ticks": ""
           }
          },
          "colorscale": {
           "diverging": [
            [
             0,
             "#8e0152"
            ],
            [
             0.1,
             "#c51b7d"
            ],
            [
             0.2,
             "#de77ae"
            ],
            [
             0.3,
             "#f1b6da"
            ],
            [
             0.4,
             "#fde0ef"
            ],
            [
             0.5,
             "#f7f7f7"
            ],
            [
             0.6,
             "#e6f5d0"
            ],
            [
             0.7,
             "#b8e186"
            ],
            [
             0.8,
             "#7fbc41"
            ],
            [
             0.9,
             "#4d9221"
            ],
            [
             1,
             "#276419"
            ]
           ],
           "sequential": [
            [
             0,
             "#0d0887"
            ],
            [
             0.1111111111111111,
             "#46039f"
            ],
            [
             0.2222222222222222,
             "#7201a8"
            ],
            [
             0.3333333333333333,
             "#9c179e"
            ],
            [
             0.4444444444444444,
             "#bd3786"
            ],
            [
             0.5555555555555556,
             "#d8576b"
            ],
            [
             0.6666666666666666,
             "#ed7953"
            ],
            [
             0.7777777777777778,
             "#fb9f3a"
            ],
            [
             0.8888888888888888,
             "#fdca26"
            ],
            [
             1,
             "#f0f921"
            ]
           ],
           "sequentialminus": [
            [
             0,
             "#0d0887"
            ],
            [
             0.1111111111111111,
             "#46039f"
            ],
            [
             0.2222222222222222,
             "#7201a8"
            ],
            [
             0.3333333333333333,
             "#9c179e"
            ],
            [
             0.4444444444444444,
             "#bd3786"
            ],
            [
             0.5555555555555556,
             "#d8576b"
            ],
            [
             0.6666666666666666,
             "#ed7953"
            ],
            [
             0.7777777777777778,
             "#fb9f3a"
            ],
            [
             0.8888888888888888,
             "#fdca26"
            ],
            [
             1,
             "#f0f921"
            ]
           ]
          },
          "colorway": [
           "#636efa",
           "#EF553B",
           "#00cc96",
           "#ab63fa",
           "#FFA15A",
           "#19d3f3",
           "#FF6692",
           "#B6E880",
           "#FF97FF",
           "#FECB52"
          ],
          "font": {
           "color": "#2a3f5f"
          },
          "geo": {
           "bgcolor": "white",
           "lakecolor": "white",
           "landcolor": "#E5ECF6",
           "showlakes": true,
           "showland": true,
           "subunitcolor": "white"
          },
          "hoverlabel": {
           "align": "left"
          },
          "hovermode": "closest",
          "mapbox": {
           "style": "light"
          },
          "paper_bgcolor": "white",
          "plot_bgcolor": "#E5ECF6",
          "polar": {
           "angularaxis": {
            "gridcolor": "white",
            "linecolor": "white",
            "ticks": ""
           },
           "bgcolor": "#E5ECF6",
           "radialaxis": {
            "gridcolor": "white",
            "linecolor": "white",
            "ticks": ""
           }
          },
          "scene": {
           "xaxis": {
            "backgroundcolor": "#E5ECF6",
            "gridcolor": "white",
            "gridwidth": 2,
            "linecolor": "white",
            "showbackground": true,
            "ticks": "",
            "zerolinecolor": "white"
           },
           "yaxis": {
            "backgroundcolor": "#E5ECF6",
            "gridcolor": "white",
            "gridwidth": 2,
            "linecolor": "white",
            "showbackground": true,
            "ticks": "",
            "zerolinecolor": "white"
           },
           "zaxis": {
            "backgroundcolor": "#E5ECF6",
            "gridcolor": "white",
            "gridwidth": 2,
            "linecolor": "white",
            "showbackground": true,
            "ticks": "",
            "zerolinecolor": "white"
           }
          },
          "shapedefaults": {
           "line": {
            "color": "#2a3f5f"
           }
          },
          "ternary": {
           "aaxis": {
            "gridcolor": "white",
            "linecolor": "white",
            "ticks": ""
           },
           "baxis": {
            "gridcolor": "white",
            "linecolor": "white",
            "ticks": ""
           },
           "bgcolor": "#E5ECF6",
           "caxis": {
            "gridcolor": "white",
            "linecolor": "white",
            "ticks": ""
           }
          },
          "title": {
           "x": 0.05
          },
          "xaxis": {
           "automargin": true,
           "gridcolor": "white",
           "linecolor": "white",
           "ticks": "",
           "title": {
            "standoff": 15
           },
           "zerolinecolor": "white",
           "zerolinewidth": 2
          },
          "yaxis": {
           "automargin": true,
           "gridcolor": "white",
           "linecolor": "white",
           "ticks": "",
           "title": {
            "standoff": 15
           },
           "zerolinecolor": "white",
           "zerolinewidth": 2
          }
         }
        },
        "title": {
         "text": "3D Chroma Vector Store Visualization"
        },
        "width": 900
       }
      }
     },
     "metadata": {},
     "output_type": "display_data"
    }
   ],
   "source": [
    "# Let's try 3D!\n",
    "\n",
    "tsne = TSNE(n_components=3, random_state=42)\n",
    "reduced_vectors = tsne.fit_transform(vectors)\n",
    "\n",
    "# Create the 3D scatter plot\n",
    "fig = go.Figure(data=[go.Scatter3d(\n",
    "    x=reduced_vectors[:, 0],\n",
    "    y=reduced_vectors[:, 1],\n",
    "    z=reduced_vectors[:, 2],\n",
    "    mode='markers',\n",
    "    marker=dict(size=5, color=colors, opacity=0.8),\n",
    "    text=[f\"Type: {t}<br>Text: {d[:100]}...\" for t, d in zip(doc_types, documents)],\n",
    "    hoverinfo='text'\n",
    ")])\n",
    "\n",
    "fig.update_layout(\n",
    "    title='3D Chroma Vector Store Visualization',\n",
    "    scene=dict(xaxis_title='x', yaxis_title='y', zaxis_title='z'),\n",
    "    width=900,\n",
    "    height=700,\n",
    "    margin=dict(r=20, b=10, l=10, t=40)\n",
    ")\n",
    "\n",
    "fig.show()"
   ]
  },
  {
   "cell_type": "code",
   "execution_count": null,
   "metadata": {},
   "outputs": [
    {
     "name": "stdout",
     "output_type": "stream",
     "text": [
      "Insurellm is an innovative insurance technology company founded in 2015 that provides a suite of software platforms catering to various insurance lines, including auto, home, life, health, and commercial insurance. Operating primarily remotely with a lean team, Insurellm focuses on delivering modern, AI-powered solutions that enhance the insurance experience for both providers and customers.\n"
     ]
    }
   ],
   "source": [
    "# create a new Chat with OpenAI\n",
    "llm = ChatOpenAI(temperature=0.7, model_name=MODEL)\n",
    "\n",
    "# how many chunks to provide in each prompt\n",
    "retriever = vectorstore.as_retriever(search_kwargs={\"k\": 3})\n",
    "\n",
    "# Simple prompt that includes chat history\n",
    "prompt = ChatPromptTemplate.from_messages([\n",
    "    (\"system\", \"Answer the question based on the context:\\n{context}\"),\n",
    "    (\"human\", \"{input}\")\n",
    "])\n",
    "\n",
    "# Create the chain\n",
    "question_answer_chain = create_stuff_documents_chain(llm, prompt)\n",
    "rag_chain = create_retrieval_chain(retriever, question_answer_chain)\n",
    "\n",
    "# Invoke it\n",
    "query = \"Please explain what Insurellm is in a couple of sentences\"\n",
    "result = rag_chain.invoke({\"input\": query})\n",
    "print(result[\"answer\"])"
   ]
  },
  {
   "cell_type": "code",
   "execution_count": null,
   "metadata": {},
   "outputs": [],
   "source": []
  }
 ],
 "metadata": {
  "kernelspec": {
   "display_name": ".venv",
   "language": "python",
   "name": "python3"
  },
  "language_info": {
   "codemirror_mode": {
    "name": "ipython",
    "version": 3
   },
   "file_extension": ".py",
   "mimetype": "text/x-python",
   "name": "python",
   "nbconvert_exporter": "python",
   "pygments_lexer": "ipython3",
   "version": "3.12.9"
  }
 },
 "nbformat": 4,
 "nbformat_minor": 4
}
