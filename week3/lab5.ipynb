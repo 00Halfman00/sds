{
 "cells": [
  {
   "cell_type": "markdown",
   "metadata": {},
   "source": [
    "# Lab 5 - Three ways for Agents to Interact\n",
    "\n",
    "The 3 models:\n",
    "\n",
    "1. Separate calls to Runner.run()\n",
    "\n",
    "2. Agent Handoffs, turns within a Runner.run()\n",
    "\n",
    "    A -> B -> C\n",
    "\n",
    "3. Agents as Tools, turns within a Runner.run()\n",
    "\n",
    "    A -> B -> A\n",
    "\n",
    "\n",
    "Approach (1) is the least juicy & fashionable, but it's the one I recommend the most!\n",
    "\n",
    "Approach (2) seems really hard to make reliable.\n",
    "\n",
    "Approach (3) works OK with good enough prompts.."
   ]
  },
  {
   "cell_type": "code",
   "execution_count": 1,
   "metadata": {},
   "outputs": [
    {
     "data": {
      "text/plain": [
       "True"
      ]
     },
     "execution_count": 1,
     "metadata": {},
     "output_type": "execute_result"
    }
   ],
   "source": [
    "from agents import Agent, Runner, trace, handoff\n",
    "from IPython.display import Markdown, display\n",
    "from pydantic import BaseModel, Field\n",
    "from dotenv import load_dotenv\n",
    "load_dotenv(override=True)\n"
   ]
  },
  {
   "cell_type": "code",
   "execution_count": 2,
   "metadata": {},
   "outputs": [],
   "source": [
    "\n",
    "entrepreneur_instructions = \"You generate novel, exciting business ideas for Autonomous AI Agents\"\n",
    "entrepreneur_input = \"\"\"\n",
    "Propose one compelling business idea for applying Autonomous AI Agents to any industry you choose.\n",
    "The idea should be unique, high potential commercial impact, and make true use of the autonomous capabilities of AI Agents.\n",
    "\"\"\"\n",
    "\n",
    "evaluator_instructions = \"You evaluate novel, exciting business ideas for Autonomous AI Agents\"\n",
    "evaluator_input = \"Evaluate the following business idea; assess it for uniqueness, potential commercial impact, and use of Autonomous AI Agents:\\n\\n\""
   ]
  },
  {
   "cell_type": "markdown",
   "metadata": {},
   "source": [
    "## Now let's define 2 important Pydantic Objects to describe our Data"
   ]
  },
  {
   "cell_type": "code",
   "execution_count": 3,
   "metadata": {},
   "outputs": [],
   "source": [
    "class Idea(BaseModel):\n",
    "    title: str = Field(description=\"The title of the idea\")\n",
    "    description: str = Field(description=\"A detailed description of the idea, in Markdown\")\n",
    "\n",
    "    def print_summary(self):\n",
    "        print(f\"Title: {self.title}\")\n",
    "        display(Markdown(self.description))"
   ]
  },
  {
   "cell_type": "code",
   "execution_count": 4,
   "metadata": {},
   "outputs": [],
   "source": [
    "class Evaluation(BaseModel):\n",
    "    idea: Idea = Field(description=\"The idea that you are evaluating\")\n",
    "\n",
    "    uniqueness_feedback: str = Field(description=\"Your view on how unique the idea is\")\n",
    "    uniqueness_score: int = Field(description=\"How unique the idea is, on a scale of 1 to 10, where 1 is mundane and 10 is groundbreaking\")\n",
    "\n",
    "    commercial_feedback: str = Field(description=\"Your view on the commercial potential of the idea\")\n",
    "    commercial_score: int = Field(description=\"How high the commercial potential of the idea is from 1 to 10, where 1 is barely profitable and 10 is a billion dollar idea\")\n",
    "\n",
    "    autonomy_feedback: str = Field(description=\"Your commentary on to what extent the idea truly benefits from the autonomous nature of AI Agents\")\n",
    "    autonomy_score: int = Field(description=\"How deeply the idea involves autonomous agents from 1 to 10, where 1 is that it plays no meaningful role, and 10 is that it is pivotal\")\n",
    "\n",
    "    def is_brilliant(self):\n",
    "        return self.uniqueness_score > 8 and self.commercial_score > 8 and self.autonomy_score > 8\n",
    "\n",
    "    def print_summary(self):\n",
    "        print(f\"Idea: {self.idea.title}\")\n",
    "        print(f\"Uniqueness: {self.uniqueness_score}/10: ({self.uniqueness_feedback})\")\n",
    "        print(f\"Commercial: {self.commercial_score}/10: ({self.commercial_feedback})\")\n",
    "        print(f\"Autonomy: {self.autonomy_score}/10: ({self.autonomy_feedback})\")"
   ]
  },
  {
   "cell_type": "markdown",
   "metadata": {},
   "source": [
    "## Approach 1 (Highly Recommended!) - Call Runner.run() separately"
   ]
  },
  {
   "cell_type": "code",
   "execution_count": 5,
   "metadata": {},
   "outputs": [
    {
     "name": "stdout",
     "output_type": "stream",
     "text": [
      "Title: Autonomous Real-Time Automated Construction Site Manager\n"
     ]
    },
    {
     "data": {
      "text/markdown": [
       "### Concept\n",
       "An Autonomous AI Agent that manages construction sites in real-time without human intervention, optimizing resource allocation, scheduling, safety, and workflow seamlessly.\n",
       "\n",
       "### How It Works\n",
       "- The AI integrates inputs from IoT sensors, drones, and wearable devices worn by workers to monitor progress, equipment status, and environmental conditions continuously.\n",
       "- It autonomously adjusts task assignments and schedules based on real-time data, delays, or safety concerns.\n",
       "- It directs autonomous construction robots and delivery drones to execute tasks such as material transport, concrete pouring, and structural assembly.\n",
       "- The AI proactively identifies potential risks, such as unsafe working conditions or resource shortages, and implements corrective measures dynamically.\n",
       "\n",
       "### Commercial Impact\n",
       "- Dramatically reduces delays and cost overruns by maintaining optimal workflows without extensive human oversight.\n",
       "- Enhances worker safety by constantly monitoring and mitigating hazards automatically.\n",
       "- Increases site productivity through 24/7 autonomous management and robot coordination.\n",
       "- Provides detailed real-time reporting and analytics, improving decision-making for construction firms.\n",
       "\n",
       "### Why Autonomous AI Agents?\n",
       "The complexity and dynamic nature of construction sites require real-time decision-making and orchestration across multiple domains. Autonomous AI agents uniquely offer continuous, adaptive control and coordination, enabling a truly hands-free site management solution — something impossible with traditional software or manual processes."
      ],
      "text/plain": [
       "<IPython.core.display.Markdown object>"
      ]
     },
     "metadata": {},
     "output_type": "display_data"
    }
   ],
   "source": [
    "entrepreneur = Agent(name=\"Entrepreneur\", model=\"gpt-4.1-mini\", instructions=entrepreneur_instructions, output_type=Idea)\n",
    "result = await Runner.run(entrepreneur, entrepreneur_input)\n",
    "idea = result.final_output_as(Idea)\n",
    "idea.print_summary()"
   ]
  },
  {
   "cell_type": "code",
   "execution_count": 6,
   "metadata": {},
   "outputs": [
    {
     "name": "stdout",
     "output_type": "stream",
     "text": [
      "Idea: Autonomous Real-Time Automated Construction Site Manager\n",
      "Uniqueness: 8/10: (The idea is highly unique as fully autonomous, real-time management of construction sites integrating robotics, IoT, and AI for dynamic decision-making has not yet been realized in the industry. While construction tech and AI management tools exist, comprehensive autonomy with real-time robotic orchestration and hazard mitigation is rare and innovative.)\n",
      "Commercial: 9/10: (This idea has strong commercial potential given the construction industry's scale and the persistent challenges with delays, cost overruns, and safety issues. Automating site management could yield significant cost savings and productivity gains, making it attractive to large construction firms and infrastructure projects globally. The upfront investment and technology integration complexity are challenges but the market impact could be substantial.)\n",
      "Autonomy: 10/10: (This concept leverages autonomous AI agents deeply, requiring them to operate continuously and independently to coordinate complex workflows, safety, and robotics on dynamic construction sites. Autonomy is pivotal here, as real-time adaptive control cannot be effectively managed by human operators or static software alone.)\n"
     ]
    }
   ],
   "source": [
    "evaluator = Agent(name=\"Evaluator\", model=\"gpt-4.1-mini\", instructions=evaluator_instructions, output_type=Evaluation)\n",
    "result = await Runner.run(evaluator, f\"{evaluator_input}{idea}\")\n",
    "evaluation = result.final_output_as(Evaluation)\n",
    "evaluation.print_summary()"
   ]
  },
  {
   "cell_type": "code",
   "execution_count": 7,
   "metadata": {},
   "outputs": [],
   "source": [
    "entrepreneur_latest = f\"You were originally given the following task:\\n\\n{entrepreneur_input}\\n\\n\"\n",
    "remaining_attempts = 4"
   ]
  },
  {
   "cell_type": "code",
   "execution_count": 8,
   "metadata": {},
   "outputs": [
    {
     "name": "stdout",
     "output_type": "stream",
     "text": [
      "Title: Autonomous Precision Forestry Management Agent\n"
     ]
    },
    {
     "data": {
      "text/markdown": [
       "### Concept\n",
       "An Autonomous AI Agent dedicated to managing commercial forestry operations with precision and minimal human oversight. It optimizes every stage from tree planting and growth monitoring to harvesting and sustainable forest regeneration.\n",
       "\n",
       "### How It Works\n",
       "- The AI continuously gathers data via satellite imagery, drone surveillance, soil sensors, and climate stations to assess tree health, growth rates, and environmental conditions.\n",
       "- It autonomously directs fleets of drones and ground robots to perform tasks such as targeted planting, pest control, thinning, and selective harvesting based on real-time analysis.\n",
       "- The agent dynamically adapts forestry schedules to weather patterns, fire risks, and disease outbreaks, minimizing losses and maximizing yield.\n",
       "- It ensures sustainable practices by monitoring biodiversity indicators and carbon sequestration, adjusting operations to align with ecological standards.\n",
       "\n",
       "### Commercial Impact\n",
       "- Increases timber yield and product quality through data-driven, precision forestry management.\n",
       "- Reduces operational costs by automating labor-intensive tasks and optimizing resource use.\n",
       "- Mitigates environmental risks and enhances compliance with sustainability regulations, opening market access to eco-conscious consumers and investors.\n",
       "- Provides actionable insights via real-time reporting dashboards, facilitating strategic decisions for forestry companies.\n",
       "\n",
       "### Why Autonomous AI Agents?\n",
       "The complexity and scale of forestry operations require adaptive, continuous decision-making in response to environmental variability. Autonomous agents enable uninterrupted, multi-modal control—integrating remote sensing, robotics, and ecological modeling—to optimize productivity while safeguarding forest health. This level of integrated autonomy is beyond manual or conventional software capabilities, making it a transformative solution for the forestry industry."
      ],
      "text/plain": [
       "<IPython.core.display.Markdown object>"
      ]
     },
     "metadata": {},
     "output_type": "display_data"
    },
    {
     "name": "stdout",
     "output_type": "stream",
     "text": [
      "Idea: Autonomous Precision Forestry Management Agent\n",
      "Uniqueness: 8/10: (This idea is fairly unique, combining multiple emerging technologies—autonomous drones, remote sensing, AI-driven decision-making, and sustainable forestry practices—into a unified autonomous agent specifically for precision forestry management. While individual components like drone monitoring or precision agriculture technologies exist, the comprehensive end-to-end automation and ecological integration at this scale and domain are not common today.)\n",
      "Commercial: 8/10: (The commercial potential is strong given the forestry industry's global scale, the increasing demand for sustainable timber products, and the rising costs of labor and regulatory compliance. Automation can yield significant operational savings and competitive advantages. Moreover, the emphasis on sustainability and ecological monitoring aligns well with emerging market and regulatory trends, potentially opening premium markets and financing opportunities.)\n",
      "Autonomy: 9/10: (The concept deeply leverages autonomous AI agents, utilizing continuous environmental data inputs to make dynamic, real-time decisions without human intervention. It coordinates multiple autonomous systems including drones and ground robots, applies advanced ecological models, and adapts to changing conditions autonomously. This centrality of autonomous agents in operational control and decision-making is integral and pivotal to the business idea.)\n",
      "Title: Autonomous AI-Driven Personalized Health Concierge Agent\n"
     ]
    },
    {
     "data": {
      "text/markdown": [
       "### Concept\n",
       "An Autonomous AI Agent that provides continuous, personalized health management and wellness optimization by integrating real-time biometric monitoring, lifestyle data, and medical history to autonomously coordinate preventive care, chronic condition management, and emergency interventions without constant human oversight.\n",
       "\n",
       "### How It Works\n",
       "- The agent collects data from wearable devices, at-home health sensors, and medical records, analyzing vitals, activity patterns, nutrition, sleep quality, and mental health indicators in real-time.\n",
       "- It autonomously generates and dynamically updates personalized health plans, including medication management, exercise routines, dietary adjustments, and stress reduction techniques based on evolving user data and medical guidelines.\n",
       "- The AI proactively schedules appointments, refills prescriptions, and coordinates communications between users and healthcare providers using natural language interfaces.\n",
       "- In case of detected anomalies or emergencies (e.g., arrhythmia, hypoglycemia, falls), the agent autonomously initiates alerts, contacts emergency services, or adapts care protocols instantly.\n",
       "- It employs machine learning models to predict health risks and suggests preventive actions, continuously learning and optimizing individual health outcomes.\n",
       "\n",
       "### Commercial Impact\n",
       "- Empowers users with personalized, proactive health management, reducing hospital visits and healthcare costs.\n",
       "- Improves chronic disease outcomes through precise adherence and timely interventions.\n",
       "- Alleviates healthcare system burdens by automating routine monitoring and coordination.\n",
       "- Creates new revenue streams via subscription services, partnerships with insurers, and integration with telemedicine platforms.\n",
       "\n",
       "### Why Autonomous AI Agents?\n",
       "Personal health management requires constant, context-aware monitoring and rapid response to subtle changes, beyond the capacity of manual tracking or static apps. Autonomous AI Agents uniquely combine continuous data assimilation, adaptive decision-making, and proactive communication across stakeholders, delivering truly personalized and timely care at scale. This autonomous orchestration transforms reactive healthcare into a seamlessly integrated, anticipatory system."
      ],
      "text/plain": [
       "<IPython.core.display.Markdown object>"
      ]
     },
     "metadata": {},
     "output_type": "display_data"
    },
    {
     "name": "stdout",
     "output_type": "stream",
     "text": [
      "Idea: Autonomous AI-Driven Personalized Health Concierge Agent\n",
      "Uniqueness: 8/10: (The idea leverages a comprehensive and autonomous approach to personalized health management, combining multiple data sources and proactive healthcare coordination in real time. While elements like health monitoring apps, predictive analytics, and telemedicine exist individually, integrating these into a fully autonomous, continuous, and personalized concierge system that can also autonomously handle emergencies and coordinate care is relatively novel and ambitious. This sets it apart from many current solutions that often require significant human intervention or operate in silos.)\n",
      "Commercial: 9/10: (The commercial potential is very strong due to growing consumer interest in personalized health and wellness, increasing adoption of wearable health tech, and the ongoing pressure to reduce healthcare costs. The model addresses key pain points for both consumers and healthcare systems. Multiple scalable revenue streams exist, including subscriptions, insurance partnerships, and integration with healthcare providers and telemedicine platforms. However, regulatory hurdles and trust/safety concerns could influence adoption and timelines.)\n",
      "Autonomy: 9/10: (Autonomy is central to this idea—the AI agent must operate continuously, independently analyze complex health data, make adaptive personalized decisions, coordinate with multiple parties, and respond autonomously to emergencies without human intervention. This goes well beyond passive or semi-autonomous tools into a fully autonomous health concierge role, showcasing a deep dependence on autonomous AI capabilities.)\n",
      "Title: Autonomous AI-Powered Adaptive Supply Chain Orchestrator\n"
     ]
    },
    {
     "data": {
      "text/markdown": [
       "### Concept\n",
       "An Autonomous AI Agent that autonomously manages and optimizes complex global supply chains in real-time, seamlessly coordinating logistics, inventory, demand forecasting, and supplier relationships to achieve unprecedented agility, cost efficiency, and resilience.\n",
       "\n",
       "### How It Works\n",
       "- The AI continuously ingests and analyzes heterogeneous data streams including supplier performance, shipment tracking, inventory levels, customer demand signals, geopolitical events, and weather forecasts.\n",
       "- It dynamically adjusts procurement, production scheduling, warehouse distribution, and transportation plans autonomously to preempt disruptions, optimize costs, and meet service-level targets.\n",
       "- The agent orchestrates autonomous vehicles, robotic warehouses, and smart contracts across suppliers and logistics providers to automate fulfillment workflows.\n",
       "- It proactively detects risks such as supplier delays, transportation bottlenecks, or sudden demand spikes and initiates corrective actions instantly without human intervention.\n",
       "- Utilizing reinforcement learning, the AI improves its decision policies over time based on historical outcomes and changing market conditions.\n",
       "\n",
       "### Commercial Impact\n",
       "- Dramatically reduces supply chain costs by maximizing asset utilization, minimizing inventory holding, and preventing disruptions.\n",
       "- Enhances speed and reliability of deliveries, improving customer satisfaction and competitive advantage.\n",
       "- Increases supply chain transparency and compliance through automated tracking and smart contract enforcement.\n",
       "- Enables rapid adaptation to market volatility, geopolitical risks, and emerging trends, safeguarding business continuity.\n",
       "- Unlocks new business models such as just-in-time manufacturing and mass customization through hyper-responsive supply orchestration.\n",
       "\n",
       "### Why Autonomous AI Agents?\n",
       "The inherent complexity and volatility in global supply chains require continuous, multi-layered decision-making that reacts instantly to fluctuating conditions. Autonomous AI Agents uniquely combine situational awareness, predictive analytics, and execution capabilities to operate a fully self-managed, adaptive supply chain ecosystem. This level of integrated autonomy surpasses manual oversight and static planning tools, making it a transformative game-changer for modern commerce."
      ],
      "text/plain": [
       "<IPython.core.display.Markdown object>"
      ]
     },
     "metadata": {},
     "output_type": "display_data"
    },
    {
     "name": "stdout",
     "output_type": "stream",
     "text": [
      "Idea: Autonomous AI-Powered Adaptive Supply Chain Orchestrator\n",
      "Uniqueness: 8/10: (The idea presents an ambitious integration of multiple advanced technologies and autonomous decision-making specifically tailored for global supply chain orchestration. While components like AI-driven supply chain optimization and robotic automation exist independently, combining them into a fully autonomous, self-managing supply chain orchestrator that leverages real-time heterogeneous data streams and reinforcement learning for continuous adaptation is quite novel. There are startups and solutions aiming at parts of this vision, but a comprehensive autonomous agent managing end-to-end global supply chains in real-time at this scale remains relatively unique.)\n",
      "Commercial: 9/10: (The commercial potential is very high. Supply chain inefficiencies cost global businesses trillions annually. An autonomous solution that can reduce costs, improve resilience, and enable new business models like just-in-time and mass customization would be extremely valuable across industries like manufacturing, retail, and logistics. Additionally, increasing demand for supply chain transparency and rapid adaptability due to geopolitical risks amplifies market readiness. Although implementation barriers are significant, the return on investment can justify widespread adoption, positioning this idea as a multi-billion dollar market opportunity.)\n",
      "Autonomy: 10/10: (The core value of the idea hinges on the autonomous nature of the AI agents. Real-time self-management, continuous multi-source data ingestion, risk detection, corrective action without human intervention, and autonomous orchestration of physical assets and digital contracts all require highly autonomous capabilities. The complexity and dynamic nature of supply chains make manual or even semi-automated approaches insufficient, and this idea correctly leverages autonomy to deliver transformative benefits. Therefore, autonomous AI agents are pivotal to this concept's success.)\n",
      "Title: Autonomous AI-Driven Dynamic Urban Infrastructure Resilience Manager\n"
     ]
    },
    {
     "data": {
      "text/markdown": [
       "### Concept\n",
       "An Autonomous AI Agent that continuously monitors, manages, and optimizes urban infrastructure systems—such as energy grids, water supply networks, transportation, and emergency services—to dynamically respond to environmental stresses, demand fluctuations, and incidents, thereby enhancing resilience, sustainability, and citizen safety without human intervention.\n",
       "\n",
       "### How It Works\n",
       "- The AI agent integrates real-time data from heterogeneous sources including IoT sensors embedded in infrastructure, satellite and drone imagery, social media feeds, and environmental sensors covering weather, pollution, and seismic activity.\n",
       "- It autonomously detects anomalies, potential failures, or stress points in infrastructure systems and dynamically reallocates resources, reroutes traffic/utilities, or initiates preventive maintenance tasks using autonomous drones, robots, and connected devices.\n",
       "- The agent coordinates cross-sector operations, such as adjusting energy distribution based on transportation demand or prioritizing water usage during emergencies, ensuring system-wide optimization.\n",
       "- In case of emergencies like natural disasters, accidents, or cyberattacks, it autonomously executes contingency plans, manages evacuation logistics, and orchestrates emergency response units to maximize public safety.\n",
       "- Employs continual learning to improve adaptive strategies based on past incident data, evolving urban growth patterns, and technological advances.\n",
       "\n",
       "### Commercial Impact\n",
       "- Reduces downtime and costly infrastructure failures by proactively managing and mitigating risks.\n",
       "- Enhances operational efficiency and reduces energy/resource waste through intelligent demand-supply balancing.\n",
       "- Improves public safety and disaster response effectiveness, reducing economic and human losses.\n",
       "- Enables cities to comply with sustainability and resilience regulations, attracting investment and improving citizen satisfaction.\n",
       "- Creates new market opportunities in smart city services, infrastructure management platforms, and insurance risk analytics.\n",
       "\n",
       "### Why Autonomous AI Agents?\n",
       "Urban infrastructure systems are highly interconnected, complex, and subject to rapidly changing conditions that exceed human monitoring and control capabilities. Autonomous AI Agents provide continuous, holistic situational awareness and execute real-time, cross-domain decisions and physical interventions without latency or fatigue. This autonomous orchestration across multiple infrastructures transforms urban resilience management from reactive and siloed to proactive, integrated, and adaptive—delivering unprecedented reliability and sustainability."
      ],
      "text/plain": [
       "<IPython.core.display.Markdown object>"
      ]
     },
     "metadata": {},
     "output_type": "display_data"
    },
    {
     "name": "stdout",
     "output_type": "stream",
     "text": [
      "Idea: Autonomous AI-Driven Dynamic Urban Infrastructure Resilience Manager\n",
      "Uniqueness: 9/10: (This idea stands out as highly unique because it proposes a comprehensive, fully autonomous system that integrates and manages multiple urban infrastructure domains simultaneously. While elements like smart grids, autonomous drones, and infrastructure monitoring exist individually, the concept of a unified AI agent dynamically orchestrating cross-sector infrastructure resilience autonomously and in real-time is rare and innovative.)\n",
      "Commercial: 8/10: (The commercial potential is substantial, given the growing global focus on smart cities, climate resilience, and infrastructure modernization. Such a system could save municipalities billions by reducing failures and optimizing resource use, improve public safety, and create new markets in technology and services. However, the complexity, regulatory hurdles, and high integration costs might delay adoption. Over time, the scalable benefits make it a compelling billion-dollar opportunity.)\n",
      "Autonomy: 10/10: (Autonomy is central to this idea—continuous, automated decision-making and physical intervention without human input in complex, interdependent infrastructure systems is pivotal. The agent must independently analyze diverse real-time data, learn adaptively, and coordinate multi-agent actions (e.g., drones, grid control systems) to effectively manage resilience. The concept leverages core strengths of autonomous AI agents fully.)\n"
     ]
    }
   ],
   "source": [
    "with trace(\"Entrepreneur Approach 1\"):\n",
    "    while not evaluation.is_brilliant() and remaining_attempts:\n",
    "        remaining_attempts -= 1\n",
    "        entrepreneur_latest += f\"You responded with this idea:\\n\\n{idea}\\n\\nYou received this feedback:\\n\\n{evaluation}\\n\\n\"\n",
    "        entrepreneur_latest += \"Now respond with an improved idea that adresses the feedback. Do not directly reference the feedback.\\n\\n\"\n",
    "        result = await Runner.run(entrepreneur, entrepreneur_latest)\n",
    "        idea = result.final_output_as(Idea)\n",
    "        idea.print_summary()\n",
    "        result = await Runner.run(evaluator, f\"{evaluator_input}{idea}\")\n",
    "        evaluation = result.final_output_as(Evaluation)\n",
    "        evaluation.print_summary()"
   ]
  },
  {
   "cell_type": "markdown",
   "metadata": {},
   "source": [
    "## Approach 2 - Handoff\n",
    "\n",
    "This seems to be the more unpredictable of the approaches, and I struggle to get it to ever handoff more than 1 loop.."
   ]
  },
  {
   "cell_type": "code",
   "execution_count": 9,
   "metadata": {},
   "outputs": [],
   "source": [
    "entrepreneur_instructions = \"You generate novel, exciting business ideas for Autonomous AI Agents that you pass to the Evaluator to evaluate\"\n",
    "entrepreneur_input = \"\"\"\n",
    "Propose one compelling business idea for applying Autonomous AI Agents to any industry you choose.\n",
    "The idea should be unique, high potential commercial impact, and make true use of the autonomous capabilities of AI Agents.\n",
    "You MUST handoff your idea to the Evaluator to be evaluated by using the tool Handoff_to_Evaluator. You must always call this tool with your idea or an improved idea.\n",
    "\"\"\"\n",
    "\n",
    "evaluator_instructions = \"\"\"\n",
    "You evaluate novel, exciting business ideas for Autonomous AI Agents.\n",
    "Evaluate the business idea that you are given; assess it for uniqueness, potential commercial impact, and use of Autonomous AI Agents.\n",
    "If you would not score the idea 9/10 or 10/10 in all 3 categories, then you must handoff the idea back to the Entrepreneur to improve it by using the tool Handoff_to_Entrepreneur and providing your feedback.\n",
    "if you do score the idea 9/10 or better in all categories, then respond with the evaluation.\n",
    "\"\"\""
   ]
  },
  {
   "cell_type": "code",
   "execution_count": 11,
   "metadata": {},
   "outputs": [],
   "source": [
    "entrepreneur = Agent(name=\"Entrepreneur\", model=\"gpt-4.1-mini\", instructions=entrepreneur_instructions, output_type=Idea)\n",
    "evaluator = Agent(name=\"Evaluator\", model=\"gpt-4.1-mini\", instructions=evaluator_instructions, output_type=Evaluation)\n",
    "\n",
    "\n",
    "def on_handoff(ctx, input):\n",
    "    print(\"Handoff called\")\n",
    "\n",
    "entrepreneur.handoffs = [handoff(\n",
    "    agent=evaluator,\n",
    "    input_type=Idea,\n",
    "    on_handoff=on_handoff,\n",
    "    tool_name_override=\"Handoff_to_Evaluator\",\n",
    "    tool_description_override=\"Use this tool to handoff your idea to the Evaluator to evaluate. You must always call this tool.\"\n",
    ")]\n",
    "\n",
    "evaluator.handoffs = [handoff(\n",
    "    agent=entrepreneur,\n",
    "    input_type=Evaluation,\n",
    "    on_handoff=on_handoff,\n",
    "    tool_name_override=\"Handoff_to_Entrepreneur\",\n",
    "    tool_description_override=\"Use this tool to handoff your feedback to the Entrepreneur to improve the idea. You should call this tool if your feedback is less than 9/10 in any category.\"\n",
    ")]"
   ]
  },
  {
   "cell_type": "code",
   "execution_count": 12,
   "metadata": {},
   "outputs": [
    {
     "name": "stdout",
     "output_type": "stream",
     "text": [
      "Handoff called\n",
      "Handoff called\n"
     ]
    }
   ],
   "source": [
    "with trace(\"Entrepreneur Approach 2\"):\n",
    "    result = await Runner.run(entrepreneur, entrepreneur_input, max_turns=10)"
   ]
  },
  {
   "cell_type": "code",
   "execution_count": 13,
   "metadata": {},
   "outputs": [
    {
     "name": "stdout",
     "output_type": "stream",
     "text": [
      "Title: Autonomous AI Agent for Adaptive Urban Farming Management\n"
     ]
    },
    {
     "data": {
      "text/markdown": [
       "This business idea leverages Autonomous AI Agents to revolutionize urban farming by fully automating and optimizing indoor and rooftop farms in cities. The AI Agents will autonomously monitor and control all aspects of the farming environment — including light, temperature, humidity, nutrient delivery, and plant health — by using real-time sensor data and advanced predictive analytics. They will dynamically adapt resource allocation and farming schedules based on plant growth stages, weather forecasts, and market demand predictions.\n",
       "\n",
       "Key features and commercial impact:\n",
       "- Autonomous environmental control: AI Agents independently adjust conditions for optimal growth without human intervention.\n",
       "- Predictive crop management: Use AI to forecast harvest times and yields, enabling better supply chain planning.\n",
       "- Market-driven crop optimization: Agents select and prioritize crops based on real-time local market prices and consumer demand trends.\n",
       "- Resource efficiency: Drastically reduces water, energy, and nutrient waste through precise control.\n",
       "- Scalable modular farms: Autonomous management allows farms to scale with minimal incremental labor costs.\n",
       "- Urban and local food production: Minimizes transportation costs and carbon footprint by producing food closer to consumers.\n",
       "\n",
       "By applying autonomous AI in urban farming, this idea creates a high-impact solution addressing food security, sustainability, and urbanization challenges while tapping into the growing market for fresh, local produce. The autonomous capabilities allow continuous real-time optimization that human managers cannot achieve, ensuring maximum yield and profitability with minimal operational overhead."
      ],
      "text/plain": [
       "<IPython.core.display.Markdown object>"
      ]
     },
     "metadata": {},
     "output_type": "display_data"
    }
   ],
   "source": [
    "result.final_output.print_summary()"
   ]
  },
  {
   "cell_type": "markdown",
   "metadata": {},
   "source": [
    "## Approach 3 - Agents as Tools"
   ]
  },
  {
   "cell_type": "code",
   "execution_count": 14,
   "metadata": {},
   "outputs": [],
   "source": [
    "\n",
    "entrepreneur_instructions = \"You generate novel, exciting business ideas for Autonomous AI Agents\"\n",
    "entrepreneur_input = \"\"\"\n",
    "Propose one compelling business idea for applying Autonomous AI Agents to any industry you choose.\n",
    "The idea should be unique, high potential commercial impact, and make true use of the autonomous capabilities of AI Agents.\n",
    "You must call the Evaluator tool to Evaluate the idea. If the idea is not 9 or 10 in all 3 scores,\n",
    "then you must improve the idea and call the Evaluator tool again.\n",
    "Keep improving the idea and calling the Evaluator tool until you get a 9 or 10 in all 3 scores.\n",
    "Then finally respond with the idea.\n",
    "\"\"\"\n",
    "evaluator_instructions = \"\"\"\n",
    "You evaluate novel, exciting business ideas for Autonomous AI Agents.\n",
    "Evaluate the following business idea; assess it for uniqueness, potential commercial impact, and use of Autonomous AI Agents.\n",
    "\"\"\"\n",
    "\n"
   ]
  },
  {
   "cell_type": "code",
   "execution_count": 15,
   "metadata": {},
   "outputs": [],
   "source": [
    "evaluator = Agent(name=\"Evaluator\", model=\"gpt-4.1-mini\", instructions=evaluator_instructions, output_type=Evaluation)\n",
    "evaluator_tool = evaluator.as_tool(\n",
    "    tool_name=\"Evaluator_Idea_Evaluator\",\n",
    "    tool_description=\"Evaluates the idea for uniqueness, potential commercial impact, and use of Autonomous AI Agents\",\n",
    ")\n",
    "\n",
    "entrepreneur = Agent(name=\"Entrepreneur\", model=\"gpt-4.1-mini\", instructions=entrepreneur_instructions, output_type=Idea, tools=[evaluator_tool])"
   ]
  },
  {
   "cell_type": "code",
   "execution_count": 18,
   "metadata": {},
   "outputs": [
    {
     "name": "stdout",
     "output_type": "stream",
     "text": [
      "Agent(name='Entrepreneur', handoff_description=None, tools=[FunctionTool(name='Evaluator_Idea_Evaluator', description='Evaluates the idea for uniqueness, potential commercial impact, and use of Autonomous AI Agents', params_json_schema={'properties': {'input': {'title': 'Input', 'type': 'string'}}, 'required': ['input'], 'title': 'Evaluator_Idea_Evaluator_args', 'type': 'object', 'additionalProperties': False}, on_invoke_tool=<function function_tool.<locals>._create_function_tool.<locals>._on_invoke_tool at 0x11140ab60>, strict_json_schema=True, is_enabled=True, tool_input_guardrails=None, tool_output_guardrails=None)], mcp_servers=[], mcp_config={}, instructions='You generate novel, exciting business ideas for Autonomous AI Agents', prompt=None, handoffs=[], model='gpt-4.1-mini', model_settings=ModelSettings(temperature=None, top_p=None, frequency_penalty=None, presence_penalty=None, tool_choice=None, parallel_tool_calls=None, truncation=None, max_tokens=None, reasoning=None, verbosity=None, metadata=None, store=None, include_usage=None, response_include=None, top_logprobs=None, extra_query=None, extra_body=None, extra_headers=None, extra_args=None), input_guardrails=[], output_guardrails=[], output_type=<class '__main__.Idea'>, hooks=None, tool_use_behavior='run_llm_again', reset_tool_choice=True)\n"
     ]
    }
   ],
   "source": [
    "print(entrepreneur)"
   ]
  },
  {
   "cell_type": "code",
   "execution_count": 17,
   "metadata": {},
   "outputs": [
    {
     "name": "stdout",
     "output_type": "stream",
     "text": [
      "Agent(name='Evaluator', handoff_description=None, tools=[], mcp_servers=[], mcp_config={}, instructions='\\nYou evaluate novel, exciting business ideas for Autonomous AI Agents.\\nEvaluate the following business idea; assess it for uniqueness, potential commercial impact, and use of Autonomous AI Agents.\\n', prompt=None, handoffs=[], model='gpt-4.1-mini', model_settings=ModelSettings(temperature=None, top_p=None, frequency_penalty=None, presence_penalty=None, tool_choice=None, parallel_tool_calls=None, truncation=None, max_tokens=None, reasoning=None, verbosity=None, metadata=None, store=None, include_usage=None, response_include=None, top_logprobs=None, extra_query=None, extra_body=None, extra_headers=None, extra_args=None), input_guardrails=[], output_guardrails=[], output_type=<class '__main__.Evaluation'>, hooks=None, tool_use_behavior='run_llm_again', reset_tool_choice=True)\n"
     ]
    }
   ],
   "source": [
    "print(evaluator)"
   ]
  },
  {
   "cell_type": "code",
   "execution_count": 16,
   "metadata": {},
   "outputs": [
    {
     "name": "stdout",
     "output_type": "stream",
     "text": [
      "Title: Decentralized Autonomous Multi-Agent Network with Blockchain Marketplace for Smart Urban Farming\n"
     ]
    },
    {
     "data": {
      "text/markdown": [
       "This business idea involves a decentralized network of autonomous AI agent swarms that manage vertical farms across urban areas. Each AI swarm specializes in local farm operations such as planting, watering, pest control, and harvesting, while collaborating across farms to balance crop production based on city-wide demand forecasts and shared environmental data. The system incorporates a blockchain-based transparent marketplace enabling secure, traceable, and fair transactions of produce, resources, and bio-data between farms, local businesses, and consumers through smart contracts.\n",
       "\n",
       "The AI agents also autonomously curate personalized subscription produce boxes tailored to individual health data, preferences, and seasonal availability, thereby enhancing consumer engagement and fostering trust through end-to-end traceability from seed to sale. This fully autonomous ecosystem dynamically adapts to environmental changes, optimizes resource use and energy efficiency in urban settings, and creates diversified revenue streams through innovative decentralized commerce and personalized nutrition.\n",
       "\n",
       "By combining multi-agent collaboration, blockchain transparency, AI-driven personalization, and urban sustainable farming, this idea offers a unique, high-impact, and scalable solution that reduces labor costs, enhances sustainability, and meets growing urban demand for fresh, local, and nutritious food."
      ],
      "text/plain": [
       "<IPython.core.display.Markdown object>"
      ]
     },
     "metadata": {},
     "output_type": "display_data"
    }
   ],
   "source": [
    "with trace(\"Entrepreneur Approach 3\"):\n",
    "    result = await Runner.run(entrepreneur, entrepreneur_input)\n",
    "    idea = result.final_output_as(Idea)\n",
    "    idea.print_summary()"
   ]
  },
  {
   "cell_type": "markdown",
   "metadata": {},
   "source": [
    "## OpenAI Traces\n",
    "\n",
    "We've been writing all this information to OpenAI traces, the 'observability' framework built into OpenAI.\n",
    "\n",
    "You can take a look at these traces here:\n",
    "\n",
    "https://platform.openai.com/traces\n",
    "\n",
    "There's also a nice way to visualize:"
   ]
  },
  {
   "cell_type": "code",
   "execution_count": 19,
   "metadata": {},
   "outputs": [
    {
     "data": {
      "image/svg+xml": [
       "<?xml version=\"1.0\" encoding=\"UTF-8\" standalone=\"no\"?>\n",
       "<!DOCTYPE svg PUBLIC \"-//W3C//DTD SVG 1.1//EN\"\n",
       " \"http://www.w3.org/Graphics/SVG/1.1/DTD/svg11.dtd\">\n",
       "<!-- Generated by graphviz version 12.2.1 (20241206.2353)\n",
       " -->\n",
       "<!-- Title: G Pages: 1 -->\n",
       "<svg width=\"366pt\" height=\"205pt\"\n",
       " viewBox=\"0.00 0.00 365.53 204.78\" xmlns=\"http://www.w3.org/2000/svg\" xmlns:xlink=\"http://www.w3.org/1999/xlink\">\n",
       "<g id=\"graph0\" class=\"graph\" transform=\"scale(1 1) rotate(0) translate(4 200.78)\">\n",
       "<title>G</title>\n",
       "<polygon fill=\"white\" stroke=\"none\" points=\"-4,4 -4,-200.78 361.53,-200.78 361.53,4 -4,4\"/>\n",
       "<!-- __start__ -->\n",
       "<g id=\"node1\" class=\"node\">\n",
       "<title>__start__</title>\n",
       "<ellipse fill=\"lightblue\" stroke=\"black\" cx=\"236.44\" cy=\"-179.98\" rx=\"51.09\" ry=\"16.79\"/>\n",
       "<text text-anchor=\"middle\" x=\"236.44\" y=\"-174.56\" font-family=\"Arial\" font-size=\"14.00\">__start__</text>\n",
       "</g>\n",
       "<!-- Entrepreneur -->\n",
       "<g id=\"node3\" class=\"node\">\n",
       "<title>Entrepreneur</title>\n",
       "<polygon fill=\"lightyellow\" stroke=\"black\" points=\"290.44,-127.19 182.44,-127.19 182.44,-69.59 290.44,-69.59 290.44,-127.19\"/>\n",
       "<text text-anchor=\"middle\" x=\"236.44\" y=\"-92.96\" font-family=\"Arial\" font-size=\"14.00\">Entrepreneur</text>\n",
       "</g>\n",
       "<!-- __start__&#45;&gt;Entrepreneur -->\n",
       "<g id=\"edge1\" class=\"edge\">\n",
       "<title>__start__&#45;&gt;Entrepreneur</title>\n",
       "<path fill=\"none\" stroke=\"black\" stroke-width=\"1.5\" d=\"M236.44,-162.87C236.44,-156.04 236.44,-147.74 236.44,-139.42\"/>\n",
       "<polygon fill=\"black\" stroke=\"black\" stroke-width=\"1.5\" points=\"239.94,-139.66 236.44,-129.66 232.94,-139.66 239.94,-139.66\"/>\n",
       "</g>\n",
       "<!-- __end__ -->\n",
       "<g id=\"node2\" class=\"node\">\n",
       "<title>__end__</title>\n",
       "<ellipse fill=\"lightblue\" stroke=\"black\" cx=\"48.44\" cy=\"-16.79\" rx=\"48.44\" ry=\"16.79\"/>\n",
       "<text text-anchor=\"middle\" x=\"48.44\" y=\"-11.37\" font-family=\"Arial\" font-size=\"14.00\">__end__</text>\n",
       "</g>\n",
       "<!-- Entrepreneur&#45;&gt;__end__ -->\n",
       "<g id=\"edge4\" class=\"edge\">\n",
       "<title>Entrepreneur&#45;&gt;__end__</title>\n",
       "<path fill=\"none\" stroke=\"black\" stroke-width=\"1.5\" d=\"M182.06,-74.37C152.45,-61.83 116.43,-46.58 89.25,-35.07\"/>\n",
       "<polygon fill=\"black\" stroke=\"black\" stroke-width=\"1.5\" points=\"90.85,-31.95 80.28,-31.27 88.12,-38.4 90.85,-31.95\"/>\n",
       "</g>\n",
       "<!-- Evaluator_Idea_Evaluator -->\n",
       "<g id=\"node4\" class=\"node\">\n",
       "<title>Evaluator_Idea_Evaluator</title>\n",
       "<ellipse fill=\"lightgreen\" stroke=\"black\" cx=\"236.44\" cy=\"-16.79\" rx=\"121.09\" ry=\"16.79\"/>\n",
       "<text text-anchor=\"middle\" x=\"236.44\" y=\"-11.37\" font-family=\"Arial\" font-size=\"14.00\">Evaluator_Idea_Evaluator</text>\n",
       "</g>\n",
       "<!-- Entrepreneur&#45;&gt;Evaluator_Idea_Evaluator -->\n",
       "<g id=\"edge2\" class=\"edge\">\n",
       "<title>Entrepreneur&#45;&gt;Evaluator_Idea_Evaluator</title>\n",
       "<path fill=\"none\" stroke=\"black\" stroke-width=\"1.5\" stroke-dasharray=\"1,5\" d=\"M229.94,-69.1C229.6,-61.64 229.6,-53.58 229.94,-46.11\"/>\n",
       "<polygon fill=\"black\" stroke=\"black\" stroke-width=\"1.5\" points=\"233.43,-46.45 230.71,-36.21 226.45,-45.91 233.43,-46.45\"/>\n",
       "</g>\n",
       "<!-- Evaluator_Idea_Evaluator&#45;&gt;Entrepreneur -->\n",
       "<g id=\"edge3\" class=\"edge\">\n",
       "<title>Evaluator_Idea_Evaluator&#45;&gt;Entrepreneur</title>\n",
       "<path fill=\"none\" stroke=\"black\" stroke-width=\"1.5\" stroke-dasharray=\"1,5\" d=\"M241.99,-33.94C242.77,-40.64 243.16,-48.75 243.19,-56.89\"/>\n",
       "<polygon fill=\"black\" stroke=\"black\" stroke-width=\"1.5\" points=\"239.69,-56.76 242.98,-66.83 246.69,-56.91 239.69,-56.76\"/>\n",
       "</g>\n",
       "</g>\n",
       "</svg>\n"
      ],
      "text/plain": [
       "<graphviz.sources.Source at 0x11155df90>"
      ]
     },
     "execution_count": 19,
     "metadata": {},
     "output_type": "execute_result"
    }
   ],
   "source": [
    "from agents.extensions.visualization import draw_graph\n",
    "draw_graph(entrepreneur)\n"
   ]
  },
  {
   "cell_type": "code",
   "execution_count": 20,
   "metadata": {},
   "outputs": [
    {
     "data": {
      "image/svg+xml": [
       "<?xml version=\"1.0\" encoding=\"UTF-8\" standalone=\"no\"?>\n",
       "<!DOCTYPE svg PUBLIC \"-//W3C//DTD SVG 1.1//EN\"\n",
       " \"http://www.w3.org/Graphics/SVG/1.1/DTD/svg11.dtd\">\n",
       "<!-- Generated by graphviz version 12.2.1 (20241206.2353)\n",
       " -->\n",
       "<!-- Title: G Pages: 1 -->\n",
       "<svg width=\"116pt\" height=\"205pt\"\n",
       " viewBox=\"0.00 0.00 116.00 204.78\" xmlns=\"http://www.w3.org/2000/svg\" xmlns:xlink=\"http://www.w3.org/1999/xlink\">\n",
       "<g id=\"graph0\" class=\"graph\" transform=\"scale(1 1) rotate(0) translate(4 200.78)\">\n",
       "<title>G</title>\n",
       "<polygon fill=\"white\" stroke=\"none\" points=\"-4,4 -4,-200.78 112,-200.78 112,4 -4,4\"/>\n",
       "<!-- __start__ -->\n",
       "<g id=\"node1\" class=\"node\">\n",
       "<title>__start__</title>\n",
       "<ellipse fill=\"lightblue\" stroke=\"black\" cx=\"54\" cy=\"-179.98\" rx=\"51.09\" ry=\"16.79\"/>\n",
       "<text text-anchor=\"middle\" x=\"54\" y=\"-174.56\" font-family=\"Arial\" font-size=\"14.00\">__start__</text>\n",
       "</g>\n",
       "<!-- Evaluator -->\n",
       "<g id=\"node3\" class=\"node\">\n",
       "<title>Evaluator</title>\n",
       "<polygon fill=\"lightyellow\" stroke=\"black\" points=\"108,-127.19 0,-127.19 0,-69.59 108,-69.59 108,-127.19\"/>\n",
       "<text text-anchor=\"middle\" x=\"54\" y=\"-92.96\" font-family=\"Arial\" font-size=\"14.00\">Evaluator</text>\n",
       "</g>\n",
       "<!-- __start__&#45;&gt;Evaluator -->\n",
       "<g id=\"edge1\" class=\"edge\">\n",
       "<title>__start__&#45;&gt;Evaluator</title>\n",
       "<path fill=\"none\" stroke=\"black\" stroke-width=\"1.5\" d=\"M54,-162.87C54,-156.04 54,-147.74 54,-139.42\"/>\n",
       "<polygon fill=\"black\" stroke=\"black\" stroke-width=\"1.5\" points=\"57.5,-139.66 54,-129.66 50.5,-139.66 57.5,-139.66\"/>\n",
       "</g>\n",
       "<!-- __end__ -->\n",
       "<g id=\"node2\" class=\"node\">\n",
       "<title>__end__</title>\n",
       "<ellipse fill=\"lightblue\" stroke=\"black\" cx=\"54\" cy=\"-16.79\" rx=\"48.44\" ry=\"16.79\"/>\n",
       "<text text-anchor=\"middle\" x=\"54\" y=\"-11.37\" font-family=\"Arial\" font-size=\"14.00\">__end__</text>\n",
       "</g>\n",
       "<!-- Evaluator&#45;&gt;__end__ -->\n",
       "<g id=\"edge2\" class=\"edge\">\n",
       "<title>Evaluator&#45;&gt;__end__</title>\n",
       "<path fill=\"none\" stroke=\"black\" stroke-width=\"1.5\" d=\"M54,-69.1C54,-61.64 54,-53.58 54,-46.11\"/>\n",
       "<polygon fill=\"black\" stroke=\"black\" stroke-width=\"1.5\" points=\"57.5,-46.21 54,-36.21 50.5,-46.21 57.5,-46.21\"/>\n",
       "</g>\n",
       "</g>\n",
       "</svg>\n"
      ],
      "text/plain": [
       "<graphviz.sources.Source at 0x11151b550>"
      ]
     },
     "execution_count": 20,
     "metadata": {},
     "output_type": "execute_result"
    }
   ],
   "source": [
    "from agents.extensions.visualization import draw_graph\n",
    "draw_graph(evaluator)\n"
   ]
  },
  {
   "cell_type": "code",
   "execution_count": null,
   "metadata": {},
   "outputs": [],
   "source": []
  }
 ],
 "metadata": {
  "kernelspec": {
   "display_name": ".venv",
   "language": "python",
   "name": "python3"
  },
  "language_info": {
   "codemirror_mode": {
    "name": "ipython",
    "version": 3
   },
   "file_extension": ".py",
   "mimetype": "text/x-python",
   "name": "python",
   "nbconvert_exporter": "python",
   "pygments_lexer": "ipython3",
   "version": "3.11.13"
  }
 },
 "nbformat": 4,
 "nbformat_minor": 2
}
