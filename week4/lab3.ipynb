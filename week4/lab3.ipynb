{
 "cells": [
  {
   "cell_type": "markdown",
   "metadata": {},
   "source": [
    "# Lab 3 - Enter the Model Context Protocol!"
   ]
  },
  {
   "cell_type": "code",
   "execution_count": 1,
   "metadata": {},
   "outputs": [],
   "source": [
    "from dotenv import load_dotenv\n",
    "from agents import Agent, Runner, trace\n",
    "from agents.mcp import MCPServerStdio\n",
    "import os\n",
    "load_dotenv(override=True)\n",
    "MODEL_NAME = \"gpt-4.1-mini\""
   ]
  },
  {
   "cell_type": "code",
   "execution_count": null,
   "metadata": {},
   "outputs": [],
   "source": [
    "fetch_params = {\"command\": \"uvx\", \"args\": [\"mcp-server-fetch\"]}\n",
    "\n",
    "async with MCPServerStdio(params=fetch_params, client_session_timeout_seconds=30) as fetch:\n",
    "    tools = await fetch.session.list_tools()\n",
    "\n",
    "tools.tools"
   ]
  },
  {
   "cell_type": "code",
   "execution_count": null,
   "metadata": {},
   "outputs": [],
   "source": [
    "playwright_params = {\"command\": \"npx\",\"args\": [ \"@playwright/mcp@latest\"]}\n",
    "\n",
    "async with MCPServerStdio(params=playwright_params, client_session_timeout_seconds=30) as playwright:\n",
    "    playwright_tools = await playwright.session.list_tools()\n",
    "\n",
    "playwright_tools.tools"
   ]
  },
  {
   "cell_type": "code",
   "execution_count": null,
   "metadata": {},
   "outputs": [],
   "source": [
    "sandbox_path = os.path.abspath(os.path.join(os.getcwd(), \"sandbox\"))\n",
    "files_params = {\"command\": \"npx\", \"args\": [\"-y\", \"@modelcontextprotocol/server-filesystem\", sandbox_path]}\n",
    "\n",
    "async with MCPServerStdio(params=files_params,client_session_timeout_seconds=30) as filesystem:\n",
    "    file_tools = await filesystem.session.list_tools()\n",
    "\n",
    "file_tools.tools"
   ]
  },
  {
   "cell_type": "code",
   "execution_count": 8,
   "metadata": {},
   "outputs": [],
   "source": [
    "instructions = \"You use your tools to navigate the web and write summaries to a file\"\n",
    "\n",
    "input = \"Bring up a browser, visit 3 different news sites, click on at least 1 story on each site, and write a summary of the news in markdown to a file news.md in the sandbox directory\""
   ]
  },
  {
   "cell_type": "code",
   "execution_count": null,
   "metadata": {},
   "outputs": [],
   "source": [
    "with trace(\"News\"):\n",
    "    async with MCPServerStdio(params=fetch_params, client_session_timeout_seconds=30) as fetch:\n",
    "        async with MCPServerStdio(params=files_params,client_session_timeout_seconds=30) as filesystem:\n",
    "            agent = Agent(name=\"News\", instructions=instructions, model=MODEL_NAME, mcp_servers=[fetch, filesystem])\n",
    "            result = await Runner.run(agent, input)\n",
    "            print(result.final_output)"
   ]
  },
  {
   "cell_type": "code",
   "execution_count": null,
   "metadata": {},
   "outputs": [],
   "source": [
    "with trace(\"News\"):\n",
    "    async with MCPServerStdio(params=playwright_params, client_session_timeout_seconds=30) as playwright:\n",
    "        async with MCPServerStdio(params=files_params,client_session_timeout_seconds=30) as filesystem:\n",
    "            agent = Agent(name=\"News\", instructions=instructions, model=MODEL_NAME, mcp_servers=[playwright, filesystem])\n",
    "            result = await Runner.run(agent, input)\n",
    "            print(result.final_output)"
   ]
  },
  {
   "cell_type": "code",
   "execution_count": null,
   "metadata": {},
   "outputs": [],
   "source": []
  }
 ],
 "metadata": {
  "kernelspec": {
   "display_name": ".venv",
   "language": "python",
   "name": "python3"
  },
  "language_info": {
   "codemirror_mode": {
    "name": "ipython",
    "version": 3
   },
   "file_extension": ".py",
   "mimetype": "text/x-python",
   "name": "python",
   "nbconvert_exporter": "python",
   "pygments_lexer": "ipython3",
   "version": "3.12.9"
  }
 },
 "nbformat": 4,
 "nbformat_minor": 2
}
