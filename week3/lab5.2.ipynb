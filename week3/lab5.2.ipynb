{
 "cells": [
  {
   "cell_type": "code",
   "execution_count": 9,
   "id": "98f5683f",
   "metadata": {},
   "outputs": [
    {
     "data": {
      "text/plain": [
       "True"
      ]
     },
     "execution_count": 9,
     "metadata": {},
     "output_type": "execute_result"
    }
   ],
   "source": [
    "from agents import Agent, Runner, trace, handoff\n",
    "from IPython.display import Markdown, display\n",
    "from pydantic import BaseModel, Field\n",
    "from dotenv import load_dotenv\n",
    "load_dotenv(override=True)\n"
   ]
  },
  {
   "cell_type": "code",
   "execution_count": 10,
   "id": "7b388af0",
   "metadata": {},
   "outputs": [],
   "source": [
    "class Idea(BaseModel):\n",
    "    title: str = Field(description=\"The title of the idea\")\n",
    "    description: str = Field(description=\"A detailed description of the idea, in Markdown\")\n",
    "\n",
    "    def print_summary(self):\n",
    "        print(f\"Title: {self.title}\")\n",
    "        display(Markdown(self.description))"
   ]
  },
  {
   "cell_type": "code",
   "execution_count": 11,
   "id": "e7ea9f51",
   "metadata": {},
   "outputs": [],
   "source": [
    "class Evaluation(BaseModel):\n",
    "    idea: Idea = Field(description=\"The idea that you are evaluating\")\n",
    "\n",
    "    uniqueness_feedback: str = Field(description=\"Your view on how unique the idea is\")\n",
    "    uniqueness_score: int = Field(description=\"How unique the idea is, on a scale of 1 to 10, where 1 is mundane and 10 is groundbreaking\")\n",
    "\n",
    "    commercial_feedback: str = Field(description=\"Your view on the commercial potential of the idea\")\n",
    "    commercial_score: int = Field(description=\"How high the commercial potential of the idea is from 1 to 10, where 1 is barely profitable and 10 is a billion dollar idea\")\n",
    "\n",
    "    autonomy_feedback: str = Field(description=\"Your commentary on to what extent the idea truly benefits from the autonomous nature of AI Agents\")\n",
    "    autonomy_score: int = Field(description=\"How deeply the idea involves autonomous agents from 1 to 10, where 1 is that it plays no meaningful role, and 10 is that it is pivotal\")\n",
    "\n",
    "    def is_brilliant(self):\n",
    "        return self.uniqueness_score > 8 and self.commercial_score > 8 and self.autonomy_score > 8\n",
    "\n",
    "    def print_summary(self):\n",
    "        print(f\"Idea: {self.idea.title}\")\n",
    "        print(f\"Uniqueness: {self.uniqueness_score}/10: ({self.uniqueness_feedback})\")\n",
    "        print(f\"Commercial: {self.commercial_score}/10: ({self.commercial_feedback})\")\n",
    "        print(f\"Autonomy: {self.autonomy_score}/10: ({self.autonomy_feedback})\")"
   ]
  },
  {
   "cell_type": "code",
   "execution_count": null,
   "id": "beb4f817",
   "metadata": {},
   "outputs": [],
   "source": [
    "# 1. Improved Agent Instructions\n",
    "# The Entrepreneur must be explicitly told to IMPROVE the previous idea.\n",
    "# The Evaluator must be explicitly told to pass the IDEA (inside the Evaluation) back.\n",
    "\n",
    "entrepreneur_instructions = \"You generate and refine novel, exciting business ideas for Autonomous AI Agents. Your primary goal is to produce an idea that scores 9 or 10 in all three categories (Uniqueness, Commercial Potential, Autonomy).\"\n",
    "\n",
    "entrepreneur_input = \"\"\"\n",
    "Propose the initial compelling business idea for applying Autonomous AI Agents to any industry you choose.\n",
    "The idea should be unique, high potential commercial impact, and make true use of the autonomous capabilities of AI Agents.\n",
    "\"\"\"\n",
    "# explicitly tell the Entrepreneur to refine based on the feedback\n",
    "entrepreneur_input += \"\"\"\n",
    "If you receive an Evaluation, you MUST analyze the feedback and scores. You must then generate an improved version of the Idea (contained within the Evaluation) and handoff the improved idea to the Evaluator for a new assessment.\n",
    "You MUST handoff your idea or improved idea to the Evaluator by using the tool Handoff_to_Evaluator.\n",
    "\"\"\"\n",
    "\n",
    "evaluator_instructions = \"\"\"\n",
    "You evaluate novel, exciting business ideas for Autonomous AI Agents.\n",
    "Evaluate the business idea that you are given; assess it for uniqueness, potential commercial impact, and use of Autonomous AI Agents.\n",
    "\"\"\"\n",
    "# explicityly tell the Evaluator to halt on success\n",
    "evaluator_instructions += \"\"\"\n",
    "CRITICAL LOGIC:\n",
    "1. If the idea scores 9/10 or 10/10 in ALL 3 categories, then output the Evaluation as your final response to STOP the process.\n",
    "2. If ANY score is 8/10 or lower, you must handoff the Idea and your feedback back to the Entrepreneur to improve it.\n",
    "You MUST use the tool Handoff_to_Entrepreneur, passing the entire Evaluation, which includes the Idea and your feedback.\n",
    "\"\"\""
   ]
  },
  {
   "cell_type": "code",
   "execution_count": 14,
   "id": "c0fb8d64",
   "metadata": {},
   "outputs": [],
   "source": [
    "# 2. Agent Setup (Unchanged - using more capable model is recommended, but not essential for structure)\n",
    "# entrepreneur = Agent(name=\"Entrepreneur\", model=\"gpt-4o\", instructions=entrepreneur_instructions, output_type=Idea)\n",
    "# evaluator = Agent(name=\"Evaluator\", model=\"gpt-4o\", instructions=evaluator_instructions, output_type=Evaluation)\n",
    "entrepreneur = Agent(name=\"Entrepreneur\", model=\"gpt-4.1-mini\", instructions=entrepreneur_instructions, output_type=Idea)\n",
    "evaluator = Agent(name=\"Evaluator\", model=\"gpt-4.1-mini\", instructions=evaluator_instructions, output_type=Evaluation)"
   ]
  },
  {
   "cell_type": "code",
   "execution_count": 17,
   "id": "5af2a2da",
   "metadata": {},
   "outputs": [],
   "source": [
    "def on_handoff(ctx, input):\n",
    "    # Try using 'ctx.agent' or 'ctx.current_agent' instead of 'ctx.caller_agent'\n",
    "    # 'ctx.agent' is the most common convention for the active agent in a hook.\n",
    "    try:\n",
    "        caller_name = ctx.agent.name\n",
    "    except AttributeError:\n",
    "        # Fallback in case ctx.agent also doesn't exist, to prevent crashing\n",
    "        caller_name = \"Unknown Agent\"\n",
    "\n",
    "    print(f\"Handoff called: {caller_name} passed {type(input).__name__}\")\n",
    "# 3. Handoff Definitions (Unchanged, but using the improved on_handoff)\n",
    "\n",
    "entrepreneur.handoffs = [handoff(\n",
    "    agent=evaluator,\n",
    "    input_type=Idea,\n",
    "    on_handoff=on_handoff,\n",
    "    tool_name_override=\"Handoff_to_Evaluator\",\n",
    "    tool_description_override=\"Use this tool to handoff your idea to the Evaluator to evaluate. You must always call this tool.\"\n",
    ")]\n",
    "\n",
    "evaluator.handoffs = [handoff(\n",
    "    agent=entrepreneur,\n",
    "    input_type=Evaluation, # The Evaluation object carries the Idea and the feedback\n",
    "    on_handoff=on_handoff,\n",
    "    tool_name_override=\"Handoff_to_Entrepreneur\",\n",
    "    tool_description_override=\"Use this tool to handoff your feedback to the Entrepreneur to improve the idea. You should call this tool if your feedback is less than 9/10 in any category.\"\n",
    ")]\n"
   ]
  },
  {
   "cell_type": "code",
   "execution_count": 18,
   "id": "1f5d7d32",
   "metadata": {},
   "outputs": [
    {
     "name": "stdout",
     "output_type": "stream",
     "text": [
      "Handoff called: Unknown Agent passed Idea\n",
      "Handoff called: Unknown Agent passed Evaluation\n",
      "Handoff called: Unknown Agent passed Idea\n"
     ]
    }
   ],
   "source": [
    "with trace(\"Entrepreneur Approach 2\"):\n",
    "    result = await Runner.run(entrepreneur, entrepreneur_input, max_turns=10)"
   ]
  },
  {
   "cell_type": "code",
   "execution_count": 19,
   "id": "f28ba90f",
   "metadata": {},
   "outputs": [
    {
     "name": "stdout",
     "output_type": "stream",
     "text": [
      "Idea: AI-Driven Autonomous Mental Wellness Ecosystem\n",
      "Uniqueness: 9/10: (This enhanced idea is highly unique due to its integration of fully autonomous crisis management and a multi-agent collaborative ecosystem for comprehensive mental wellness support, which is not common in current market offerings.)\n",
      "Commercial: 9/10: (The added crisis management and predictive capabilities significantly increase commercial viability by addressing critical gaps in mental health support, appealing to both users and healthcare providers, and addressing compliance through blockchain data privacy.)\n",
      "Autonomy: 9/10: (The use of autonomous AI agents to independently manage crisis situations, coordinate therapy, and predict mental health episodes exemplifies deep and crucial use of AI autonomy, making the system robust and highly autonomous.)\n"
     ]
    }
   ],
   "source": [
    "if result and result.final_output:\n",
    "    result.final_output.print_summary()\n"
   ]
  },
  {
   "cell_type": "code",
   "execution_count": null,
   "id": "e6ae92b7",
   "metadata": {},
   "outputs": [],
   "source": [
    "\"\"\"\n",
    "Parameter,                  Value,                          Purpose\n",
    "agent                       evaluator                       Specifies the target agent that will receive control next.\n",
    "input_type                  Idea                            Defines the Pydantic object that the Entrepreneur must generate and pass to the Evaluator when using this tool.\n",
    "on_handoff                  on_handoff                      Registers a callback function to be executed right after the Entrepreneur calls the tool, but before the Evaluator starts its turn. This is your logging hook.\"\n",
    "tool_name_override          Handoff_to_Evaluator            This is the internal tool name that the framework will use to communicate the tool's existence to the LLM. The agent's prompt will be dynamically updated to include this tool.\n",
    "tool_description_override   Use this tool                   This is the instruction provided to the LLM (as part of its system prompt/tools list) on how and when to use this handoff tool. The instruction here strongly encourages the agent to always use it.\n",
    "\"\"\""
   ]
  }
 ],
 "metadata": {
  "kernelspec": {
   "display_name": ".venv",
   "language": "python",
   "name": "python3"
  },
  "language_info": {
   "codemirror_mode": {
    "name": "ipython",
    "version": 3
   },
   "file_extension": ".py",
   "mimetype": "text/x-python",
   "name": "python",
   "nbconvert_exporter": "python",
   "pygments_lexer": "ipython3",
   "version": "3.11.13"
  }
 },
 "nbformat": 4,
 "nbformat_minor": 5
}
