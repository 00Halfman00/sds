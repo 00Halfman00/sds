{
 "cells": [
  {
   "cell_type": "markdown",
   "id": "67efb10f",
   "metadata": {},
   "source": [
    "# Welcome to the SuperDataScience AI Bootcamp!\n",
    "\n",
    "\n",
    "![Bootcamp](../assets/banner2.png)"
   ]
  },
  {
   "cell_type": "markdown",
   "id": "3ece7553",
   "metadata": {},
   "source": [
    "## AGENDA FOR TODAY\n",
    "\n",
    "### Part 1: Welcome!\n",
    "\n",
    "- Introductions\n",
    "- Judo Belts\n",
    "- Course Agenda\n",
    "- Themes of the course\n",
    "- Success\n",
    "\n",
    "### Part 2: Preliminaries\n",
    "\n",
    "- An HTTP call to a friend\n",
    "- The OpenAI Python Client Library\n",
    "- System Prompt vs User Prompt\n",
    "- OpenAI for non OpenAI & LLM as a Judge\n",
    "\n",
    "### Part 3: Foundations\n",
    "\n",
    "- The illusion of memory\n",
    "- Chat vs Reasoning; Training vs Inference scaling\n",
    "- Abstractions vs Routers\n",
    "- Temperature & inside inference\n",
    "- Multi-modal Gradio\n",
    "\n",
    "### <span style=\"color: purple;\">First - please open a Cursor Terminal and run `git pull` to pick up the latest code</span>"
   ]
  },
  {
   "cell_type": "markdown",
   "id": "6b9143cf",
   "metadata": {},
   "source": [
    "# Lab1: An HTTP call to a friend"
   ]
  },
  {
   "cell_type": "code",
   "execution_count": 1,
   "id": "270ba8c9",
   "metadata": {},
   "outputs": [],
   "source": [
    "message = \"Tell me a fun fact.\""
   ]
  },
  {
   "cell_type": "markdown",
   "id": "ce05876a",
   "metadata": {},
   "source": [
    "### <span style=\"color: green;\">Question: what is an \"Endpoint\"?</span>"
   ]
  },
  {
   "cell_type": "code",
   "execution_count": 2,
   "id": "f1c8240a",
   "metadata": {},
   "outputs": [],
   "source": [
    "# Start with imports\n",
    "\n",
    "import requests\n",
    "from dotenv import load_dotenv\n",
    "import os\n",
    "from IPython.display import display, Markdown"
   ]
  },
  {
   "cell_type": "code",
   "execution_count": 4,
   "id": "3ba15152",
   "metadata": {},
   "outputs": [
    {
     "name": "stdout",
     "output_type": "stream",
     "text": [
      "OpenAI API Key found and starts with sk\n"
     ]
    }
   ],
   "source": [
    "# Load the API key\n",
    "\n",
    "load_dotenv(override=True)\n",
    "api_key = os.getenv(\"OPENAI_API_KEY\")\n",
    "\n",
    "if api_key:\n",
    "    print(f\"OpenAI API Key found and starts with {api_key[:2]}\")\n",
    "else:\n",
    "    print(\"No OpenAI API Key found\")"
   ]
  },
  {
   "cell_type": "code",
   "execution_count": 5,
   "id": "81842b24",
   "metadata": {},
   "outputs": [],
   "source": [
    "# Making messages\n",
    "\n",
    "messages = [{\"role\": \"user\", \"content\": message}]"
   ]
  },
  {
   "cell_type": "code",
   "execution_count": null,
   "id": "804c2c98",
   "metadata": {},
   "outputs": [],
   "source": [
    "url = \"https://api.openai.com/v1/chat/completions\"\n",
    "\n",
    "headers = {\"Authorization\": f\"Bearer {api_key}\", \"Content-Type\": \"application/json\"}\n",
    "data = {\"model\": \"gpt-4.1-nano\", \"messages\": messages}\n",
    "\n",
    "response = requests.post(url, headers=headers, json=data)"
   ]
  },
  {
   "cell_type": "code",
   "execution_count": 7,
   "id": "278b3a78",
   "metadata": {},
   "outputs": [
    {
     "data": {
      "text/markdown": [
       "Here's a fun fact: Honey never spoils! Archaeologists have found pots of honey in ancient Egyptian tombs that are over 3,000 years old and still perfectly edible. Honey's natural preservatives and low moisture content make it an incredibly long-lasting food."
      ],
      "text/plain": [
       "<IPython.core.display.Markdown object>"
      ]
     },
     "metadata": {},
     "output_type": "display_data"
    }
   ],
   "source": [
    "# what came back?\n",
    "\n",
    "reply = response.json()[\"choices\"][0][\"message\"][\"content\"]\n",
    "display(Markdown(reply))"
   ]
  },
  {
   "cell_type": "code",
   "execution_count": 9,
   "id": "25fe06d4",
   "metadata": {},
   "outputs": [
    {
     "data": {
      "text/plain": [
       "{'id': 'chatcmpl-CLYLgZY5Ci7MEQpTLi0I492l2L3Cm',\n",
       " 'object': 'chat.completion',\n",
       " 'created': 1759252960,\n",
       " 'model': 'gpt-4.1-nano-2025-04-14',\n",
       " 'choices': [{'index': 0,\n",
       "   'message': {'role': 'assistant',\n",
       "    'content': \"Here's a fun fact: Honey never spoils! Archaeologists have found pots of honey in ancient Egyptian tombs that are over 3,000 years old and still perfectly edible. Honey's natural preservatives and low moisture content make it an incredibly long-lasting food.\",\n",
       "    'refusal': None,\n",
       "    'annotations': []},\n",
       "   'logprobs': None,\n",
       "   'finish_reason': 'stop'}],\n",
       " 'usage': {'prompt_tokens': 13,\n",
       "  'completion_tokens': 52,\n",
       "  'total_tokens': 65,\n",
       "  'prompt_tokens_details': {'cached_tokens': 0, 'audio_tokens': 0},\n",
       "  'completion_tokens_details': {'reasoning_tokens': 0,\n",
       "   'audio_tokens': 0,\n",
       "   'accepted_prediction_tokens': 0,\n",
       "   'rejected_prediction_tokens': 0}},\n",
       " 'service_tier': 'default',\n",
       " 'system_fingerprint': 'fp_04d3664870'}"
      ]
     },
     "metadata": {},
     "output_type": "display_data"
    }
   ],
   "source": [
    "display(response.json())"
   ]
  },
  {
   "cell_type": "code",
   "execution_count": 10,
   "id": "a2acff22",
   "metadata": {},
   "outputs": [
    {
     "data": {
      "text/plain": [
       "<Response [200]>"
      ]
     },
     "metadata": {},
     "output_type": "display_data"
    }
   ],
   "source": [
    "display(response)"
   ]
  },
  {
   "cell_type": "code",
   "execution_count": null,
   "id": "9967c569",
   "metadata": {},
   "outputs": [],
   "source": []
  }
 ],
 "metadata": {
  "kernelspec": {
   "display_name": ".venv",
   "language": "python",
   "name": "python3"
  },
  "language_info": {
   "codemirror_mode": {
    "name": "ipython",
    "version": 3
   },
   "file_extension": ".py",
   "mimetype": "text/x-python",
   "name": "python",
   "nbconvert_exporter": "python",
   "pygments_lexer": "ipython3",
   "version": "3.11.13"
  }
 },
 "nbformat": 4,
 "nbformat_minor": 5
}
